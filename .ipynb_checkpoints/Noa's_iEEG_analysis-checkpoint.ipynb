{
 "cells": [
  {
   "cell_type": "markdown",
   "id": "df7357d9-8232-4354-bfea-1f0ec4447fa6",
   "metadata": {},
   "source": [
    "# Noa's script for analyzing iEEG data of pyFR, FR1 or catFR"
   ]
  },
  {
   "cell_type": "code",
   "execution_count": 153,
   "id": "1f099fd9-2fe2-4318-948a-fb0cac4c3e95",
   "metadata": {},
   "outputs": [],
   "source": [
    "def getBadChannels(pairs,elec_cats,remove_soz_ictal):\n",
    "    # get the bad channels and soz/ictal/lesion channels from electrode_categories.txt files\n",
    "    bad_bp_mask = np.zeros(len(pairs))\n",
    "    if elec_cats != []:\n",
    "        if remove_soz_ictal == True:\n",
    "            bad_elecs = elec_cats['bad_channel'] + elec_cats['soz'] + elec_cats['interictal']\n",
    "        else:\n",
    "            bad_elecs = elec_cats['bad_channel']\n",
    "        for row_num in range(0,len(pairs)): \n",
    "            labels=pairs.iloc[row_num]['label']\n",
    "            elec_labels = labels.split('-')\n",
    "            if elec_labels[0] in bad_elecs or elec_labels[1] in bad_elecs:\n",
    "                bad_bp_mask[row_num] = 1\n",
    "    return bad_bp_mask"
   ]
  },
  {
   "cell_type": "code",
   "execution_count": 154,
   "id": "48df5329-8787-4c17-99d2-b1a7e9f093fa",
   "metadata": {},
   "outputs": [],
   "source": [
    " def getElecCats(reader):  \n",
    "    try:\n",
    "        elec_cats = reader.load('electrode_categories') # contains info about seizure onset zone, interictal spiking, broken leads.\n",
    "        bad_elec_status=str(len(elec_cats))+' electrode categories'\n",
    "    except:\n",
    "        bad_elec_status= 'failed loading electrode categories'\n",
    "        elec_cats = []\n",
    "    return elec_cats,bad_elec_status       \n",
    "    "
   ]
  },
  {
   "cell_type": "code",
   "execution_count": 155,
   "id": "189194cc-3eae-4f88-8eab-00be4564ce58",
   "metadata": {},
   "outputs": [],
   "source": [
    "# Specific subjects that need manual removal of electrodes\n",
    "def missing_channels(pairs,exp): \n",
    "    row_indx=[]\n",
    "    delete_chans=[]\n",
    "    missing_chans=[]\n",
    "    if sub == 'R1350D':\n",
    "        missing_chans= ['LAHCMD2-LAHCMD3', 'LAHCMD4-LAHCMD5', 'LAHCMD6-LAHCMD7', 'LAHCMD8-LAHCMD1', 'LPHCMD2-LPHCMD3', 'LPHCMD4-LPHCMD5', 'LPHCMD6-LPHCMD7', 'LPHCMD8-LPHCMD1']\n",
    "    elif sub == 'R1354E':\n",
    "        missing_chans= ['5Ldm1-5Ldm2', '5Ldm2-5Ldm3', '5Ldm3-5Ldm4', '5Ldm4-5Ldm5', '5Ldm5-5Ldm6', '5Ldm6-5Ldm7', '5Ldm7-5Ldm8', '5Ldm8-5Ldm9', '5Ldm9-5Ldm1', '25Ldm1-25Ldm2', '25Ldm2-25Ldm3', '25Ldm3-25Ldm4', '25Ldm4-25Ldm5', '25Ldm5-25Ldm6', '25Ldm6-25Ldm7', '25Ldm7-25Ldm8', '25Ldm8-25Ldm9', '25Ldm9-25Ldm1']\n",
    "    elif sub == 'R1368T':\n",
    "        missing_chans=['LBMicro1-LBMicro2', 'LBMicro2-LBMicro3', 'LBMicro3-LBMicro4', 'LBMicro4-LBMicro5', 'LBMicro5-LBMicro6', 'LBMicro6-LBMicro7', 'LBMicro7-LBMicro8', 'LBMicro8-LBMicro1']\n",
    "    elif sub=='R1387E':\n",
    "        missing_chans=['5Ld8-5Ld9', '5Ld10-5Ld11', '5Ld12-5Ld1', '5Ld14-5Ld15', '5Ld16-5Ld13']\n",
    "    elif sub=='R1393T' and exp=='catFR1':\n",
    "        missing_chans=['LBMI2-LBMI3', 'LBMI4-LBMI5', 'LBMI6-LBMI7', 'LBMI8-LBMI1', 'LBMI10-LBMI11', 'LBMI12-LBMI13', 'LBMI14-LBMI15', 'LBMI16-LBMI9']\n",
    "    elif sub == 'R1492J' and exp=='catFR1':\n",
    "        missing_chans=['LQA7-LQA8']\n",
    "    elif sub == 'R1525J' and exp=='catFR1':\n",
    "        missing_chans= ['RQ6-RQ7', 'LC10-LC11']\n",
    "    for row in range(0,len(pairs)):\n",
    "        labels=pairs['label'][row]\n",
    "        if labels in missing_chans:\n",
    "            delete_chans.append(row)\n",
    "            row_indx.append(row)\n",
    "    pairs=pairs.drop(axis=0,labels=delete_chans)\n",
    "    return pairs,row_indx"
   ]
  },
  {
   "cell_type": "code",
   "execution_count": 156,
   "id": "6604c3d3-18d6-476b-ab24-ea0fc6c2c1a1",
   "metadata": {},
   "outputs": [],
   "source": [
    "# list of subjects that their eeg is misaligned\n",
    "def correctEEGsubjects(sub):\n",
    "    import re\n",
    "    sub_num = [int(s) for s in re.findall(r'\\d+',sub)]\n",
    "    if sub_num[0]>=1397:\n",
    "        in_list = True\n",
    "    elif sub in ['R1379E','R1385E','R1387E','R1394E','R1402E','R1404E','R1396T','R1396T','R1395M','R1389J']:\n",
    "        in_list = True\n",
    "    else:\n",
    "        in_list = False\n",
    "    return in_list"
   ]
  },
  {
   "cell_type": "code",
   "execution_count": 178,
   "id": "d157fd61-3048-4df8-aa05-00b6b26b5c66",
   "metadata": {
    "collapsed": true,
    "jupyter": {
     "outputs_hidden": true
    },
    "tags": []
   },
   "outputs": [
    {
     "name": "stderr",
     "output_type": "stream",
     "text": [
      "/home1/noaherz/.conda/envs/cml3/lib/python3.7/site-packages/pandas/core/ops/array_ops.py:253: FutureWarning: elementwise comparison failed; returning scalar instead, but in the future will perform elementwise comparison\n",
      "  res_values = method(rvalues)\n",
      "/home1/noaherz/cmlreaders/cmlreaders/path_finder.py:239: MultiplePathsFoundWarning: Multiple files found: /data10/RAM/subjects/R1016M/docs/electrode_categories.txt\n",
      "/scratch/pwanda/electrode_categories/electrode_categories_R1016M.txt returning the first file found\n",
      "  warnings.warn(msg, MultiplePathsFoundWarning)\n",
      "/home1/noaherz/cmlreaders/cmlreaders/path_finder.py:239: MultiplePathsFoundWarning: Multiple files found: /protocols/r1/subjects/R1016M/localizations/0/montages/0/neuroradiology/current_processed/pairs.json\n",
      "/data/eeg/R1016M/tal/R1016M_talLocs_database_bipol.mat returning the first file found\n",
      "  warnings.warn(msg, MultiplePathsFoundWarning)\n",
      "/home1/noaherz/cmlreaders/cmlreaders/readers/electrodes.py:236: MissingCoordinatesWarning: Could not load MNI coordinates\n",
      "  \"Could not load MNI coordinates\"))\n",
      "/home1/noaherz/cmlreaders/cmlreaders/path_finder.py:239: MultiplePathsFoundWarning: Multiple files found: /protocols/r1/subjects/R1016M/experiments/catFR1/sessions/0/ephys/current_processed/sources.json\n",
      "/data/eeg/R1016M/eeg.noreref/params.txt returning the first file found\n",
      "  warnings.warn(msg, MultiplePathsFoundWarning)\n"
     ]
    },
    {
     "name": "stdout",
     "output_type": "stream",
     "text": [
      "subject R1016M session 0 has no electrodes in the hippocampus and was not included in the analysis\n",
      "Progress: 0 % done, subject:  R1016M\n"
     ]
    },
    {
     "name": "stderr",
     "output_type": "stream",
     "text": [
      "/home1/noaherz/.conda/envs/cml3/lib/python3.7/site-packages/numpy/core/fromnumeric.py:3335: RuntimeWarning: Mean of empty slice.\n",
      "  out=out, **kwargs)\n",
      "/home1/noaherz/.conda/envs/cml3/lib/python3.7/site-packages/numpy/core/_methods.py:161: RuntimeWarning: invalid value encountered in double_scalars\n",
      "  ret = ret.dtype.type(ret / rcount)\n",
      "/home1/noaherz/.conda/envs/cml3/lib/python3.7/site-packages/pandas/core/ops/array_ops.py:253: FutureWarning: elementwise comparison failed; returning scalar instead, but in the future will perform elementwise comparison\n",
      "  res_values = method(rvalues)\n",
      "/home1/noaherz/cmlreaders/cmlreaders/path_finder.py:239: MultiplePathsFoundWarning: Multiple files found: /data10/RAM/subjects/R1016M/docs/electrode_categories.txt\n",
      "/scratch/pwanda/electrode_categories/electrode_categories_R1016M.txt returning the first file found\n",
      "  warnings.warn(msg, MultiplePathsFoundWarning)\n",
      "/home1/noaherz/cmlreaders/cmlreaders/path_finder.py:239: MultiplePathsFoundWarning: Multiple files found: /protocols/r1/subjects/R1016M/localizations/0/montages/0/neuroradiology/current_processed/pairs.json\n",
      "/data/eeg/R1016M/tal/R1016M_talLocs_database_bipol.mat returning the first file found\n",
      "  warnings.warn(msg, MultiplePathsFoundWarning)\n",
      "/home1/noaherz/cmlreaders/cmlreaders/readers/electrodes.py:236: MissingCoordinatesWarning: Could not load MNI coordinates\n",
      "  \"Could not load MNI coordinates\"))\n",
      "/home1/noaherz/cmlreaders/cmlreaders/path_finder.py:239: MultiplePathsFoundWarning: Multiple files found: /protocols/r1/subjects/R1016M/experiments/catFR1/sessions/1/ephys/current_processed/sources.json\n",
      "/data/eeg/R1016M/eeg.noreref/params.txt returning the first file found\n",
      "  warnings.warn(msg, MultiplePathsFoundWarning)\n"
     ]
    },
    {
     "name": "stdout",
     "output_type": "stream",
     "text": [
      "subject R1016M session 1 has no electrodes in the hippocampus and was not included in the analysis\n",
      "Progress: 0 % done, subject:  R1016M\n"
     ]
    },
    {
     "name": "stderr",
     "output_type": "stream",
     "text": [
      "/home1/noaherz/.conda/envs/cml3/lib/python3.7/site-packages/pandas/core/ops/array_ops.py:253: FutureWarning: elementwise comparison failed; returning scalar instead, but in the future will perform elementwise comparison\n",
      "  res_values = method(rvalues)\n",
      "/home1/noaherz/cmlreaders/cmlreaders/path_finder.py:239: MultiplePathsFoundWarning: Multiple files found: /data10/RAM/subjects/R1021D/docs/electrode_categories.txt\n",
      "/scratch/pwanda/electrode_categories/electrode_categories_R1021D.txt returning the first file found\n",
      "  warnings.warn(msg, MultiplePathsFoundWarning)\n",
      "/home1/noaherz/cmlreaders/cmlreaders/path_finder.py:239: MultiplePathsFoundWarning: Multiple files found: /protocols/r1/subjects/R1021D/localizations/0/montages/0/neuroradiology/current_processed/pairs.json\n",
      "/data/eeg/R1021D/tal/R1021D_talLocs_database_bipol.mat returning the first file found\n",
      "  warnings.warn(msg, MultiplePathsFoundWarning)\n",
      "/home1/noaherz/cmlreaders/cmlreaders/readers/electrodes.py:236: MissingCoordinatesWarning: Could not load MNI coordinates\n",
      "  \"Could not load MNI coordinates\"))\n",
      "/home1/noaherz/cmlreaders/cmlreaders/path_finder.py:239: MultiplePathsFoundWarning: Multiple files found: /protocols/r1/subjects/R1021D/experiments/catFR1/sessions/0/ephys/current_processed/sources.json\n",
      "/data/eeg/R1021D/eeg.noreref/params.txt returning the first file found\n",
      "  warnings.warn(msg, MultiplePathsFoundWarning)\n"
     ]
    },
    {
     "name": "stdout",
     "output_type": "stream",
     "text": [
      "subject R1021D session 0 has no electrodes in the hippocampus and was not included in the analysis\n",
      "Progress: 0 % done, subject:  R1021D\n"
     ]
    },
    {
     "name": "stderr",
     "output_type": "stream",
     "text": [
      "/home1/noaherz/.conda/envs/cml3/lib/python3.7/site-packages/pandas/core/ops/array_ops.py:253: FutureWarning: elementwise comparison failed; returning scalar instead, but in the future will perform elementwise comparison\n",
      "  res_values = method(rvalues)\n",
      "/home1/noaherz/cmlreaders/cmlreaders/path_finder.py:239: MultiplePathsFoundWarning: Multiple files found: /data10/RAM/subjects/R1028M/docs/electrode_categories.txt\n",
      "/scratch/pwanda/electrode_categories/electrode_categories_R1028M.txt returning the first file found\n",
      "  warnings.warn(msg, MultiplePathsFoundWarning)\n",
      "/home1/noaherz/cmlreaders/cmlreaders/path_finder.py:239: MultiplePathsFoundWarning: Multiple files found: /protocols/r1/subjects/R1028M/localizations/0/montages/0/neuroradiology/current_processed/pairs.json\n",
      "/data/eeg/R1028M/tal/R1028M_talLocs_database_bipol.mat returning the first file found\n",
      "  warnings.warn(msg, MultiplePathsFoundWarning)\n",
      "/home1/noaherz/cmlreaders/cmlreaders/readers/electrodes.py:236: MissingCoordinatesWarning: Could not load MNI coordinates\n",
      "  \"Could not load MNI coordinates\"))\n",
      "/home1/noaherz/cmlreaders/cmlreaders/path_finder.py:239: MultiplePathsFoundWarning: Multiple files found: /protocols/r1/subjects/R1028M/experiments/catFR1/sessions/0/ephys/current_processed/sources.json\n",
      "/data/eeg/R1028M/eeg.noreref/params.txt returning the first file found\n",
      "  warnings.warn(msg, MultiplePathsFoundWarning)\n"
     ]
    },
    {
     "name": "stdout",
     "output_type": "stream",
     "text": [
      "subject R1028M session 0 has no electrodes in the hippocampus and was not included in the analysis\n",
      "Progress: 1 % done, subject:  R1028M\n"
     ]
    },
    {
     "name": "stderr",
     "output_type": "stream",
     "text": [
      "/home1/noaherz/.conda/envs/cml3/lib/python3.7/site-packages/pandas/core/ops/array_ops.py:253: FutureWarning: elementwise comparison failed; returning scalar instead, but in the future will perform elementwise comparison\n",
      "  res_values = method(rvalues)\n",
      "/home1/noaherz/cmlreaders/cmlreaders/path_finder.py:239: MultiplePathsFoundWarning: Multiple files found: /data10/RAM/subjects/R1028M/docs/electrode_categories.txt\n",
      "/scratch/pwanda/electrode_categories/electrode_categories_R1028M.txt returning the first file found\n",
      "  warnings.warn(msg, MultiplePathsFoundWarning)\n",
      "/home1/noaherz/cmlreaders/cmlreaders/path_finder.py:239: MultiplePathsFoundWarning: Multiple files found: /protocols/r1/subjects/R1028M/localizations/0/montages/0/neuroradiology/current_processed/pairs.json\n",
      "/data/eeg/R1028M/tal/R1028M_talLocs_database_bipol.mat returning the first file found\n",
      "  warnings.warn(msg, MultiplePathsFoundWarning)\n",
      "/home1/noaherz/cmlreaders/cmlreaders/readers/electrodes.py:236: MissingCoordinatesWarning: Could not load MNI coordinates\n",
      "  \"Could not load MNI coordinates\"))\n",
      "/home1/noaherz/cmlreaders/cmlreaders/path_finder.py:239: MultiplePathsFoundWarning: Multiple files found: /protocols/r1/subjects/R1028M/experiments/catFR1/sessions/1/ephys/current_processed/sources.json\n",
      "/data/eeg/R1028M/eeg.noreref/R1028M_28Feb15_1020.params.txt\n",
      "/data/eeg/R1028M/eeg.noreref/params.txt returning the first file found\n",
      "  warnings.warn(msg, MultiplePathsFoundWarning)\n"
     ]
    },
    {
     "name": "stdout",
     "output_type": "stream",
     "text": [
      "subject R1028M session 1 has no electrodes in the hippocampus and was not included in the analysis\n",
      "Progress: 1 % done, subject:  R1028M\n"
     ]
    },
    {
     "name": "stderr",
     "output_type": "stream",
     "text": [
      "/home1/noaherz/.conda/envs/cml3/lib/python3.7/site-packages/pandas/core/ops/array_ops.py:253: FutureWarning: elementwise comparison failed; returning scalar instead, but in the future will perform elementwise comparison\n",
      "  res_values = method(rvalues)\n",
      "/home1/noaherz/cmlreaders/cmlreaders/path_finder.py:239: MultiplePathsFoundWarning: Multiple files found: /data10/RAM/subjects/R1035M/docs/electrode_categories.txt\n",
      "/scratch/pwanda/electrode_categories/electrode_categories_R1035M.txt returning the first file found\n",
      "  warnings.warn(msg, MultiplePathsFoundWarning)\n",
      "/home1/noaherz/cmlreaders/cmlreaders/path_finder.py:239: MultiplePathsFoundWarning: Multiple files found: /protocols/r1/subjects/R1035M/localizations/0/montages/0/neuroradiology/current_processed/pairs.json\n",
      "/data/eeg/R1035M/tal/R1035M_talLocs_database_bipol.mat returning the first file found\n",
      "  warnings.warn(msg, MultiplePathsFoundWarning)\n",
      "/home1/noaherz/cmlreaders/cmlreaders/readers/electrodes.py:236: MissingCoordinatesWarning: Could not load MNI coordinates\n",
      "  \"Could not load MNI coordinates\"))\n",
      "/home1/noaherz/cmlreaders/cmlreaders/path_finder.py:239: MultiplePathsFoundWarning: Multiple files found: /protocols/r1/subjects/R1035M/experiments/catFR1/sessions/0/ephys/current_processed/sources.json\n",
      "/data/eeg/R1035M/eeg.noreref/params.txt returning the first file found\n",
      "  warnings.warn(msg, MultiplePathsFoundWarning)\n",
      "/home1/noaherz/.conda/envs/cml3/lib/python3.7/site-packages/ptsa/data/timeseries.py:487: FutureWarning: xarray subclass TimeSeriesX should explicitly define __slots__\n",
      "  class TimeSeriesX(TimeSeries):\n"
     ]
    },
    {
     "name": "stdout",
     "output_type": "stream",
     "text": [
      "CPP total time wavelet loop:  8.112464427947998\n",
      "Progress: 1 % done, subject:  R1035M\n"
     ]
    },
    {
     "name": "stderr",
     "output_type": "stream",
     "text": [
      "/home1/noaherz/.conda/envs/cml3/lib/python3.7/site-packages/pandas/core/ops/array_ops.py:253: FutureWarning: elementwise comparison failed; returning scalar instead, but in the future will perform elementwise comparison\n",
      "  res_values = method(rvalues)\n",
      "/home1/noaherz/cmlreaders/cmlreaders/path_finder.py:239: MultiplePathsFoundWarning: Multiple files found: /data10/RAM/subjects/R1036M/docs/electrode_categories.txt\n",
      "/scratch/pwanda/electrode_categories/electrode_categories_R1036M.txt returning the first file found\n",
      "  warnings.warn(msg, MultiplePathsFoundWarning)\n",
      "/home1/noaherz/cmlreaders/cmlreaders/path_finder.py:239: MultiplePathsFoundWarning: Multiple files found: /protocols/r1/subjects/R1036M/localizations/0/montages/0/neuroradiology/current_processed/pairs.json\n",
      "/data/eeg/R1036M/tal/R1036M_talLocs_database_bipol.mat returning the first file found\n",
      "  warnings.warn(msg, MultiplePathsFoundWarning)\n",
      "/home1/noaherz/cmlreaders/cmlreaders/readers/electrodes.py:236: MissingCoordinatesWarning: Could not load MNI coordinates\n",
      "  \"Could not load MNI coordinates\"))\n",
      "/home1/noaherz/cmlreaders/cmlreaders/path_finder.py:239: MultiplePathsFoundWarning: Multiple files found: /protocols/r1/subjects/R1036M/experiments/catFR1/sessions/0/ephys/current_processed/sources.json\n",
      "/data/eeg/R1036M/eeg.noreref/params.txt returning the first file found\n",
      "  warnings.warn(msg, MultiplePathsFoundWarning)\n"
     ]
    },
    {
     "name": "stdout",
     "output_type": "stream",
     "text": [
      "subject R1036M session 0 has no electrodes in the hippocampus and was not included in the analysis\n",
      "Progress: 1 % done, subject:  R1036M\n"
     ]
    },
    {
     "name": "stderr",
     "output_type": "stream",
     "text": [
      "/home1/noaherz/.conda/envs/cml3/lib/python3.7/site-packages/numpy/core/fromnumeric.py:3335: RuntimeWarning: Mean of empty slice.\n",
      "  out=out, **kwargs)\n",
      "/home1/noaherz/.conda/envs/cml3/lib/python3.7/site-packages/numpy/core/_methods.py:161: RuntimeWarning: invalid value encountered in double_scalars\n",
      "  ret = ret.dtype.type(ret / rcount)\n",
      "/home1/noaherz/.conda/envs/cml3/lib/python3.7/site-packages/pandas/core/ops/array_ops.py:253: FutureWarning: elementwise comparison failed; returning scalar instead, but in the future will perform elementwise comparison\n",
      "  res_values = method(rvalues)\n",
      "/home1/noaherz/cmlreaders/cmlreaders/path_finder.py:239: MultiplePathsFoundWarning: Multiple files found: /data10/RAM/subjects/R1039M/docs/electrode_categories.txt\n",
      "/scratch/pwanda/electrode_categories/electrode_categories_R1039M.txt returning the first file found\n",
      "  warnings.warn(msg, MultiplePathsFoundWarning)\n",
      "/home1/noaherz/cmlreaders/cmlreaders/path_finder.py:239: MultiplePathsFoundWarning: Multiple files found: /protocols/r1/subjects/R1039M/localizations/0/montages/0/neuroradiology/current_processed/pairs.json\n",
      "/data/eeg/R1039M/tal/R1039M_talLocs_database_bipol.mat returning the first file found\n",
      "  warnings.warn(msg, MultiplePathsFoundWarning)\n",
      "/home1/noaherz/cmlreaders/cmlreaders/readers/electrodes.py:236: MissingCoordinatesWarning: Could not load MNI coordinates\n",
      "  \"Could not load MNI coordinates\"))\n",
      "/home1/noaherz/cmlreaders/cmlreaders/path_finder.py:239: MultiplePathsFoundWarning: Multiple files found: /protocols/r1/subjects/R1039M/experiments/catFR1/sessions/0/ephys/current_processed/sources.json\n",
      "/data/eeg/R1039M/eeg.noreref/params.txt returning the first file found\n",
      "  warnings.warn(msg, MultiplePathsFoundWarning)\n"
     ]
    },
    {
     "name": "stdout",
     "output_type": "stream",
     "text": [
      "subject R1039M session 0 has no electrodes in the hippocampus and was not included in the analysis\n",
      "Progress: 2 % done, subject:  R1039M\n"
     ]
    },
    {
     "name": "stderr",
     "output_type": "stream",
     "text": [
      "/home1/noaherz/.conda/envs/cml3/lib/python3.7/site-packages/numpy/core/fromnumeric.py:3335: RuntimeWarning: Mean of empty slice.\n",
      "  out=out, **kwargs)\n",
      "/home1/noaherz/.conda/envs/cml3/lib/python3.7/site-packages/numpy/core/_methods.py:161: RuntimeWarning: invalid value encountered in double_scalars\n",
      "  ret = ret.dtype.type(ret / rcount)\n",
      "/home1/noaherz/.conda/envs/cml3/lib/python3.7/site-packages/pandas/core/ops/array_ops.py:253: FutureWarning: elementwise comparison failed; returning scalar instead, but in the future will perform elementwise comparison\n",
      "  res_values = method(rvalues)\n",
      "/home1/noaherz/cmlreaders/cmlreaders/path_finder.py:239: MultiplePathsFoundWarning: Multiple files found: /data10/RAM/subjects/R1045E/docs/electrode_categories.txt\n",
      "/scratch/pwanda/electrode_categories/electrode_categories_R1045E.txt returning the first file found\n",
      "  warnings.warn(msg, MultiplePathsFoundWarning)\n",
      "/home1/noaherz/cmlreaders/cmlreaders/path_finder.py:239: MultiplePathsFoundWarning: Multiple files found: /protocols/r1/subjects/R1045E/localizations/0/montages/0/neuroradiology/current_processed/pairs.json\n",
      "/data/eeg/R1045E/tal/R1045E_talLocs_database_bipol.mat returning the first file found\n",
      "  warnings.warn(msg, MultiplePathsFoundWarning)\n",
      "/home1/noaherz/cmlreaders/cmlreaders/readers/electrodes.py:236: MissingCoordinatesWarning: Could not load MNI coordinates\n",
      "  \"Could not load MNI coordinates\"))\n",
      "/home1/noaherz/cmlreaders/cmlreaders/path_finder.py:239: MultiplePathsFoundWarning: Multiple files found: /protocols/r1/subjects/R1045E/experiments/catFR1/sessions/0/ephys/current_processed/sources.json\n",
      "/data/eeg/R1045E/eeg.noreref/params.txt returning the first file found\n",
      "  warnings.warn(msg, MultiplePathsFoundWarning)\n"
     ]
    },
    {
     "name": "stdout",
     "output_type": "stream",
     "text": [
      "CPP total time wavelet loop:  20.762150049209595\n",
      "Progress: 2 % done, subject:  R1045E\n"
     ]
    },
    {
     "name": "stderr",
     "output_type": "stream",
     "text": [
      "/home1/noaherz/.conda/envs/cml3/lib/python3.7/site-packages/pandas/core/ops/array_ops.py:253: FutureWarning: elementwise comparison failed; returning scalar instead, but in the future will perform elementwise comparison\n",
      "  res_values = method(rvalues)\n",
      "/home1/noaherz/cmlreaders/cmlreaders/path_finder.py:239: MultiplePathsFoundWarning: Multiple files found: /data10/RAM/subjects/R1045E/docs/electrode_categories.txt\n",
      "/scratch/pwanda/electrode_categories/electrode_categories_R1045E.txt returning the first file found\n",
      "  warnings.warn(msg, MultiplePathsFoundWarning)\n",
      "/home1/noaherz/cmlreaders/cmlreaders/path_finder.py:239: MultiplePathsFoundWarning: Multiple files found: /protocols/r1/subjects/R1045E/localizations/0/montages/0/neuroradiology/current_processed/pairs.json\n",
      "/data/eeg/R1045E/tal/R1045E_talLocs_database_bipol.mat returning the first file found\n",
      "  warnings.warn(msg, MultiplePathsFoundWarning)\n",
      "/home1/noaherz/cmlreaders/cmlreaders/readers/electrodes.py:236: MissingCoordinatesWarning: Could not load MNI coordinates\n",
      "  \"Could not load MNI coordinates\"))\n",
      "/home1/noaherz/cmlreaders/cmlreaders/path_finder.py:239: MultiplePathsFoundWarning: Multiple files found: /protocols/r1/subjects/R1045E/experiments/catFR1/sessions/1/ephys/current_processed/sources.json\n",
      "/data/eeg/R1045E/eeg.noreref/params.txt returning the first file found\n",
      "  warnings.warn(msg, MultiplePathsFoundWarning)\n"
     ]
    },
    {
     "name": "stdout",
     "output_type": "stream",
     "text": [
      "CPP total time wavelet loop:  25.13951301574707\n",
      "Progress: 2 % done, subject:  R1045E\n"
     ]
    },
    {
     "name": "stderr",
     "output_type": "stream",
     "text": [
      "/home1/noaherz/.conda/envs/cml3/lib/python3.7/site-packages/pandas/core/ops/array_ops.py:253: FutureWarning: elementwise comparison failed; returning scalar instead, but in the future will perform elementwise comparison\n",
      "  res_values = method(rvalues)\n",
      "/home1/noaherz/cmlreaders/cmlreaders/path_finder.py:239: MultiplePathsFoundWarning: Multiple files found: /data10/RAM/subjects/R1061T/docs/electrode_categories.txt\n",
      "/scratch/pwanda/electrode_categories/electrode_categories_R1061T.txt returning the first file found\n",
      "  warnings.warn(msg, MultiplePathsFoundWarning)\n",
      "/home1/noaherz/cmlreaders/cmlreaders/path_finder.py:239: MultiplePathsFoundWarning: Multiple files found: /protocols/r1/subjects/R1061T/localizations/0/montages/0/neuroradiology/current_processed/pairs.json\n",
      "/data/eeg/R1061T/tal/R1061T_talLocs_database_bipol.mat returning the first file found\n",
      "  warnings.warn(msg, MultiplePathsFoundWarning)\n",
      "/home1/noaherz/cmlreaders/cmlreaders/readers/electrodes.py:236: MissingCoordinatesWarning: Could not load MNI coordinates\n",
      "  \"Could not load MNI coordinates\"))\n",
      "/home1/noaherz/cmlreaders/cmlreaders/path_finder.py:239: MultiplePathsFoundWarning: Multiple files found: /protocols/r1/subjects/R1061T/experiments/catFR1/sessions/0/ephys/current_processed/sources.json\n",
      "/data/eeg/R1061T/eeg.noreref/R1061T_B_10Jul15_1621.params.txt\n",
      "/data/eeg/R1061T/eeg.noreref/params.txt returning the first file found\n",
      "  warnings.warn(msg, MultiplePathsFoundWarning)\n"
     ]
    },
    {
     "name": "stdout",
     "output_type": "stream",
     "text": [
      "CPP total time wavelet loop:  26.7708899974823\n",
      "Progress: 2 % done, subject:  R1061T\n"
     ]
    },
    {
     "name": "stderr",
     "output_type": "stream",
     "text": [
      "/home1/noaherz/.conda/envs/cml3/lib/python3.7/site-packages/pandas/core/ops/array_ops.py:253: FutureWarning: elementwise comparison failed; returning scalar instead, but in the future will perform elementwise comparison\n",
      "  res_values = method(rvalues)\n",
      "/home1/noaherz/cmlreaders/cmlreaders/path_finder.py:239: MultiplePathsFoundWarning: Multiple files found: /data10/RAM/subjects/R1066P/docs/electrode_categories.txt\n",
      "/scratch/pwanda/electrode_categories/electrode_categories_R1066P.txt returning the first file found\n",
      "  warnings.warn(msg, MultiplePathsFoundWarning)\n",
      "/home1/noaherz/cmlreaders/cmlreaders/path_finder.py:239: MultiplePathsFoundWarning: Multiple files found: /protocols/r1/subjects/R1066P/localizations/0/montages/0/neuroradiology/current_processed/pairs.json\n",
      "/data/eeg/R1066P/tal/R1066P_talLocs_database_bipol.mat returning the first file found\n",
      "  warnings.warn(msg, MultiplePathsFoundWarning)\n",
      "/home1/noaherz/cmlreaders/cmlreaders/readers/electrodes.py:236: MissingCoordinatesWarning: Could not load MNI coordinates\n",
      "  \"Could not load MNI coordinates\"))\n",
      "/home1/noaherz/cmlreaders/cmlreaders/path_finder.py:239: MultiplePathsFoundWarning: Multiple files found: /protocols/r1/subjects/R1066P/experiments/catFR1/sessions/0/ephys/current_processed/sources.json\n",
      "/data/eeg/R1066P/eeg.noreref/params.txt returning the first file found\n",
      "  warnings.warn(msg, MultiplePathsFoundWarning)\n"
     ]
    },
    {
     "name": "stdout",
     "output_type": "stream",
     "text": [
      "CPP total time wavelet loop:  2.8972747325897217\n",
      "Progress: 3 % done, subject:  R1066P\n"
     ]
    },
    {
     "name": "stderr",
     "output_type": "stream",
     "text": [
      "/home1/noaherz/.conda/envs/cml3/lib/python3.7/site-packages/pandas/core/ops/array_ops.py:253: FutureWarning: elementwise comparison failed; returning scalar instead, but in the future will perform elementwise comparison\n",
      "  res_values = method(rvalues)\n",
      "/home1/noaherz/cmlreaders/cmlreaders/path_finder.py:239: MultiplePathsFoundWarning: Multiple files found: /data10/RAM/subjects/R1066P/docs/electrode_categories.txt\n",
      "/scratch/pwanda/electrode_categories/electrode_categories_R1066P.txt returning the first file found\n",
      "  warnings.warn(msg, MultiplePathsFoundWarning)\n",
      "/home1/noaherz/cmlreaders/cmlreaders/path_finder.py:239: MultiplePathsFoundWarning: Multiple files found: /protocols/r1/subjects/R1066P/localizations/0/montages/0/neuroradiology/current_processed/pairs.json\n",
      "/data/eeg/R1066P/tal/R1066P_talLocs_database_bipol.mat returning the first file found\n",
      "  warnings.warn(msg, MultiplePathsFoundWarning)\n",
      "/home1/noaherz/cmlreaders/cmlreaders/readers/electrodes.py:236: MissingCoordinatesWarning: Could not load MNI coordinates\n",
      "  \"Could not load MNI coordinates\"))\n",
      "/home1/noaherz/cmlreaders/cmlreaders/path_finder.py:239: MultiplePathsFoundWarning: Multiple files found: /protocols/r1/subjects/R1066P/experiments/catFR1/sessions/1/ephys/current_processed/sources.json\n",
      "/data/eeg/R1066P/eeg.noreref/params.txt returning the first file found\n",
      "  warnings.warn(msg, MultiplePathsFoundWarning)\n"
     ]
    },
    {
     "name": "stdout",
     "output_type": "stream",
     "text": [
      "CPP total time wavelet loop:  1.1236045360565186\n",
      "Progress: 3 % done, subject:  R1066P\n"
     ]
    },
    {
     "name": "stderr",
     "output_type": "stream",
     "text": [
      "/home1/noaherz/.conda/envs/cml3/lib/python3.7/site-packages/pandas/core/ops/array_ops.py:253: FutureWarning: elementwise comparison failed; returning scalar instead, but in the future will perform elementwise comparison\n",
      "  res_values = method(rvalues)\n",
      "/home1/noaherz/cmlreaders/cmlreaders/path_finder.py:239: MultiplePathsFoundWarning: Multiple files found: /data10/RAM/subjects/R1066P/docs/electrode_categories.txt\n",
      "/scratch/pwanda/electrode_categories/electrode_categories_R1066P.txt returning the first file found\n",
      "  warnings.warn(msg, MultiplePathsFoundWarning)\n",
      "/home1/noaherz/cmlreaders/cmlreaders/path_finder.py:239: MultiplePathsFoundWarning: Multiple files found: /protocols/r1/subjects/R1066P/localizations/0/montages/0/neuroradiology/current_processed/pairs.json\n",
      "/data/eeg/R1066P/tal/R1066P_talLocs_database_bipol.mat returning the first file found\n",
      "  warnings.warn(msg, MultiplePathsFoundWarning)\n",
      "/home1/noaherz/cmlreaders/cmlreaders/readers/electrodes.py:236: MissingCoordinatesWarning: Could not load MNI coordinates\n",
      "  \"Could not load MNI coordinates\"))\n",
      "/home1/noaherz/cmlreaders/cmlreaders/path_finder.py:239: MultiplePathsFoundWarning: Multiple files found: /protocols/r1/subjects/R1066P/experiments/catFR1/sessions/2/ephys/current_processed/sources.json\n",
      "/data/eeg/R1066P/eeg.noreref/params.txt returning the first file found\n",
      "  warnings.warn(msg, MultiplePathsFoundWarning)\n"
     ]
    },
    {
     "name": "stdout",
     "output_type": "stream",
     "text": [
      "CPP total time wavelet loop:  1.1519441604614258\n",
      "Progress: 3 % done, subject:  R1066P\n"
     ]
    },
    {
     "name": "stderr",
     "output_type": "stream",
     "text": [
      "/home1/noaherz/.conda/envs/cml3/lib/python3.7/site-packages/pandas/core/ops/array_ops.py:253: FutureWarning: elementwise comparison failed; returning scalar instead, but in the future will perform elementwise comparison\n",
      "  res_values = method(rvalues)\n",
      "/home1/noaherz/cmlreaders/cmlreaders/path_finder.py:239: MultiplePathsFoundWarning: Multiple files found: /data10/RAM/subjects/R1067P/docs/electrode_categories.txt\n",
      "/scratch/pwanda/electrode_categories/electrode_categories_R1067P.txt returning the first file found\n",
      "  warnings.warn(msg, MultiplePathsFoundWarning)\n",
      "/home1/noaherz/cmlreaders/cmlreaders/path_finder.py:239: MultiplePathsFoundWarning: Multiple files found: /protocols/r1/subjects/R1067P/localizations/0/montages/0/neuroradiology/current_processed/pairs.json\n",
      "/data/eeg/R1067P/tal/R1067P_talLocs_database_bipol.mat returning the first file found\n",
      "  warnings.warn(msg, MultiplePathsFoundWarning)\n",
      "/home1/noaherz/cmlreaders/cmlreaders/readers/electrodes.py:236: MissingCoordinatesWarning: Could not load MNI coordinates\n",
      "  \"Could not load MNI coordinates\"))\n",
      "/home1/noaherz/cmlreaders/cmlreaders/path_finder.py:239: MultiplePathsFoundWarning: Multiple files found: /protocols/r1/subjects/R1067P/experiments/catFR1/sessions/0/ephys/current_processed/sources.json\n",
      "/data/eeg/R1067P/eeg.noreref/params.txt returning the first file found\n",
      "  warnings.warn(msg, MultiplePathsFoundWarning)\n"
     ]
    },
    {
     "name": "stdout",
     "output_type": "stream",
     "text": [
      "CPP total time wavelet loop:  16.683987140655518\n",
      "Progress: 4 % done, subject:  R1067P\n"
     ]
    },
    {
     "name": "stderr",
     "output_type": "stream",
     "text": [
      "/home1/noaherz/.conda/envs/cml3/lib/python3.7/site-packages/pandas/core/ops/array_ops.py:253: FutureWarning: elementwise comparison failed; returning scalar instead, but in the future will perform elementwise comparison\n",
      "  res_values = method(rvalues)\n",
      "/home1/noaherz/cmlreaders/cmlreaders/path_finder.py:239: MultiplePathsFoundWarning: Multiple files found: /data10/RAM/subjects/R1067P/docs/electrode_categories.txt\n",
      "/scratch/pwanda/electrode_categories/electrode_categories_R1067P.txt returning the first file found\n",
      "  warnings.warn(msg, MultiplePathsFoundWarning)\n",
      "/home1/noaherz/cmlreaders/cmlreaders/path_finder.py:239: MultiplePathsFoundWarning: Multiple files found: /protocols/r1/subjects/R1067P/localizations/0/montages/0/neuroradiology/current_processed/pairs.json\n",
      "/data/eeg/R1067P/tal/R1067P_talLocs_database_bipol.mat returning the first file found\n",
      "  warnings.warn(msg, MultiplePathsFoundWarning)\n",
      "/home1/noaherz/cmlreaders/cmlreaders/readers/electrodes.py:236: MissingCoordinatesWarning: Could not load MNI coordinates\n",
      "  \"Could not load MNI coordinates\"))\n",
      "/home1/noaherz/cmlreaders/cmlreaders/path_finder.py:239: MultiplePathsFoundWarning: Multiple files found: /protocols/r1/subjects/R1067P/experiments/catFR1/sessions/1/ephys/current_processed/sources.json\n",
      "/data/eeg/R1067P/eeg.noreref/params.txt returning the first file found\n",
      "  warnings.warn(msg, MultiplePathsFoundWarning)\n"
     ]
    },
    {
     "name": "stdout",
     "output_type": "stream",
     "text": [
      "CPP total time wavelet loop:  13.916380882263184\n",
      "Progress: 4 % done, subject:  R1067P\n"
     ]
    },
    {
     "name": "stderr",
     "output_type": "stream",
     "text": [
      "/home1/noaherz/.conda/envs/cml3/lib/python3.7/site-packages/pandas/core/ops/array_ops.py:253: FutureWarning: elementwise comparison failed; returning scalar instead, but in the future will perform elementwise comparison\n",
      "  res_values = method(rvalues)\n",
      "/home1/noaherz/cmlreaders/cmlreaders/path_finder.py:239: MultiplePathsFoundWarning: Multiple files found: /data10/RAM/subjects/R1075J/docs/electrode_categories.txt\n",
      "/scratch/pwanda/electrode_categories/electrode_categories_R1075J.txt returning the first file found\n",
      "  warnings.warn(msg, MultiplePathsFoundWarning)\n",
      "/home1/noaherz/cmlreaders/cmlreaders/path_finder.py:239: MultiplePathsFoundWarning: Multiple files found: /protocols/r1/subjects/R1075J/localizations/0/montages/0/neuroradiology/current_processed/pairs.json\n",
      "/data/eeg/R1075J/tal/R1075J_talLocs_database_bipol.mat returning the first file found\n",
      "  warnings.warn(msg, MultiplePathsFoundWarning)\n",
      "/home1/noaherz/cmlreaders/cmlreaders/readers/electrodes.py:236: MissingCoordinatesWarning: Could not load MNI coordinates\n",
      "  \"Could not load MNI coordinates\"))\n",
      "/home1/noaherz/cmlreaders/cmlreaders/path_finder.py:239: MultiplePathsFoundWarning: Multiple files found: /protocols/r1/subjects/R1075J/experiments/catFR1/sessions/0/ephys/current_processed/sources.json\n",
      "/data/eeg/R1075J/eeg.noreref/params.txt returning the first file found\n",
      "  warnings.warn(msg, MultiplePathsFoundWarning)\n"
     ]
    },
    {
     "name": "stdout",
     "output_type": "stream",
     "text": [
      "subject R1075J session 0 has no electrodes in the hippocampus and was not included in the analysis\n",
      "Progress: 4 % done, subject:  R1075J\n"
     ]
    },
    {
     "name": "stderr",
     "output_type": "stream",
     "text": [
      "/home1/noaherz/.conda/envs/cml3/lib/python3.7/site-packages/pandas/core/ops/array_ops.py:253: FutureWarning: elementwise comparison failed; returning scalar instead, but in the future will perform elementwise comparison\n",
      "  res_values = method(rvalues)\n",
      "/home1/noaherz/cmlreaders/cmlreaders/path_finder.py:239: MultiplePathsFoundWarning: Multiple files found: /data10/RAM/subjects/R1086M/docs/electrode_categories.txt\n",
      "/scratch/pwanda/electrode_categories/electrode_categories_R1086M.txt returning the first file found\n",
      "  warnings.warn(msg, MultiplePathsFoundWarning)\n",
      "/home1/noaherz/cmlreaders/cmlreaders/path_finder.py:239: MultiplePathsFoundWarning: Multiple files found: /protocols/r1/subjects/R1086M/localizations/0/montages/0/neuroradiology/current_processed/pairs.json\n",
      "/data/eeg/R1086M/tal/R1086M_talLocs_database_bipol.mat returning the first file found\n",
      "  warnings.warn(msg, MultiplePathsFoundWarning)\n",
      "/home1/noaherz/cmlreaders/cmlreaders/readers/electrodes.py:236: MissingCoordinatesWarning: Could not load MNI coordinates\n",
      "  \"Could not load MNI coordinates\"))\n",
      "/home1/noaherz/cmlreaders/cmlreaders/path_finder.py:239: MultiplePathsFoundWarning: Multiple files found: /protocols/r1/subjects/R1086M/experiments/catFR1/sessions/0/ephys/current_processed/sources.json\n",
      "/data/eeg/R1086M/eeg.noreref/params.txt returning the first file found\n",
      "  warnings.warn(msg, MultiplePathsFoundWarning)\n"
     ]
    },
    {
     "name": "stdout",
     "output_type": "stream",
     "text": [
      "CPP total time wavelet loop:  5.545053720474243\n",
      "Progress: 4 % done, subject:  R1086M\n"
     ]
    },
    {
     "name": "stderr",
     "output_type": "stream",
     "text": [
      "/home1/noaherz/.conda/envs/cml3/lib/python3.7/site-packages/pandas/core/ops/array_ops.py:253: FutureWarning: elementwise comparison failed; returning scalar instead, but in the future will perform elementwise comparison\n",
      "  res_values = method(rvalues)\n",
      "/home1/noaherz/cmlreaders/cmlreaders/path_finder.py:239: MultiplePathsFoundWarning: Multiple files found: /data10/RAM/subjects/R1089P/docs/electrode_categories.txt\n",
      "/scratch/pwanda/electrode_categories/electrode_categories_R1089P.txt returning the first file found\n",
      "  warnings.warn(msg, MultiplePathsFoundWarning)\n",
      "/home1/noaherz/cmlreaders/cmlreaders/path_finder.py:239: MultiplePathsFoundWarning: Multiple files found: /protocols/r1/subjects/R1089P/localizations/0/montages/0/neuroradiology/current_processed/pairs.json\n",
      "/data/eeg/R1089P/tal/R1089P_talLocs_database_bipol.mat returning the first file found\n",
      "  warnings.warn(msg, MultiplePathsFoundWarning)\n",
      "/home1/noaherz/cmlreaders/cmlreaders/readers/electrodes.py:236: MissingCoordinatesWarning: Could not load MNI coordinates\n",
      "  \"Could not load MNI coordinates\"))\n",
      "/home1/noaherz/cmlreaders/cmlreaders/path_finder.py:239: MultiplePathsFoundWarning: Multiple files found: /protocols/r1/subjects/R1089P/experiments/catFR1/sessions/0/ephys/current_processed/sources.json\n",
      "/data/eeg/R1089P/eeg.noreref/params.txt returning the first file found\n",
      "  warnings.warn(msg, MultiplePathsFoundWarning)\n"
     ]
    },
    {
     "name": "stdout",
     "output_type": "stream",
     "text": [
      "CPP total time wavelet loop:  13.756560325622559\n",
      "Progress: 5 % done, subject:  R1089P\n"
     ]
    },
    {
     "name": "stderr",
     "output_type": "stream",
     "text": [
      "/home1/noaherz/.conda/envs/cml3/lib/python3.7/site-packages/pandas/core/ops/array_ops.py:253: FutureWarning: elementwise comparison failed; returning scalar instead, but in the future will perform elementwise comparison\n",
      "  res_values = method(rvalues)\n",
      "/home1/noaherz/cmlreaders/cmlreaders/path_finder.py:239: MultiplePathsFoundWarning: Multiple files found: /data10/RAM/subjects/R1092J/docs/electrode_categories.txt\n",
      "/scratch/pwanda/electrode_categories/electrode_categories_R1092J.txt returning the first file found\n",
      "  warnings.warn(msg, MultiplePathsFoundWarning)\n",
      "/home1/noaherz/cmlreaders/cmlreaders/path_finder.py:239: MultiplePathsFoundWarning: Multiple files found: /protocols/r1/subjects/R1092J/localizations/0/montages/0/neuroradiology/current_processed/pairs.json\n",
      "/data/eeg/R1092J/tal/R1092J_talLocs_database_bipol.mat returning the first file found\n",
      "  warnings.warn(msg, MultiplePathsFoundWarning)\n",
      "/home1/noaherz/cmlreaders/cmlreaders/readers/electrodes.py:236: MissingCoordinatesWarning: Could not load MNI coordinates\n",
      "  \"Could not load MNI coordinates\"))\n",
      "/home1/noaherz/cmlreaders/cmlreaders/path_finder.py:239: MultiplePathsFoundWarning: Multiple files found: /protocols/r1/subjects/R1092J/experiments/catFR1/sessions/0/ephys/current_processed/sources.json\n",
      "/data/eeg/R1092J/eeg.noreref/params.txt returning the first file found\n",
      "  warnings.warn(msg, MultiplePathsFoundWarning)\n"
     ]
    },
    {
     "name": "stdout",
     "output_type": "stream",
     "text": [
      "CPP total time wavelet loop:  25.108942985534668\n",
      "Progress: 5 % done, subject:  R1092J\n"
     ]
    },
    {
     "name": "stderr",
     "output_type": "stream",
     "text": [
      "/home1/noaherz/.conda/envs/cml3/lib/python3.7/site-packages/numpy/core/fromnumeric.py:3335: RuntimeWarning: Mean of empty slice.\n",
      "  out=out, **kwargs)\n",
      "/home1/noaherz/.conda/envs/cml3/lib/python3.7/site-packages/numpy/core/_methods.py:161: RuntimeWarning: invalid value encountered in double_scalars\n",
      "  ret = ret.dtype.type(ret / rcount)\n",
      "/home1/noaherz/.conda/envs/cml3/lib/python3.7/site-packages/pandas/core/ops/array_ops.py:253: FutureWarning: elementwise comparison failed; returning scalar instead, but in the future will perform elementwise comparison\n",
      "  res_values = method(rvalues)\n",
      "/home1/noaherz/cmlreaders/cmlreaders/path_finder.py:239: MultiplePathsFoundWarning: Multiple files found: /data10/RAM/subjects/R1094T/docs/electrode_categories.txt\n",
      "/scratch/pwanda/electrode_categories/electrode_categories_R1094T.txt returning the first file found\n",
      "  warnings.warn(msg, MultiplePathsFoundWarning)\n",
      "/home1/noaherz/cmlreaders/cmlreaders/path_finder.py:239: MultiplePathsFoundWarning: Multiple files found: /protocols/r1/subjects/R1094T/localizations/0/montages/0/neuroradiology/current_processed/pairs.json\n",
      "/data/eeg/R1094T/tal/R1094T_talLocs_database_bipol.mat returning the first file found\n",
      "  warnings.warn(msg, MultiplePathsFoundWarning)\n",
      "/home1/noaherz/cmlreaders/cmlreaders/readers/electrodes.py:236: MissingCoordinatesWarning: Could not load MNI coordinates\n",
      "  \"Could not load MNI coordinates\"))\n",
      "/home1/noaherz/cmlreaders/cmlreaders/path_finder.py:239: MultiplePathsFoundWarning: Multiple files found: /protocols/r1/subjects/R1094T/experiments/catFR1/sessions/0/ephys/current_processed/sources.json\n",
      "/data/eeg/R1094T/eeg.noreref/params.txt returning the first file found\n",
      "  warnings.warn(msg, MultiplePathsFoundWarning)\n"
     ]
    },
    {
     "name": "stdout",
     "output_type": "stream",
     "text": [
      "CPP total time wavelet loop:  15.517451763153076\n",
      "Progress: 5 % done, subject:  R1094T\n"
     ]
    },
    {
     "name": "stderr",
     "output_type": "stream",
     "text": [
      "/home1/noaherz/cmlreaders/cmlreaders/path_finder.py:239: MultiplePathsFoundWarning: Multiple files found: /data10/RAM/subjects/R1108J/docs/electrode_categories.txt\n",
      "/scratch/pwanda/electrode_categories/electrode_categories_R1108J.txt returning the first file found\n",
      "  warnings.warn(msg, MultiplePathsFoundWarning)\n",
      "/home1/noaherz/cmlreaders/cmlreaders/path_finder.py:239: MultiplePathsFoundWarning: Multiple files found: /protocols/r1/subjects/R1108J/localizations/0/montages/0/neuroradiology/current_processed/pairs.json\n",
      "/data/eeg/R1108J/tal/R1108J_talLocs_database_bipol.mat returning the first file found\n",
      "  warnings.warn(msg, MultiplePathsFoundWarning)\n",
      "/home1/noaherz/cmlreaders/cmlreaders/readers/electrodes.py:236: MissingCoordinatesWarning: Could not load MNI coordinates\n",
      "  \"Could not load MNI coordinates\"))\n",
      "/home1/noaherz/cmlreaders/cmlreaders/path_finder.py:239: MultiplePathsFoundWarning: Multiple files found: /protocols/r1/subjects/R1108J/experiments/catFR1/sessions/0/ephys/current_processed/sources.json\n",
      "/data/eeg/R1108J/eeg.noreref/R1108J_catFR1_0_31Dec15_1110.params.txt\n",
      "/data/eeg/R1108J/eeg.noreref/params.txt returning the first file found\n",
      "  warnings.warn(msg, MultiplePathsFoundWarning)\n"
     ]
    },
    {
     "name": "stdout",
     "output_type": "stream",
     "text": [
      "CPP total time wavelet loop:  28.429108381271362\n",
      "Progress: 5 % done, subject:  R1108J\n"
     ]
    },
    {
     "name": "stderr",
     "output_type": "stream",
     "text": [
      "/home1/noaherz/.conda/envs/cml3/lib/python3.7/site-packages/pandas/core/ops/array_ops.py:253: FutureWarning: elementwise comparison failed; returning scalar instead, but in the future will perform elementwise comparison\n",
      "  res_values = method(rvalues)\n",
      "/home1/noaherz/cmlreaders/cmlreaders/path_finder.py:239: MultiplePathsFoundWarning: Multiple files found: /data10/RAM/subjects/R1108J/docs/electrode_categories.txt\n",
      "/scratch/pwanda/electrode_categories/electrode_categories_R1108J.txt returning the first file found\n",
      "  warnings.warn(msg, MultiplePathsFoundWarning)\n",
      "/home1/noaherz/cmlreaders/cmlreaders/path_finder.py:239: MultiplePathsFoundWarning: Multiple files found: /protocols/r1/subjects/R1108J/localizations/0/montages/0/neuroradiology/current_processed/pairs.json\n",
      "/data/eeg/R1108J/tal/R1108J_talLocs_database_bipol.mat returning the first file found\n",
      "  warnings.warn(msg, MultiplePathsFoundWarning)\n",
      "/home1/noaherz/cmlreaders/cmlreaders/readers/electrodes.py:236: MissingCoordinatesWarning: Could not load MNI coordinates\n",
      "  \"Could not load MNI coordinates\"))\n",
      "/home1/noaherz/cmlreaders/cmlreaders/path_finder.py:239: MultiplePathsFoundWarning: Multiple files found: /protocols/r1/subjects/R1108J/experiments/catFR1/sessions/1/ephys/current_processed/sources.json\n",
      "/data/eeg/R1108J/eeg.noreref/R1108J_catFR1_1_01Jan16_1047.params.txt\n",
      "/data/eeg/R1108J/eeg.noreref/params.txt returning the first file found\n",
      "  warnings.warn(msg, MultiplePathsFoundWarning)\n"
     ]
    },
    {
     "name": "stdout",
     "output_type": "stream",
     "text": [
      "CPP total time wavelet loop:  29.90593934059143\n",
      "Progress: 6 % done, subject:  R1108J\n"
     ]
    },
    {
     "name": "stderr",
     "output_type": "stream",
     "text": [
      "/home1/noaherz/cmlreaders/cmlreaders/path_finder.py:239: MultiplePathsFoundWarning: Multiple files found: /data10/RAM/subjects/R1108J/docs/electrode_categories.txt\n",
      "/scratch/pwanda/electrode_categories/electrode_categories_R1108J.txt returning the first file found\n",
      "  warnings.warn(msg, MultiplePathsFoundWarning)\n",
      "/home1/noaherz/cmlreaders/cmlreaders/path_finder.py:239: MultiplePathsFoundWarning: Multiple files found: /protocols/r1/subjects/R1108J/localizations/0/montages/0/neuroradiology/current_processed/pairs.json\n",
      "/data/eeg/R1108J/tal/R1108J_talLocs_database_bipol.mat returning the first file found\n",
      "  warnings.warn(msg, MultiplePathsFoundWarning)\n",
      "/home1/noaherz/cmlreaders/cmlreaders/readers/electrodes.py:236: MissingCoordinatesWarning: Could not load MNI coordinates\n",
      "  \"Could not load MNI coordinates\"))\n",
      "/home1/noaherz/cmlreaders/cmlreaders/path_finder.py:239: MultiplePathsFoundWarning: Multiple files found: /protocols/r1/subjects/R1108J/experiments/catFR1/sessions/2/ephys/current_processed/sources.json\n",
      "/data/eeg/R1108J/eeg.noreref/R1108J_catFR1_2_02Jan16_1438.params.txt\n",
      "/data/eeg/R1108J/eeg.noreref/params.txt returning the first file found\n",
      "  warnings.warn(msg, MultiplePathsFoundWarning)\n"
     ]
    },
    {
     "name": "stdout",
     "output_type": "stream",
     "text": [
      "CPP total time wavelet loop:  18.391173362731934\n",
      "Progress: 6 % done, subject:  R1108J\n"
     ]
    },
    {
     "name": "stderr",
     "output_type": "stream",
     "text": [
      "/home1/noaherz/.conda/envs/cml3/lib/python3.7/site-packages/pandas/core/ops/array_ops.py:253: FutureWarning: elementwise comparison failed; returning scalar instead, but in the future will perform elementwise comparison\n",
      "  res_values = method(rvalues)\n",
      "/home1/noaherz/cmlreaders/cmlreaders/path_finder.py:239: MultiplePathsFoundWarning: Multiple files found: /data10/RAM/subjects/R1108J/docs/electrode_categories.txt\n",
      "/scratch/pwanda/electrode_categories/electrode_categories_R1108J.txt returning the first file found\n",
      "  warnings.warn(msg, MultiplePathsFoundWarning)\n",
      "/home1/noaherz/cmlreaders/cmlreaders/path_finder.py:239: MultiplePathsFoundWarning: Multiple files found: /protocols/r1/subjects/R1108J/localizations/0/montages/0/neuroradiology/current_processed/pairs.json\n",
      "/data/eeg/R1108J/tal/R1108J_talLocs_database_bipol.mat returning the first file found\n",
      "  warnings.warn(msg, MultiplePathsFoundWarning)\n",
      "/home1/noaherz/cmlreaders/cmlreaders/readers/electrodes.py:236: MissingCoordinatesWarning: Could not load MNI coordinates\n",
      "  \"Could not load MNI coordinates\"))\n",
      "/home1/noaherz/cmlreaders/cmlreaders/path_finder.py:239: MultiplePathsFoundWarning: Multiple files found: /protocols/r1/subjects/R1108J/experiments/catFR1/sessions/3/ephys/current_processed/sources.json\n",
      "/data/eeg/R1108J/eeg.noreref/R1108J_catFR1_3_04Jan16_1054.params.txt\n",
      "/data/eeg/R1108J/eeg.noreref/params.txt returning the first file found\n",
      "  warnings.warn(msg, MultiplePathsFoundWarning)\n"
     ]
    },
    {
     "name": "stdout",
     "output_type": "stream",
     "text": [
      "CPP total time wavelet loop:  23.092074632644653\n",
      "Progress: 6 % done, subject:  R1108J\n"
     ]
    },
    {
     "name": "stderr",
     "output_type": "stream",
     "text": [
      "/home1/noaherz/.conda/envs/cml3/lib/python3.7/site-packages/pandas/core/ops/array_ops.py:253: FutureWarning: elementwise comparison failed; returning scalar instead, but in the future will perform elementwise comparison\n",
      "  res_values = method(rvalues)\n",
      "/home1/noaherz/cmlreaders/cmlreaders/path_finder.py:239: MultiplePathsFoundWarning: Multiple files found: /data10/RAM/subjects/R1111M/docs/electrode_categories.txt\n",
      "/scratch/pwanda/electrode_categories/electrode_categories_R1111M.txt returning the first file found\n",
      "  warnings.warn(msg, MultiplePathsFoundWarning)\n",
      "/home1/noaherz/cmlreaders/cmlreaders/path_finder.py:239: MultiplePathsFoundWarning: Multiple files found: /protocols/r1/subjects/R1111M/localizations/0/montages/0/neuroradiology/current_processed/pairs.json\n",
      "/data/eeg/R1111M/tal/R1111M_talLocs_database_bipol.mat returning the first file found\n",
      "  warnings.warn(msg, MultiplePathsFoundWarning)\n",
      "/home1/noaherz/cmlreaders/cmlreaders/readers/electrodes.py:236: MissingCoordinatesWarning: Could not load MNI coordinates\n",
      "  \"Could not load MNI coordinates\"))\n",
      "/home1/noaherz/cmlreaders/cmlreaders/path_finder.py:239: MultiplePathsFoundWarning: Multiple files found: /protocols/r1/subjects/R1111M/experiments/catFR1/sessions/0/ephys/current_processed/sources.json\n",
      "/data/eeg/R1111M/eeg.noreref/R1111M_catFR1_0_25Jan16_1556.params.txt\n",
      "/data/eeg/R1111M/eeg.noreref/params.txt returning the first file found\n",
      "  warnings.warn(msg, MultiplePathsFoundWarning)\n"
     ]
    },
    {
     "name": "stdout",
     "output_type": "stream",
     "text": [
      "subject R1111M session 0 has no electrodes in the hippocampus and was not included in the analysis\n",
      "Progress: 6 % done, subject:  R1111M\n"
     ]
    },
    {
     "name": "stderr",
     "output_type": "stream",
     "text": [
      "/home1/noaherz/.conda/envs/cml3/lib/python3.7/site-packages/pandas/core/ops/array_ops.py:253: FutureWarning: elementwise comparison failed; returning scalar instead, but in the future will perform elementwise comparison\n",
      "  res_values = method(rvalues)\n",
      "/home1/noaherz/cmlreaders/cmlreaders/path_finder.py:239: MultiplePathsFoundWarning: Multiple files found: /data10/RAM/subjects/R1111M/docs/electrode_categories.txt\n",
      "/scratch/pwanda/electrode_categories/electrode_categories_R1111M.txt returning the first file found\n",
      "  warnings.warn(msg, MultiplePathsFoundWarning)\n",
      "/home1/noaherz/cmlreaders/cmlreaders/path_finder.py:239: MultiplePathsFoundWarning: Multiple files found: /protocols/r1/subjects/R1111M/localizations/0/montages/0/neuroradiology/current_processed/pairs.json\n",
      "/data/eeg/R1111M/tal/R1111M_talLocs_database_bipol.mat returning the first file found\n",
      "  warnings.warn(msg, MultiplePathsFoundWarning)\n",
      "/home1/noaherz/cmlreaders/cmlreaders/readers/electrodes.py:236: MissingCoordinatesWarning: Could not load MNI coordinates\n",
      "  \"Could not load MNI coordinates\"))\n",
      "/home1/noaherz/cmlreaders/cmlreaders/path_finder.py:239: MultiplePathsFoundWarning: Multiple files found: /protocols/r1/subjects/R1111M/experiments/catFR1/sessions/1/ephys/current_processed/sources.json\n",
      "/data/eeg/R1111M/eeg.noreref/R1111M_catFR1_1_27Jan16_1022.params.txt\n",
      "/data/eeg/R1111M/eeg.noreref/params.txt returning the first file found\n",
      "  warnings.warn(msg, MultiplePathsFoundWarning)\n"
     ]
    },
    {
     "name": "stdout",
     "output_type": "stream",
     "text": [
      "subject R1111M session 1 has no electrodes in the hippocampus and was not included in the analysis\n",
      "Progress: 7 % done, subject:  R1111M\n"
     ]
    },
    {
     "name": "stderr",
     "output_type": "stream",
     "text": [
      "/home1/noaherz/cmlreaders/cmlreaders/path_finder.py:239: MultiplePathsFoundWarning: Multiple files found: /data10/RAM/subjects/R1114C/docs/electrode_categories.txt\n",
      "/scratch/pwanda/electrode_categories/electrode_categories_R1114C.txt returning the first file found\n",
      "  warnings.warn(msg, MultiplePathsFoundWarning)\n",
      "/home1/noaherz/cmlreaders/cmlreaders/path_finder.py:239: MultiplePathsFoundWarning: Multiple files found: /protocols/r1/subjects/R1114C/localizations/0/montages/0/neuroradiology/current_processed/pairs.json\n",
      "/data/eeg/R1114C/tal/R1114C_talLocs_database_bipol.mat returning the first file found\n",
      "  warnings.warn(msg, MultiplePathsFoundWarning)\n",
      "/home1/noaherz/cmlreaders/cmlreaders/readers/electrodes.py:236: MissingCoordinatesWarning: Could not load MNI coordinates\n",
      "  \"Could not load MNI coordinates\"))\n",
      "/home1/noaherz/cmlreaders/cmlreaders/path_finder.py:239: MultiplePathsFoundWarning: Multiple files found: /protocols/r1/subjects/R1114C/experiments/catFR1/sessions/0/ephys/current_processed/sources.json\n",
      "/data/eeg/R1114C/eeg.noreref/R1114C_catFR1_0_29Nov15_1703.params.txt\n",
      "/data/eeg/R1114C/eeg.noreref/params.txt returning the first file found\n",
      "  warnings.warn(msg, MultiplePathsFoundWarning)\n"
     ]
    },
    {
     "name": "stdout",
     "output_type": "stream",
     "text": [
      "subject R1114C session 0 has no electrodes in the hippocampus and was not included in the analysis\n",
      "Progress: 7 % done, subject:  R1114C\n"
     ]
    },
    {
     "name": "stderr",
     "output_type": "stream",
     "text": [
      "/home1/noaherz/.conda/envs/cml3/lib/python3.7/site-packages/pandas/core/ops/array_ops.py:253: FutureWarning: elementwise comparison failed; returning scalar instead, but in the future will perform elementwise comparison\n",
      "  res_values = method(rvalues)\n",
      "/home1/noaherz/cmlreaders/cmlreaders/path_finder.py:239: MultiplePathsFoundWarning: Multiple files found: /protocols/r1/subjects/R1119P/localizations/0/montages/0/neuroradiology/current_processed/pairs.json\n",
      "/data/eeg/R1119P/tal/R1119P_talLocs_database_bipol.mat returning the first file found\n",
      "  warnings.warn(msg, MultiplePathsFoundWarning)\n",
      "/home1/noaherz/cmlreaders/cmlreaders/readers/electrodes.py:236: MissingCoordinatesWarning: Could not load MNI coordinates\n",
      "  \"Could not load MNI coordinates\"))\n",
      "/home1/noaherz/cmlreaders/cmlreaders/path_finder.py:239: MultiplePathsFoundWarning: Multiple files found: /protocols/r1/subjects/R1119P/experiments/catFR1/sessions/0/ephys/current_processed/sources.json\n",
      "/data/eeg/R1119P/eeg.noreref/R1119P_catFR1_0_29Feb16_1544.params.txt\n",
      "/data/eeg/R1119P/eeg.noreref/params.txt returning the first file found\n",
      "  warnings.warn(msg, MultiplePathsFoundWarning)\n"
     ]
    },
    {
     "name": "stdout",
     "output_type": "stream",
     "text": [
      "subject R1119P session 0 has no electrodes in the hippocampus and was not included in the analysis\n",
      "Progress: 7 % done, subject:  R1119P\n"
     ]
    },
    {
     "name": "stderr",
     "output_type": "stream",
     "text": [
      "/home1/noaherz/.conda/envs/cml3/lib/python3.7/site-packages/numpy/core/fromnumeric.py:3335: RuntimeWarning: Mean of empty slice.\n",
      "  out=out, **kwargs)\n",
      "/home1/noaherz/.conda/envs/cml3/lib/python3.7/site-packages/numpy/core/_methods.py:161: RuntimeWarning: invalid value encountered in double_scalars\n",
      "  ret = ret.dtype.type(ret / rcount)\n",
      "/home1/noaherz/.conda/envs/cml3/lib/python3.7/site-packages/pandas/core/ops/array_ops.py:253: FutureWarning: elementwise comparison failed; returning scalar instead, but in the future will perform elementwise comparison\n",
      "  res_values = method(rvalues)\n",
      "/home1/noaherz/cmlreaders/cmlreaders/path_finder.py:239: MultiplePathsFoundWarning: Multiple files found: /protocols/r1/subjects/R1127P/localizations/1/montages/2/neuroradiology/current_processed/pairs.json\n",
      "/data/eeg/R1127P_2/tal/R1127P_2_talLocs_database_bipol.mat returning the first file found\n",
      "  warnings.warn(msg, MultiplePathsFoundWarning)\n",
      "/home1/noaherz/cmlreaders/cmlreaders/readers/electrodes.py:236: MissingCoordinatesWarning: Could not load MNI coordinates\n",
      "  \"Could not load MNI coordinates\"))\n",
      "/home1/noaherz/cmlreaders/cmlreaders/path_finder.py:239: MultiplePathsFoundWarning: Multiple files found: /protocols/r1/subjects/R1127P/experiments/catFR1/sessions/0/ephys/current_processed/sources.json\n",
      "/data/eeg/R1127P/eeg.noreref/params.txt returning the first file found\n",
      "  warnings.warn(msg, MultiplePathsFoundWarning)\n"
     ]
    },
    {
     "name": "stdout",
     "output_type": "stream",
     "text": [
      "CPP total time wavelet loop:  25.59533381462097\n",
      "Progress: 8 % done, subject:  R1127P\n"
     ]
    },
    {
     "name": "stderr",
     "output_type": "stream",
     "text": [
      "/home1/noaherz/.conda/envs/cml3/lib/python3.7/site-packages/pandas/core/ops/array_ops.py:253: FutureWarning: elementwise comparison failed; returning scalar instead, but in the future will perform elementwise comparison\n",
      "  res_values = method(rvalues)\n",
      "/home1/noaherz/cmlreaders/cmlreaders/path_finder.py:239: MultiplePathsFoundWarning: Multiple files found: /data10/RAM/subjects/R1135E/docs/electrode_categories.txt\n",
      "/scratch/pwanda/electrode_categories/electrode_categories_R1135E.txt returning the first file found\n",
      "  warnings.warn(msg, MultiplePathsFoundWarning)\n",
      "/home1/noaherz/cmlreaders/cmlreaders/path_finder.py:239: MultiplePathsFoundWarning: Multiple files found: /protocols/r1/subjects/R1135E/localizations/0/montages/0/neuroradiology/current_processed/pairs.json\n",
      "/data/eeg/R1135E/tal/R1135E_talLocs_database_bipol.mat returning the first file found\n",
      "  warnings.warn(msg, MultiplePathsFoundWarning)\n",
      "/home1/noaherz/cmlreaders/cmlreaders/readers/electrodes.py:236: MissingCoordinatesWarning: Could not load MNI coordinates\n",
      "  \"Could not load MNI coordinates\"))\n",
      "/home1/noaherz/cmlreaders/cmlreaders/path_finder.py:239: MultiplePathsFoundWarning: Multiple files found: /protocols/r1/subjects/R1135E/experiments/catFR1/sessions/0/ephys/current_processed/sources.json\n",
      "/data/eeg/R1135E/eeg.noreref/R1135E_catFR1_0_04Feb16_1445.params.txt\n",
      "/data/eeg/R1135E/eeg.noreref/params.txt returning the first file found\n",
      "  warnings.warn(msg, MultiplePathsFoundWarning)\n"
     ]
    },
    {
     "name": "stdout",
     "output_type": "stream",
     "text": [
      "subject R1135E session 0 has no electrodes in the hippocampus and was not included in the analysis\n",
      "Progress: 8 % done, subject:  R1135E\n"
     ]
    },
    {
     "name": "stderr",
     "output_type": "stream",
     "text": [
      "/home1/noaherz/.conda/envs/cml3/lib/python3.7/site-packages/pandas/core/ops/array_ops.py:253: FutureWarning: elementwise comparison failed; returning scalar instead, but in the future will perform elementwise comparison\n",
      "  res_values = method(rvalues)\n",
      "/home1/noaherz/cmlreaders/cmlreaders/path_finder.py:239: MultiplePathsFoundWarning: Multiple files found: /data10/RAM/subjects/R1135E/docs/electrode_categories.txt\n",
      "/scratch/pwanda/electrode_categories/electrode_categories_R1135E.txt returning the first file found\n",
      "  warnings.warn(msg, MultiplePathsFoundWarning)\n",
      "/home1/noaherz/cmlreaders/cmlreaders/path_finder.py:239: MultiplePathsFoundWarning: Multiple files found: /protocols/r1/subjects/R1135E/localizations/0/montages/0/neuroradiology/current_processed/pairs.json\n",
      "/data/eeg/R1135E/tal/R1135E_talLocs_database_bipol.mat returning the first file found\n",
      "  warnings.warn(msg, MultiplePathsFoundWarning)\n",
      "/home1/noaherz/cmlreaders/cmlreaders/readers/electrodes.py:236: MissingCoordinatesWarning: Could not load MNI coordinates\n",
      "  \"Could not load MNI coordinates\"))\n",
      "/home1/noaherz/cmlreaders/cmlreaders/path_finder.py:239: MultiplePathsFoundWarning: Multiple files found: /protocols/r1/subjects/R1135E/experiments/catFR1/sessions/1/ephys/current_processed/sources.json\n",
      "/data/eeg/R1135E/eeg.noreref/R1135E_catFR1_1_05Feb16_1208.params.txt\n",
      "/data/eeg/R1135E/eeg.noreref/params.txt returning the first file found\n",
      "  warnings.warn(msg, MultiplePathsFoundWarning)\n"
     ]
    },
    {
     "name": "stdout",
     "output_type": "stream",
     "text": [
      "subject R1135E session 1 has no electrodes in the hippocampus and was not included in the analysis\n",
      "Progress: 8 % done, subject:  R1135E\n"
     ]
    },
    {
     "name": "stderr",
     "output_type": "stream",
     "text": [
      "/home1/noaherz/.conda/envs/cml3/lib/python3.7/site-packages/pandas/core/ops/array_ops.py:253: FutureWarning: elementwise comparison failed; returning scalar instead, but in the future will perform elementwise comparison\n",
      "  res_values = method(rvalues)\n",
      "/home1/noaherz/cmlreaders/cmlreaders/path_finder.py:239: MultiplePathsFoundWarning: Multiple files found: /data10/RAM/subjects/R1141T/docs/electrode_categories.txt\n",
      "/scratch/pwanda/electrode_categories/electrode_categories_R1141T.txt returning the first file found\n",
      "  warnings.warn(msg, MultiplePathsFoundWarning)\n",
      "/home1/noaherz/cmlreaders/cmlreaders/path_finder.py:239: MultiplePathsFoundWarning: Multiple files found: /protocols/r1/subjects/R1141T/localizations/0/montages/0/neuroradiology/current_processed/pairs.json\n",
      "/data/eeg/R1141T/tal/R1141T_talLocs_database_bipol.mat returning the first file found\n",
      "  warnings.warn(msg, MultiplePathsFoundWarning)\n",
      "/home1/noaherz/cmlreaders/cmlreaders/readers/electrodes.py:236: MissingCoordinatesWarning: Could not load MNI coordinates\n",
      "  \"Could not load MNI coordinates\"))\n",
      "/home1/noaherz/cmlreaders/cmlreaders/path_finder.py:239: MultiplePathsFoundWarning: Multiple files found: /protocols/r1/subjects/R1141T/experiments/catFR1/sessions/0/ephys/current_processed/sources.json\n",
      "/data/eeg/R1141T/eeg.noreref/R1141T_catFR1_0_18Feb16_0959.params.txt\n",
      "/data/eeg/R1141T/eeg.noreref/params.txt returning the first file found\n",
      "  warnings.warn(msg, MultiplePathsFoundWarning)\n"
     ]
    },
    {
     "name": "stdout",
     "output_type": "stream",
     "text": [
      "subject R1141T session 0 has no electrodes in the hippocampus and was not included in the analysis\n",
      "Progress: 8 % done, subject:  R1141T\n"
     ]
    },
    {
     "name": "stderr",
     "output_type": "stream",
     "text": [
      "/home1/noaherz/.conda/envs/cml3/lib/python3.7/site-packages/pandas/core/ops/array_ops.py:253: FutureWarning: elementwise comparison failed; returning scalar instead, but in the future will perform elementwise comparison\n",
      "  res_values = method(rvalues)\n",
      "/home1/noaherz/cmlreaders/cmlreaders/path_finder.py:239: MultiplePathsFoundWarning: Multiple files found: /data10/RAM/subjects/R1141T/docs/electrode_categories.txt\n",
      "/scratch/pwanda/electrode_categories/electrode_categories_R1141T.txt returning the first file found\n",
      "  warnings.warn(msg, MultiplePathsFoundWarning)\n",
      "/home1/noaherz/cmlreaders/cmlreaders/path_finder.py:239: MultiplePathsFoundWarning: Multiple files found: /protocols/r1/subjects/R1141T/localizations/0/montages/0/neuroradiology/current_processed/pairs.json\n",
      "/data/eeg/R1141T/tal/R1141T_talLocs_database_bipol.mat returning the first file found\n",
      "  warnings.warn(msg, MultiplePathsFoundWarning)\n",
      "/home1/noaherz/cmlreaders/cmlreaders/readers/electrodes.py:236: MissingCoordinatesWarning: Could not load MNI coordinates\n",
      "  \"Could not load MNI coordinates\"))\n",
      "/home1/noaherz/cmlreaders/cmlreaders/path_finder.py:239: MultiplePathsFoundWarning: Multiple files found: /protocols/r1/subjects/R1141T/experiments/catFR1/sessions/1/ephys/current_processed/sources.json\n",
      "/data/eeg/R1141T/eeg.noreref/R1141T_catFR1_1_19Feb16_1350.params.txt\n",
      "/data/eeg/R1141T/eeg.noreref/params.txt returning the first file found\n",
      "  warnings.warn(msg, MultiplePathsFoundWarning)\n"
     ]
    },
    {
     "name": "stdout",
     "output_type": "stream",
     "text": [
      "subject R1141T session 1 has no electrodes in the hippocampus and was not included in the analysis\n",
      "Progress: 9 % done, subject:  R1141T\n"
     ]
    },
    {
     "name": "stderr",
     "output_type": "stream",
     "text": [
      "/home1/noaherz/.conda/envs/cml3/lib/python3.7/site-packages/pandas/core/ops/array_ops.py:253: FutureWarning: elementwise comparison failed; returning scalar instead, but in the future will perform elementwise comparison\n",
      "  res_values = method(rvalues)\n",
      "/home1/noaherz/cmlreaders/cmlreaders/path_finder.py:239: MultiplePathsFoundWarning: Multiple files found: /data10/RAM/subjects/R1141T/docs/electrode_categories.txt\n",
      "/scratch/pwanda/electrode_categories/electrode_categories_R1141T.txt returning the first file found\n",
      "  warnings.warn(msg, MultiplePathsFoundWarning)\n",
      "/home1/noaherz/cmlreaders/cmlreaders/path_finder.py:239: MultiplePathsFoundWarning: Multiple files found: /protocols/r1/subjects/R1141T/localizations/0/montages/0/neuroradiology/current_processed/pairs.json\n",
      "/data/eeg/R1141T/tal/R1141T_talLocs_database_bipol.mat returning the first file found\n",
      "  warnings.warn(msg, MultiplePathsFoundWarning)\n",
      "/home1/noaherz/cmlreaders/cmlreaders/readers/electrodes.py:236: MissingCoordinatesWarning: Could not load MNI coordinates\n",
      "  \"Could not load MNI coordinates\"))\n",
      "/home1/noaherz/cmlreaders/cmlreaders/path_finder.py:239: MultiplePathsFoundWarning: Multiple files found: /protocols/r1/subjects/R1141T/experiments/catFR1/sessions/2/ephys/current_processed/sources.json\n",
      "/data/eeg/R1141T/eeg.noreref/R1141T_catFR1_2_22Feb16_0945.params.txt\n",
      "/data/eeg/R1141T/eeg.noreref/params.txt returning the first file found\n",
      "  warnings.warn(msg, MultiplePathsFoundWarning)\n"
     ]
    },
    {
     "name": "stdout",
     "output_type": "stream",
     "text": [
      "subject R1141T session 2 has no electrodes in the hippocampus and was not included in the analysis\n",
      "Progress: 9 % done, subject:  R1141T\n"
     ]
    },
    {
     "name": "stderr",
     "output_type": "stream",
     "text": [
      "/home1/noaherz/.conda/envs/cml3/lib/python3.7/site-packages/numpy/core/fromnumeric.py:3335: RuntimeWarning: Mean of empty slice.\n",
      "  out=out, **kwargs)\n",
      "/home1/noaherz/.conda/envs/cml3/lib/python3.7/site-packages/numpy/core/_methods.py:161: RuntimeWarning: invalid value encountered in double_scalars\n",
      "  ret = ret.dtype.type(ret / rcount)\n",
      "/home1/noaherz/.conda/envs/cml3/lib/python3.7/site-packages/pandas/core/ops/array_ops.py:253: FutureWarning: elementwise comparison failed; returning scalar instead, but in the future will perform elementwise comparison\n",
      "  res_values = method(rvalues)\n",
      "/home1/noaherz/cmlreaders/cmlreaders/path_finder.py:239: MultiplePathsFoundWarning: Multiple files found: /data10/RAM/subjects/R1144E/docs/electrode_categories.txt\n",
      "/scratch/pwanda/electrode_categories/electrode_categories_R1144E.txt returning the first file found\n",
      "  warnings.warn(msg, MultiplePathsFoundWarning)\n",
      "/home1/noaherz/cmlreaders/cmlreaders/path_finder.py:239: MultiplePathsFoundWarning: Multiple files found: /protocols/r1/subjects/R1144E/localizations/0/montages/0/neuroradiology/current_processed/pairs.json\n",
      "/data/eeg/R1144E/tal/R1144E_talLocs_database_bipol.mat returning the first file found\n",
      "  warnings.warn(msg, MultiplePathsFoundWarning)\n",
      "/home1/noaherz/cmlreaders/cmlreaders/readers/electrodes.py:236: MissingCoordinatesWarning: Could not load MNI coordinates\n",
      "  \"Could not load MNI coordinates\"))\n",
      "/home1/noaherz/cmlreaders/cmlreaders/path_finder.py:239: MultiplePathsFoundWarning: Multiple files found: /protocols/r1/subjects/R1144E/experiments/catFR1/sessions/0/ephys/current_processed/sources.json\n",
      "/data/eeg/R1144E/eeg.noreref/R1144E_catFR1_0_21Feb16_1510.params.txt\n",
      "/data/eeg/R1144E/eeg.noreref/params.txt returning the first file found\n",
      "  warnings.warn(msg, MultiplePathsFoundWarning)\n"
     ]
    },
    {
     "name": "stdout",
     "output_type": "stream",
     "text": [
      "CPP total time wavelet loop:  8.004281997680664\n",
      "Progress: 9 % done, subject:  R1144E\n"
     ]
    },
    {
     "name": "stderr",
     "output_type": "stream",
     "text": [
      "/home1/noaherz/.conda/envs/cml3/lib/python3.7/site-packages/pandas/core/ops/array_ops.py:253: FutureWarning: elementwise comparison failed; returning scalar instead, but in the future will perform elementwise comparison\n",
      "  res_values = method(rvalues)\n",
      "/home1/noaherz/cmlreaders/cmlreaders/path_finder.py:239: MultiplePathsFoundWarning: Multiple files found: /data10/RAM/subjects/R1144E/docs/electrode_categories.txt\n",
      "/scratch/pwanda/electrode_categories/electrode_categories_R1144E.txt returning the first file found\n",
      "  warnings.warn(msg, MultiplePathsFoundWarning)\n",
      "/home1/noaherz/cmlreaders/cmlreaders/path_finder.py:239: MultiplePathsFoundWarning: Multiple files found: /protocols/r1/subjects/R1144E/localizations/0/montages/0/neuroradiology/current_processed/pairs.json\n",
      "/data/eeg/R1144E/tal/R1144E_talLocs_database_bipol.mat returning the first file found\n",
      "  warnings.warn(msg, MultiplePathsFoundWarning)\n",
      "/home1/noaherz/cmlreaders/cmlreaders/readers/electrodes.py:236: MissingCoordinatesWarning: Could not load MNI coordinates\n",
      "  \"Could not load MNI coordinates\"))\n",
      "/home1/noaherz/cmlreaders/cmlreaders/path_finder.py:239: MultiplePathsFoundWarning: Multiple files found: /protocols/r1/subjects/R1144E/experiments/catFR1/sessions/1/ephys/current_processed/sources.json\n",
      "/data/eeg/R1144E/eeg.noreref/R1144E_catFR1_1_23Feb16_1218.params.txt\n",
      "/data/eeg/R1144E/eeg.noreref/params.txt returning the first file found\n",
      "  warnings.warn(msg, MultiplePathsFoundWarning)\n"
     ]
    },
    {
     "name": "stdout",
     "output_type": "stream",
     "text": [
      "CPP total time wavelet loop:  7.309514999389648\n",
      "Progress: 9 % done, subject:  R1144E\n"
     ]
    },
    {
     "name": "stderr",
     "output_type": "stream",
     "text": [
      "/home1/noaherz/.conda/envs/cml3/lib/python3.7/site-packages/pandas/core/ops/array_ops.py:253: FutureWarning: elementwise comparison failed; returning scalar instead, but in the future will perform elementwise comparison\n",
      "  res_values = method(rvalues)\n",
      "/home1/noaherz/cmlreaders/cmlreaders/path_finder.py:239: MultiplePathsFoundWarning: Multiple files found: /data10/RAM/subjects/R1144E/docs/electrode_categories.txt\n",
      "/scratch/pwanda/electrode_categories/electrode_categories_R1144E.txt returning the first file found\n",
      "  warnings.warn(msg, MultiplePathsFoundWarning)\n",
      "/home1/noaherz/cmlreaders/cmlreaders/path_finder.py:239: MultiplePathsFoundWarning: Multiple files found: /protocols/r1/subjects/R1144E/localizations/0/montages/0/neuroradiology/current_processed/pairs.json\n",
      "/data/eeg/R1144E/tal/R1144E_talLocs_database_bipol.mat returning the first file found\n",
      "  warnings.warn(msg, MultiplePathsFoundWarning)\n",
      "/home1/noaherz/cmlreaders/cmlreaders/readers/electrodes.py:236: MissingCoordinatesWarning: Could not load MNI coordinates\n",
      "  \"Could not load MNI coordinates\"))\n",
      "/home1/noaherz/cmlreaders/cmlreaders/path_finder.py:239: MultiplePathsFoundWarning: Multiple files found: /protocols/r1/subjects/R1144E/experiments/catFR1/sessions/2/ephys/current_processed/sources.json\n",
      "/data/eeg/R1144E/eeg.noreref/R1144E_catFR1_2_24Feb16_1801.params.txt\n",
      "/data/eeg/R1144E/eeg.noreref/params.txt returning the first file found\n",
      "  warnings.warn(msg, MultiplePathsFoundWarning)\n"
     ]
    },
    {
     "name": "stdout",
     "output_type": "stream",
     "text": [
      "CPP total time wavelet loop:  8.715278148651123\n",
      "Progress: 10 % done, subject:  R1144E\n"
     ]
    },
    {
     "name": "stderr",
     "output_type": "stream",
     "text": [
      "/home1/noaherz/.conda/envs/cml3/lib/python3.7/site-packages/pandas/core/ops/array_ops.py:253: FutureWarning: elementwise comparison failed; returning scalar instead, but in the future will perform elementwise comparison\n",
      "  res_values = method(rvalues)\n",
      "/home1/noaherz/cmlreaders/cmlreaders/path_finder.py:239: MultiplePathsFoundWarning: Multiple files found: /data10/RAM/subjects/R1147P/docs/electrode_categories.txt\n",
      "/scratch/pwanda/electrode_categories/electrode_categories_R1147P.txt returning the first file found\n",
      "  warnings.warn(msg, MultiplePathsFoundWarning)\n",
      "/home1/noaherz/cmlreaders/cmlreaders/path_finder.py:239: MultiplePathsFoundWarning: Multiple files found: /protocols/r1/subjects/R1147P/localizations/0/montages/0/neuroradiology/current_processed/pairs.json\n",
      "/data/eeg/R1147P/tal/R1147P_talLocs_database_bipol.mat returning the first file found\n",
      "  warnings.warn(msg, MultiplePathsFoundWarning)\n",
      "/home1/noaherz/cmlreaders/cmlreaders/readers/electrodes.py:236: MissingCoordinatesWarning: Could not load MNI coordinates\n",
      "  \"Could not load MNI coordinates\"))\n",
      "/home1/noaherz/cmlreaders/cmlreaders/path_finder.py:239: MultiplePathsFoundWarning: Multiple files found: /protocols/r1/subjects/R1147P/experiments/catFR1/sessions/0/ephys/current_processed/sources.json\n",
      "/data/eeg/R1147P/eeg.noreref/R1147P_catFR1_0_14Mar16_2138.params.txt\n",
      "/data/eeg/R1147P/eeg.noreref/params.txt returning the first file found\n",
      "  warnings.warn(msg, MultiplePathsFoundWarning)\n"
     ]
    },
    {
     "name": "stdout",
     "output_type": "stream",
     "text": [
      "CPP total time wavelet loop:  30.220126628875732\n",
      "Progress: 10 % done, subject:  R1147P\n"
     ]
    },
    {
     "name": "stderr",
     "output_type": "stream",
     "text": [
      "/home1/noaherz/.conda/envs/cml3/lib/python3.7/site-packages/numpy/core/fromnumeric.py:3335: RuntimeWarning: Mean of empty slice.\n",
      "  out=out, **kwargs)\n",
      "/home1/noaherz/.conda/envs/cml3/lib/python3.7/site-packages/numpy/core/_methods.py:161: RuntimeWarning: invalid value encountered in double_scalars\n",
      "  ret = ret.dtype.type(ret / rcount)\n",
      "/home1/noaherz/.conda/envs/cml3/lib/python3.7/site-packages/pandas/core/ops/array_ops.py:253: FutureWarning: elementwise comparison failed; returning scalar instead, but in the future will perform elementwise comparison\n",
      "  res_values = method(rvalues)\n",
      "/home1/noaherz/cmlreaders/cmlreaders/path_finder.py:239: MultiplePathsFoundWarning: Multiple files found: /data10/RAM/subjects/R1169P/docs/electrode_categories.txt\n",
      "/scratch/pwanda/electrode_categories/electrode_categories_R1169P.txt returning the first file found\n",
      "  warnings.warn(msg, MultiplePathsFoundWarning)\n",
      "/home1/noaherz/cmlreaders/cmlreaders/path_finder.py:239: MultiplePathsFoundWarning: Multiple files found: /protocols/r1/subjects/R1169P/localizations/0/montages/0/neuroradiology/current_processed/pairs.json\n",
      "/data/eeg/R1169P/tal/R1169P_talLocs_database_bipol.mat returning the first file found\n",
      "  warnings.warn(msg, MultiplePathsFoundWarning)\n",
      "/home1/noaherz/cmlreaders/cmlreaders/readers/electrodes.py:236: MissingCoordinatesWarning: Could not load MNI coordinates\n",
      "  \"Could not load MNI coordinates\"))\n",
      "/home1/noaherz/cmlreaders/cmlreaders/path_finder.py:239: MultiplePathsFoundWarning: Multiple files found: /protocols/r1/subjects/R1169P/experiments/catFR1/sessions/0/ephys/current_processed/sources.json\n",
      "/data/eeg/R1169P/eeg.noreref/R1169P_catFR1_0_30Apr16_1910.params.txt\n",
      "/data/eeg/R1169P/eeg.noreref/params.txt returning the first file found\n",
      "  warnings.warn(msg, MultiplePathsFoundWarning)\n"
     ]
    },
    {
     "name": "stdout",
     "output_type": "stream",
     "text": [
      "CPP total time wavelet loop:  10.202385663986206\n",
      "Progress: 10 % done, subject:  R1169P\n"
     ]
    },
    {
     "name": "stderr",
     "output_type": "stream",
     "text": [
      "/home1/noaherz/.conda/envs/cml3/lib/python3.7/site-packages/numpy/core/fromnumeric.py:3335: RuntimeWarning: Mean of empty slice.\n",
      "  out=out, **kwargs)\n",
      "/home1/noaherz/.conda/envs/cml3/lib/python3.7/site-packages/numpy/core/_methods.py:161: RuntimeWarning: invalid value encountered in double_scalars\n",
      "  ret = ret.dtype.type(ret / rcount)\n",
      "/home1/noaherz/.conda/envs/cml3/lib/python3.7/site-packages/pandas/core/ops/array_ops.py:253: FutureWarning: elementwise comparison failed; returning scalar instead, but in the future will perform elementwise comparison\n",
      "  res_values = method(rvalues)\n",
      "/home1/noaherz/cmlreaders/cmlreaders/path_finder.py:239: MultiplePathsFoundWarning: Multiple files found: /data10/RAM/subjects/R1170J_1/docs/electrode_categories.txt\n",
      "/scratch/pwanda/electrode_categories/electrode_categories_R1170J_1.txt returning the first file found\n",
      "  warnings.warn(msg, MultiplePathsFoundWarning)\n",
      "/home1/noaherz/cmlreaders/cmlreaders/path_finder.py:239: MultiplePathsFoundWarning: Multiple files found: /protocols/r1/subjects/R1170J/localizations/0/montages/1/neuroradiology/current_processed/pairs.json\n",
      "/data/eeg/R1170J_1/tal/R1170J_1_talLocs_database_bipol.mat returning the first file found\n",
      "  warnings.warn(msg, MultiplePathsFoundWarning)\n",
      "/home1/noaherz/cmlreaders/cmlreaders/readers/electrodes.py:236: MissingCoordinatesWarning: Could not load MNI coordinates\n",
      "  \"Could not load MNI coordinates\"))\n",
      "/home1/noaherz/cmlreaders/cmlreaders/path_finder.py:239: MultiplePathsFoundWarning: Multiple files found: /protocols/r1/subjects/R1170J/experiments/catFR1/sessions/0/ephys/current_processed/sources.json\n",
      "/data/eeg/R1170J/eeg.noreref/params.txt returning the first file found\n",
      "  warnings.warn(msg, MultiplePathsFoundWarning)\n"
     ]
    },
    {
     "name": "stdout",
     "output_type": "stream",
     "text": [
      "subject R1170J session 0 has no electrodes in the hippocampus and was not included in the analysis\n",
      "Progress: 10 % done, subject:  R1170J\n"
     ]
    },
    {
     "name": "stderr",
     "output_type": "stream",
     "text": [
      "/home1/noaherz/.conda/envs/cml3/lib/python3.7/site-packages/pandas/core/ops/array_ops.py:253: FutureWarning: elementwise comparison failed; returning scalar instead, but in the future will perform elementwise comparison\n",
      "  res_values = method(rvalues)\n",
      "/home1/noaherz/cmlreaders/cmlreaders/path_finder.py:239: MultiplePathsFoundWarning: Multiple files found: /data10/RAM/subjects/R1170J_1/docs/electrode_categories.txt\n",
      "/scratch/pwanda/electrode_categories/electrode_categories_R1170J_1.txt returning the first file found\n",
      "  warnings.warn(msg, MultiplePathsFoundWarning)\n",
      "/home1/noaherz/cmlreaders/cmlreaders/path_finder.py:239: MultiplePathsFoundWarning: Multiple files found: /protocols/r1/subjects/R1170J/localizations/0/montages/1/neuroradiology/current_processed/pairs.json\n",
      "/data/eeg/R1170J_1/tal/R1170J_1_talLocs_database_bipol.mat returning the first file found\n",
      "  warnings.warn(msg, MultiplePathsFoundWarning)\n",
      "/home1/noaherz/cmlreaders/cmlreaders/readers/electrodes.py:236: MissingCoordinatesWarning: Could not load MNI coordinates\n",
      "  \"Could not load MNI coordinates\"))\n",
      "/home1/noaherz/cmlreaders/cmlreaders/path_finder.py:239: MultiplePathsFoundWarning: Multiple files found: /protocols/r1/subjects/R1170J/experiments/catFR1/sessions/1/ephys/current_processed/sources.json\n",
      "/data/eeg/R1170J/eeg.noreref/params.txt returning the first file found\n",
      "  warnings.warn(msg, MultiplePathsFoundWarning)\n"
     ]
    },
    {
     "name": "stdout",
     "output_type": "stream",
     "text": [
      "subject R1170J session 1 has no electrodes in the hippocampus and was not included in the analysis\n",
      "Progress: 11 % done, subject:  R1170J\n"
     ]
    },
    {
     "name": "stderr",
     "output_type": "stream",
     "text": [
      "/home1/noaherz/.conda/envs/cml3/lib/python3.7/site-packages/pandas/core/ops/array_ops.py:253: FutureWarning: elementwise comparison failed; returning scalar instead, but in the future will perform elementwise comparison\n",
      "  res_values = method(rvalues)\n",
      "/home1/noaherz/cmlreaders/cmlreaders/path_finder.py:239: MultiplePathsFoundWarning: Multiple files found: /data10/RAM/subjects/R1176M/docs/electrode_categories.txt\n",
      "/scratch/pwanda/electrode_categories/electrode_categories_R1176M.txt returning the first file found\n",
      "  warnings.warn(msg, MultiplePathsFoundWarning)\n",
      "/home1/noaherz/cmlreaders/cmlreaders/path_finder.py:239: MultiplePathsFoundWarning: Multiple files found: /protocols/r1/subjects/R1176M/localizations/0/montages/0/neuroradiology/current_processed/pairs.json\n",
      "/data/eeg/R1176M/tal/R1176M_talLocs_database_bipol.mat returning the first file found\n",
      "  warnings.warn(msg, MultiplePathsFoundWarning)\n",
      "/home1/noaherz/cmlreaders/cmlreaders/readers/electrodes.py:236: MissingCoordinatesWarning: Could not load MNI coordinates\n",
      "  \"Could not load MNI coordinates\"))\n",
      "/home1/noaherz/cmlreaders/cmlreaders/path_finder.py:239: MultiplePathsFoundWarning: Multiple files found: /protocols/r1/subjects/R1176M/experiments/catFR1/sessions/0/ephys/current_processed/sources.json\n",
      "/data/eeg/R1176M/eeg.noreref/R1176M_catFR1_0_21May16_1023.params.txt\n",
      "/data/eeg/R1176M/eeg.noreref/params.txt returning the first file found\n",
      "  warnings.warn(msg, MultiplePathsFoundWarning)\n"
     ]
    },
    {
     "name": "stdout",
     "output_type": "stream",
     "text": [
      "CPP total time wavelet loop:  5.112498044967651\n",
      "Progress: 11 % done, subject:  R1176M\n"
     ]
    },
    {
     "name": "stderr",
     "output_type": "stream",
     "text": [
      "/home1/noaherz/.conda/envs/cml3/lib/python3.7/site-packages/pandas/core/ops/array_ops.py:253: FutureWarning: elementwise comparison failed; returning scalar instead, but in the future will perform elementwise comparison\n",
      "  res_values = method(rvalues)\n",
      "/home1/noaherz/cmlreaders/cmlreaders/path_finder.py:239: MultiplePathsFoundWarning: Multiple files found: /data10/RAM/subjects/R1180C/docs/electrode_categories.txt\n",
      "/scratch/pwanda/electrode_categories/R1180C_electrode_categories.txt returning the first file found\n",
      "  warnings.warn(msg, MultiplePathsFoundWarning)\n",
      "/home1/noaherz/cmlreaders/cmlreaders/path_finder.py:239: MultiplePathsFoundWarning: Multiple files found: /protocols/r1/subjects/R1180C/localizations/0/montages/0/neuroradiology/current_processed/pairs.json\n",
      "/data/eeg/R1180C/tal/R1180C_talLocs_database_bipol.mat returning the first file found\n",
      "  warnings.warn(msg, MultiplePathsFoundWarning)\n",
      "/home1/noaherz/cmlreaders/cmlreaders/readers/electrodes.py:236: MissingCoordinatesWarning: Could not load MNI coordinates\n",
      "  \"Could not load MNI coordinates\"))\n",
      "/home1/noaherz/cmlreaders/cmlreaders/path_finder.py:239: MultiplePathsFoundWarning: Multiple files found: /protocols/r1/subjects/R1180C/experiments/catFR1/sessions/0/ephys/current_processed/sources.json\n",
      "/data/eeg/R1180C/eeg.noreref/R1180C_catFR1_0_04Jun16_1046.params.txt\n",
      "/data/eeg/R1180C/eeg.noreref/params.txt returning the first file found\n",
      "  warnings.warn(msg, MultiplePathsFoundWarning)\n"
     ]
    },
    {
     "name": "stdout",
     "output_type": "stream",
     "text": [
      "CPP total time wavelet loop:  6.438540697097778\n",
      "Progress: 11 % done, subject:  R1180C\n"
     ]
    },
    {
     "name": "stderr",
     "output_type": "stream",
     "text": [
      "/home1/noaherz/.conda/envs/cml3/lib/python3.7/site-packages/pandas/core/ops/array_ops.py:253: FutureWarning: elementwise comparison failed; returning scalar instead, but in the future will perform elementwise comparison\n",
      "  res_values = method(rvalues)\n",
      "/home1/noaherz/cmlreaders/cmlreaders/path_finder.py:239: MultiplePathsFoundWarning: Multiple files found: /data10/RAM/subjects/R1180C/docs/electrode_categories.txt\n",
      "/scratch/pwanda/electrode_categories/R1180C_electrode_categories.txt returning the first file found\n",
      "  warnings.warn(msg, MultiplePathsFoundWarning)\n",
      "/home1/noaherz/cmlreaders/cmlreaders/path_finder.py:239: MultiplePathsFoundWarning: Multiple files found: /protocols/r1/subjects/R1180C/localizations/0/montages/0/neuroradiology/current_processed/pairs.json\n",
      "/data/eeg/R1180C/tal/R1180C_talLocs_database_bipol.mat returning the first file found\n",
      "  warnings.warn(msg, MultiplePathsFoundWarning)\n",
      "/home1/noaherz/cmlreaders/cmlreaders/readers/electrodes.py:236: MissingCoordinatesWarning: Could not load MNI coordinates\n",
      "  \"Could not load MNI coordinates\"))\n",
      "/home1/noaherz/cmlreaders/cmlreaders/path_finder.py:239: MultiplePathsFoundWarning: Multiple files found: /protocols/r1/subjects/R1180C/experiments/catFR1/sessions/1/ephys/current_processed/sources.json\n",
      "/data/eeg/R1180C/eeg.noreref/R1180C_catFR1_1_05Jun16_1042.params.txt\n",
      "/data/eeg/R1180C/eeg.noreref/params.txt returning the first file found\n",
      "  warnings.warn(msg, MultiplePathsFoundWarning)\n"
     ]
    },
    {
     "name": "stdout",
     "output_type": "stream",
     "text": [
      "CPP total time wavelet loop:  5.545252799987793\n",
      "Progress: 12 % done, subject:  R1180C\n"
     ]
    },
    {
     "name": "stderr",
     "output_type": "stream",
     "text": [
      "/home1/noaherz/.conda/envs/cml3/lib/python3.7/site-packages/pandas/core/ops/array_ops.py:253: FutureWarning: elementwise comparison failed; returning scalar instead, but in the future will perform elementwise comparison\n",
      "  res_values = method(rvalues)\n",
      "/home1/noaherz/cmlreaders/cmlreaders/path_finder.py:239: MultiplePathsFoundWarning: Multiple files found: /data10/RAM/subjects/R1180C/docs/electrode_categories.txt\n",
      "/scratch/pwanda/electrode_categories/R1180C_electrode_categories.txt returning the first file found\n",
      "  warnings.warn(msg, MultiplePathsFoundWarning)\n",
      "/home1/noaherz/cmlreaders/cmlreaders/path_finder.py:239: MultiplePathsFoundWarning: Multiple files found: /protocols/r1/subjects/R1180C/localizations/0/montages/0/neuroradiology/current_processed/pairs.json\n",
      "/data/eeg/R1180C/tal/R1180C_talLocs_database_bipol.mat returning the first file found\n",
      "  warnings.warn(msg, MultiplePathsFoundWarning)\n",
      "/home1/noaherz/cmlreaders/cmlreaders/readers/electrodes.py:236: MissingCoordinatesWarning: Could not load MNI coordinates\n",
      "  \"Could not load MNI coordinates\"))\n",
      "/home1/noaherz/cmlreaders/cmlreaders/path_finder.py:239: MultiplePathsFoundWarning: Multiple files found: /protocols/r1/subjects/R1180C/experiments/catFR1/sessions/2/ephys/current_processed/sources.json\n",
      "/data/eeg/R1180C/eeg.noreref/R1180C_catFR1_2_06Jun16_1031.params.txt\n",
      "/data/eeg/R1180C/eeg.noreref/params.txt returning the first file found\n",
      "  warnings.warn(msg, MultiplePathsFoundWarning)\n"
     ]
    },
    {
     "name": "stdout",
     "output_type": "stream",
     "text": [
      "CPP total time wavelet loop:  5.556108236312866\n",
      "Progress: 12 % done, subject:  R1180C\n"
     ]
    },
    {
     "name": "stderr",
     "output_type": "stream",
     "text": [
      "/home1/noaherz/.conda/envs/cml3/lib/python3.7/site-packages/numpy/core/fromnumeric.py:3335: RuntimeWarning: Mean of empty slice.\n",
      "  out=out, **kwargs)\n",
      "/home1/noaherz/.conda/envs/cml3/lib/python3.7/site-packages/numpy/core/_methods.py:161: RuntimeWarning: invalid value encountered in double_scalars\n",
      "  ret = ret.dtype.type(ret / rcount)\n",
      "/home1/noaherz/.conda/envs/cml3/lib/python3.7/site-packages/pandas/core/ops/array_ops.py:253: FutureWarning: elementwise comparison failed; returning scalar instead, but in the future will perform elementwise comparison\n",
      "  res_values = method(rvalues)\n",
      "/home1/noaherz/cmlreaders/cmlreaders/path_finder.py:239: MultiplePathsFoundWarning: Multiple files found: /data10/RAM/subjects/R1181E/docs/electrode_categories.txt\n",
      "/scratch/pwanda/electrode_categories/R1181E_electrode_categories.txt returning the first file found\n",
      "  warnings.warn(msg, MultiplePathsFoundWarning)\n",
      "/home1/noaherz/cmlreaders/cmlreaders/path_finder.py:239: MultiplePathsFoundWarning: Multiple files found: /protocols/r1/subjects/R1181E/localizations/0/montages/0/neuroradiology/current_processed/pairs.json\n",
      "/data/eeg/R1181E/tal/R1181E_talLocs_database_bipol.mat returning the first file found\n",
      "  warnings.warn(msg, MultiplePathsFoundWarning)\n",
      "/home1/noaherz/cmlreaders/cmlreaders/readers/electrodes.py:236: MissingCoordinatesWarning: Could not load MNI coordinates\n",
      "  \"Could not load MNI coordinates\"))\n",
      "/home1/noaherz/cmlreaders/cmlreaders/path_finder.py:239: MultiplePathsFoundWarning: Multiple files found: /protocols/r1/subjects/R1181E/experiments/catFR1/sessions/1/ephys/current_processed/sources.json\n",
      "/data/eeg/R1181E/eeg.noreref/R1181E_catFR1_1_10Jun16_1848.params.txt\n",
      "/data/eeg/R1181E/eeg.noreref/params.txt returning the first file found\n",
      "  warnings.warn(msg, MultiplePathsFoundWarning)\n"
     ]
    },
    {
     "name": "stdout",
     "output_type": "stream",
     "text": [
      "subject R1181E session 1 has no electrodes in the hippocampus and was not included in the analysis\n",
      "Progress: 12 % done, subject:  R1181E\n"
     ]
    },
    {
     "name": "stderr",
     "output_type": "stream",
     "text": [
      "/home1/noaherz/.conda/envs/cml3/lib/python3.7/site-packages/pandas/core/ops/array_ops.py:253: FutureWarning: elementwise comparison failed; returning scalar instead, but in the future will perform elementwise comparison\n",
      "  res_values = method(rvalues)\n",
      "/home1/noaherz/cmlreaders/cmlreaders/path_finder.py:239: MultiplePathsFoundWarning: Multiple files found: /data10/RAM/subjects/R1181E/docs/electrode_categories.txt\n",
      "/scratch/pwanda/electrode_categories/R1181E_electrode_categories.txt returning the first file found\n",
      "  warnings.warn(msg, MultiplePathsFoundWarning)\n",
      "/home1/noaherz/cmlreaders/cmlreaders/path_finder.py:239: MultiplePathsFoundWarning: Multiple files found: /protocols/r1/subjects/R1181E/localizations/0/montages/0/neuroradiology/current_processed/pairs.json\n",
      "/data/eeg/R1181E/tal/R1181E_talLocs_database_bipol.mat returning the first file found\n",
      "  warnings.warn(msg, MultiplePathsFoundWarning)\n",
      "/home1/noaherz/cmlreaders/cmlreaders/readers/electrodes.py:236: MissingCoordinatesWarning: Could not load MNI coordinates\n",
      "  \"Could not load MNI coordinates\"))\n",
      "/home1/noaherz/cmlreaders/cmlreaders/path_finder.py:239: MultiplePathsFoundWarning: Multiple files found: /protocols/r1/subjects/R1181E/experiments/catFR1/sessions/2/ephys/current_processed/sources.json\n",
      "/data/eeg/R1181E/eeg.noreref/R1181E_catFR1_2_14Jun16_1506.params.txt\n",
      "/data/eeg/R1181E/eeg.noreref/params.txt returning the first file found\n",
      "  warnings.warn(msg, MultiplePathsFoundWarning)\n"
     ]
    },
    {
     "name": "stdout",
     "output_type": "stream",
     "text": [
      "subject R1181E session 2 has no electrodes in the hippocampus and was not included in the analysis\n",
      "Progress: 12 % done, subject:  R1181E\n"
     ]
    },
    {
     "name": "stderr",
     "output_type": "stream",
     "text": [
      "/home1/noaherz/.conda/envs/cml3/lib/python3.7/site-packages/numpy/core/fromnumeric.py:3335: RuntimeWarning: Mean of empty slice.\n",
      "  out=out, **kwargs)\n",
      "/home1/noaherz/.conda/envs/cml3/lib/python3.7/site-packages/numpy/core/_methods.py:161: RuntimeWarning: invalid value encountered in double_scalars\n",
      "  ret = ret.dtype.type(ret / rcount)\n",
      "/home1/noaherz/.conda/envs/cml3/lib/python3.7/site-packages/pandas/core/ops/array_ops.py:253: FutureWarning: elementwise comparison failed; returning scalar instead, but in the future will perform elementwise comparison\n",
      "  res_values = method(rvalues)\n",
      "/home1/noaherz/cmlreaders/cmlreaders/path_finder.py:239: MultiplePathsFoundWarning: Multiple files found: /data10/RAM/subjects/R1181E/docs/electrode_categories.txt\n",
      "/scratch/pwanda/electrode_categories/R1181E_electrode_categories.txt returning the first file found\n",
      "  warnings.warn(msg, MultiplePathsFoundWarning)\n",
      "/home1/noaherz/cmlreaders/cmlreaders/path_finder.py:239: MultiplePathsFoundWarning: Multiple files found: /protocols/r1/subjects/R1181E/localizations/0/montages/0/neuroradiology/current_processed/pairs.json\n",
      "/data/eeg/R1181E/tal/R1181E_talLocs_database_bipol.mat returning the first file found\n",
      "  warnings.warn(msg, MultiplePathsFoundWarning)\n",
      "/home1/noaherz/cmlreaders/cmlreaders/readers/electrodes.py:236: MissingCoordinatesWarning: Could not load MNI coordinates\n",
      "  \"Could not load MNI coordinates\"))\n",
      "/home1/noaherz/cmlreaders/cmlreaders/path_finder.py:239: MultiplePathsFoundWarning: Multiple files found: /protocols/r1/subjects/R1181E/experiments/catFR1/sessions/3/ephys/current_processed/sources.json\n",
      "/data/eeg/R1181E/eeg.noreref/R1181E_catFR1_3_14Jun16_2041.params.txt\n",
      "/data/eeg/R1181E/eeg.noreref/params.txt returning the first file found\n",
      "  warnings.warn(msg, MultiplePathsFoundWarning)\n"
     ]
    },
    {
     "name": "stdout",
     "output_type": "stream",
     "text": [
      "subject R1181E session 3 has no electrodes in the hippocampus and was not included in the analysis\n",
      "Progress: 13 % done, subject:  R1181E\n"
     ]
    },
    {
     "name": "stderr",
     "output_type": "stream",
     "text": [
      "/home1/noaherz/.conda/envs/cml3/lib/python3.7/site-packages/pandas/core/ops/array_ops.py:253: FutureWarning: elementwise comparison failed; returning scalar instead, but in the future will perform elementwise comparison\n",
      "  res_values = method(rvalues)\n",
      "/home1/noaherz/cmlreaders/cmlreaders/path_finder.py:239: MultiplePathsFoundWarning: Multiple files found: /data10/RAM/subjects/R1184M/docs/electrode_categories.txt\n",
      "/scratch/pwanda/electrode_categories/R1184M_electrode_categories.txt returning the first file found\n",
      "  warnings.warn(msg, MultiplePathsFoundWarning)\n",
      "/home1/noaherz/cmlreaders/cmlreaders/path_finder.py:239: MultiplePathsFoundWarning: Multiple files found: /protocols/r1/subjects/R1184M/localizations/0/montages/0/neuroradiology/current_processed/pairs.json\n",
      "/data/eeg/R1184M/tal/R1184M_talLocs_database_bipol.mat returning the first file found\n",
      "  warnings.warn(msg, MultiplePathsFoundWarning)\n",
      "/home1/noaherz/cmlreaders/cmlreaders/readers/electrodes.py:236: MissingCoordinatesWarning: Could not load MNI coordinates\n",
      "  \"Could not load MNI coordinates\"))\n",
      "/home1/noaherz/cmlreaders/cmlreaders/path_finder.py:239: MultiplePathsFoundWarning: Multiple files found: /protocols/r1/subjects/R1184M/experiments/catFR1/sessions/0/ephys/current_processed/sources.json\n",
      "/data/eeg/R1184M/eeg.noreref/R1184M_catFR1_0_11Jun16_1933.params.txt\n",
      "/data/eeg/R1184M/eeg.noreref/params.txt returning the first file found\n",
      "  warnings.warn(msg, MultiplePathsFoundWarning)\n"
     ]
    },
    {
     "name": "stdout",
     "output_type": "stream",
     "text": [
      "subject R1184M session 0 has no electrodes in the hippocampus and was not included in the analysis\n",
      "Progress: 13 % done, subject:  R1184M\n"
     ]
    },
    {
     "name": "stderr",
     "output_type": "stream",
     "text": [
      "/home1/noaherz/.conda/envs/cml3/lib/python3.7/site-packages/pandas/core/ops/array_ops.py:253: FutureWarning: elementwise comparison failed; returning scalar instead, but in the future will perform elementwise comparison\n",
      "  res_values = method(rvalues)\n",
      "/home1/noaherz/cmlreaders/cmlreaders/path_finder.py:239: MultiplePathsFoundWarning: Multiple files found: /data10/RAM/subjects/R1187P/docs/electrode_categories.txt\n",
      "/scratch/pwanda/electrode_categories/R1187P_electrode_categories.txt returning the first file found\n",
      "  warnings.warn(msg, MultiplePathsFoundWarning)\n",
      "/home1/noaherz/cmlreaders/cmlreaders/path_finder.py:239: MultiplePathsFoundWarning: Multiple files found: /protocols/r1/subjects/R1187P/localizations/0/montages/0/neuroradiology/current_processed/pairs.json\n",
      "/data/eeg/R1187P/tal/R1187P_talLocs_database_bipol.mat returning the first file found\n",
      "  warnings.warn(msg, MultiplePathsFoundWarning)\n",
      "/home1/noaherz/cmlreaders/cmlreaders/readers/electrodes.py:236: MissingCoordinatesWarning: Could not load MNI coordinates\n",
      "  \"Could not load MNI coordinates\"))\n",
      "/home1/noaherz/cmlreaders/cmlreaders/path_finder.py:239: MultiplePathsFoundWarning: Multiple files found: /protocols/r1/subjects/R1187P/experiments/catFR1/sessions/0/ephys/current_processed/sources.json\n",
      "/data/eeg/R1187P/eeg.noreref/R1187P_catFR1_0_27Jun16_2026.params.txt\n",
      "/data/eeg/R1187P/eeg.noreref/params.txt returning the first file found\n",
      "  warnings.warn(msg, MultiplePathsFoundWarning)\n"
     ]
    },
    {
     "name": "stdout",
     "output_type": "stream",
     "text": [
      "CPP total time wavelet loop:  19.06276512145996\n",
      "Progress: 13 % done, subject:  R1187P\n"
     ]
    },
    {
     "name": "stderr",
     "output_type": "stream",
     "text": [
      "/home1/noaherz/.conda/envs/cml3/lib/python3.7/site-packages/pandas/core/ops/array_ops.py:253: FutureWarning: elementwise comparison failed; returning scalar instead, but in the future will perform elementwise comparison\n",
      "  res_values = method(rvalues)\n",
      "/home1/noaherz/cmlreaders/cmlreaders/path_finder.py:239: MultiplePathsFoundWarning: Multiple files found: /data10/RAM/subjects/R1188C/docs/electrode_categories.txt\n",
      "/scratch/pwanda/electrode_categories/R1188C_electrode_categories.txt returning the first file found\n",
      "  warnings.warn(msg, MultiplePathsFoundWarning)\n",
      "/home1/noaherz/cmlreaders/cmlreaders/path_finder.py:239: MultiplePathsFoundWarning: Multiple files found: /protocols/r1/subjects/R1188C/localizations/0/montages/0/neuroradiology/current_processed/pairs.json\n",
      "/data/eeg/R1188C/tal/R1188C_talLocs_database_bipol.mat returning the first file found\n",
      "  warnings.warn(msg, MultiplePathsFoundWarning)\n",
      "/home1/noaherz/cmlreaders/cmlreaders/readers/electrodes.py:236: MissingCoordinatesWarning: Could not load MNI coordinates\n",
      "  \"Could not load MNI coordinates\"))\n",
      "/home1/noaherz/cmlreaders/cmlreaders/path_finder.py:239: MultiplePathsFoundWarning: Multiple files found: /protocols/r1/subjects/R1188C/experiments/catFR1/sessions/0/ephys/current_processed/sources.json\n",
      "/data/eeg/R1188C/eeg.noreref/R1188C_catFR1_0_16Jun16_1155.params.txt\n",
      "/data/eeg/R1188C/eeg.noreref/params.txt returning the first file found\n",
      "  warnings.warn(msg, MultiplePathsFoundWarning)\n"
     ]
    },
    {
     "name": "stdout",
     "output_type": "stream",
     "text": [
      "CPP total time wavelet loop:  5.342216491699219\n",
      "Progress: 13 % done, subject:  R1188C\n"
     ]
    },
    {
     "name": "stderr",
     "output_type": "stream",
     "text": [
      "/home1/noaherz/.conda/envs/cml3/lib/python3.7/site-packages/numpy/core/fromnumeric.py:3335: RuntimeWarning: Mean of empty slice.\n",
      "  out=out, **kwargs)\n",
      "/home1/noaherz/.conda/envs/cml3/lib/python3.7/site-packages/numpy/core/_methods.py:161: RuntimeWarning: invalid value encountered in double_scalars\n",
      "  ret = ret.dtype.type(ret / rcount)\n",
      "/home1/noaherz/.conda/envs/cml3/lib/python3.7/site-packages/pandas/core/ops/array_ops.py:253: FutureWarning: elementwise comparison failed; returning scalar instead, but in the future will perform elementwise comparison\n",
      "  res_values = method(rvalues)\n",
      "/home1/noaherz/cmlreaders/cmlreaders/path_finder.py:239: MultiplePathsFoundWarning: Multiple files found: /data10/RAM/subjects/R1190P/docs/electrode_categories.txt\n",
      "/scratch/pwanda/electrode_categories/R1190P_electrode_categories.txt returning the first file found\n",
      "  warnings.warn(msg, MultiplePathsFoundWarning)\n",
      "/home1/noaherz/cmlreaders/cmlreaders/path_finder.py:239: MultiplePathsFoundWarning: Multiple files found: /protocols/r1/subjects/R1190P/localizations/0/montages/0/neuroradiology/current_processed/pairs.json\n",
      "/data/eeg/R1190P/tal/R1190P_talLocs_database_bipol.mat returning the first file found\n",
      "  warnings.warn(msg, MultiplePathsFoundWarning)\n",
      "/home1/noaherz/cmlreaders/cmlreaders/readers/electrodes.py:236: MissingCoordinatesWarning: Could not load MNI coordinates\n",
      "  \"Could not load MNI coordinates\"))\n",
      "/home1/noaherz/cmlreaders/cmlreaders/path_finder.py:239: MultiplePathsFoundWarning: Multiple files found: /protocols/r1/subjects/R1190P/experiments/catFR1/sessions/0/ephys/current_processed/sources.json\n",
      "/data/eeg/R1190P/eeg.noreref/R1190P_catFR1_0_19Jun16_1843.params.txt\n",
      "/data/eeg/R1190P/eeg.noreref/params.txt returning the first file found\n",
      "  warnings.warn(msg, MultiplePathsFoundWarning)\n"
     ]
    },
    {
     "name": "stdout",
     "output_type": "stream",
     "text": [
      "CPP total time wavelet loop:  35.76729607582092\n",
      "Progress: 14 % done, subject:  R1190P\n"
     ]
    },
    {
     "name": "stderr",
     "output_type": "stream",
     "text": [
      "/home1/noaherz/.conda/envs/cml3/lib/python3.7/site-packages/pandas/core/ops/array_ops.py:253: FutureWarning: elementwise comparison failed; returning scalar instead, but in the future will perform elementwise comparison\n",
      "  res_values = method(rvalues)\n",
      "/home1/noaherz/cmlreaders/cmlreaders/path_finder.py:239: MultiplePathsFoundWarning: Multiple files found: /data10/RAM/subjects/R1190P/docs/electrode_categories.txt\n",
      "/scratch/pwanda/electrode_categories/R1190P_electrode_categories.txt returning the first file found\n",
      "  warnings.warn(msg, MultiplePathsFoundWarning)\n",
      "/home1/noaherz/cmlreaders/cmlreaders/path_finder.py:239: MultiplePathsFoundWarning: Multiple files found: /protocols/r1/subjects/R1190P/localizations/0/montages/0/neuroradiology/current_processed/pairs.json\n",
      "/data/eeg/R1190P/tal/R1190P_talLocs_database_bipol.mat returning the first file found\n",
      "  warnings.warn(msg, MultiplePathsFoundWarning)\n",
      "/home1/noaherz/cmlreaders/cmlreaders/readers/electrodes.py:236: MissingCoordinatesWarning: Could not load MNI coordinates\n",
      "  \"Could not load MNI coordinates\"))\n",
      "/home1/noaherz/cmlreaders/cmlreaders/path_finder.py:239: MultiplePathsFoundWarning: Multiple files found: /protocols/r1/subjects/R1190P/experiments/catFR1/sessions/1/ephys/current_processed/sources.json\n",
      "/data/eeg/R1190P/eeg.noreref/R1190P_catFR1_1_20Jun16_1609.params.txt\n",
      "/data/eeg/R1190P/eeg.noreref/params.txt returning the first file found\n",
      "  warnings.warn(msg, MultiplePathsFoundWarning)\n"
     ]
    },
    {
     "name": "stdout",
     "output_type": "stream",
     "text": [
      "CPP total time wavelet loop:  33.4897038936615\n",
      "Progress: 14 % done, subject:  R1190P\n"
     ]
    },
    {
     "name": "stderr",
     "output_type": "stream",
     "text": [
      "/home1/noaherz/.conda/envs/cml3/lib/python3.7/site-packages/pandas/core/ops/array_ops.py:253: FutureWarning: elementwise comparison failed; returning scalar instead, but in the future will perform elementwise comparison\n",
      "  res_values = method(rvalues)\n",
      "/home1/noaherz/cmlreaders/cmlreaders/path_finder.py:239: MultiplePathsFoundWarning: Multiple files found: /data10/RAM/subjects/R1192C/docs/electrode_categories.txt\n",
      "/scratch/pwanda/electrode_categories/R1192C_electrode_categories.txt returning the first file found\n",
      "  warnings.warn(msg, MultiplePathsFoundWarning)\n",
      "/home1/noaherz/cmlreaders/cmlreaders/path_finder.py:239: MultiplePathsFoundWarning: Multiple files found: /protocols/r1/subjects/R1192C/localizations/0/montages/0/neuroradiology/current_processed/pairs.json\n",
      "/data/eeg/R1192C/tal/R1192C_talLocs_database_bipol.mat returning the first file found\n",
      "  warnings.warn(msg, MultiplePathsFoundWarning)\n",
      "/home1/noaherz/cmlreaders/cmlreaders/readers/electrodes.py:236: MissingCoordinatesWarning: Could not load MNI coordinates\n",
      "  \"Could not load MNI coordinates\"))\n",
      "/home1/noaherz/cmlreaders/cmlreaders/path_finder.py:239: MultiplePathsFoundWarning: Multiple files found: /protocols/r1/subjects/R1192C/experiments/catFR1/sessions/0/ephys/current_processed/sources.json\n",
      "/data/eeg/R1192C/eeg.noreref/R1192C_catFR1_0_25Jun16_1617.params.txt\n",
      "/data/eeg/R1192C/eeg.noreref/params.txt returning the first file found\n",
      "  warnings.warn(msg, MultiplePathsFoundWarning)\n"
     ]
    },
    {
     "name": "stdout",
     "output_type": "stream",
     "text": [
      "CPP total time wavelet loop:  8.836799383163452\n",
      "Progress: 14 % done, subject:  R1192C\n"
     ]
    },
    {
     "name": "stderr",
     "output_type": "stream",
     "text": [
      "/home1/noaherz/.conda/envs/cml3/lib/python3.7/site-packages/pandas/core/ops/array_ops.py:253: FutureWarning: elementwise comparison failed; returning scalar instead, but in the future will perform elementwise comparison\n",
      "  res_values = method(rvalues)\n",
      "/home1/noaherz/cmlreaders/cmlreaders/path_finder.py:239: MultiplePathsFoundWarning: Multiple files found: /data10/RAM/subjects/R1192C/docs/electrode_categories.txt\n",
      "/scratch/pwanda/electrode_categories/R1192C_electrode_categories.txt returning the first file found\n",
      "  warnings.warn(msg, MultiplePathsFoundWarning)\n",
      "/home1/noaherz/cmlreaders/cmlreaders/path_finder.py:239: MultiplePathsFoundWarning: Multiple files found: /protocols/r1/subjects/R1192C/localizations/0/montages/0/neuroradiology/current_processed/pairs.json\n",
      "/data/eeg/R1192C/tal/R1192C_talLocs_database_bipol.mat returning the first file found\n",
      "  warnings.warn(msg, MultiplePathsFoundWarning)\n",
      "/home1/noaherz/cmlreaders/cmlreaders/readers/electrodes.py:236: MissingCoordinatesWarning: Could not load MNI coordinates\n",
      "  \"Could not load MNI coordinates\"))\n",
      "/home1/noaherz/cmlreaders/cmlreaders/path_finder.py:239: MultiplePathsFoundWarning: Multiple files found: /protocols/r1/subjects/R1192C/experiments/catFR1/sessions/1/ephys/current_processed/sources.json\n",
      "/data/eeg/R1192C/eeg.noreref/R1192C_catFR1_1_26Jun16_1552.params.txt\n",
      "/data/eeg/R1192C/eeg.noreref/params.txt returning the first file found\n",
      "  warnings.warn(msg, MultiplePathsFoundWarning)\n"
     ]
    },
    {
     "name": "stdout",
     "output_type": "stream",
     "text": [
      "CPP total time wavelet loop:  11.193345785140991\n",
      "Progress: 15 % done, subject:  R1192C\n"
     ]
    },
    {
     "name": "stderr",
     "output_type": "stream",
     "text": [
      "/home1/noaherz/.conda/envs/cml3/lib/python3.7/site-packages/pandas/core/ops/array_ops.py:253: FutureWarning: elementwise comparison failed; returning scalar instead, but in the future will perform elementwise comparison\n",
      "  res_values = method(rvalues)\n",
      "/home1/noaherz/cmlreaders/cmlreaders/path_finder.py:239: MultiplePathsFoundWarning: Multiple files found: /data10/RAM/subjects/R1192C/docs/electrode_categories.txt\n",
      "/scratch/pwanda/electrode_categories/R1192C_electrode_categories.txt returning the first file found\n",
      "  warnings.warn(msg, MultiplePathsFoundWarning)\n",
      "/home1/noaherz/cmlreaders/cmlreaders/path_finder.py:239: MultiplePathsFoundWarning: Multiple files found: /protocols/r1/subjects/R1192C/localizations/0/montages/0/neuroradiology/current_processed/pairs.json\n",
      "/data/eeg/R1192C/tal/R1192C_talLocs_database_bipol.mat returning the first file found\n",
      "  warnings.warn(msg, MultiplePathsFoundWarning)\n",
      "/home1/noaherz/cmlreaders/cmlreaders/readers/electrodes.py:236: MissingCoordinatesWarning: Could not load MNI coordinates\n",
      "  \"Could not load MNI coordinates\"))\n",
      "/home1/noaherz/cmlreaders/cmlreaders/path_finder.py:239: MultiplePathsFoundWarning: Multiple files found: /protocols/r1/subjects/R1192C/experiments/catFR1/sessions/2/ephys/current_processed/sources.json\n",
      "/data/eeg/R1192C/eeg.noreref/R1192C_catFR1_2_27Jun16_1536.params.txt\n",
      "/data/eeg/R1192C/eeg.noreref/params.txt returning the first file found\n",
      "  warnings.warn(msg, MultiplePathsFoundWarning)\n"
     ]
    },
    {
     "name": "stdout",
     "output_type": "stream",
     "text": [
      "CPP total time wavelet loop:  11.627316951751709\n",
      "Progress: 15 % done, subject:  R1192C\n"
     ]
    },
    {
     "name": "stderr",
     "output_type": "stream",
     "text": [
      "/home1/noaherz/.conda/envs/cml3/lib/python3.7/site-packages/pandas/core/ops/array_ops.py:253: FutureWarning: elementwise comparison failed; returning scalar instead, but in the future will perform elementwise comparison\n",
      "  res_values = method(rvalues)\n",
      "/home1/noaherz/cmlreaders/cmlreaders/path_finder.py:239: MultiplePathsFoundWarning: Multiple files found: /protocols/r1/subjects/R1201P/localizations/0/montages/1/neuroradiology/current_processed/pairs.json\n",
      "/data/eeg/R1201P_1/tal/R1201P_1_talLocs_database_bipol.mat returning the first file found\n",
      "  warnings.warn(msg, MultiplePathsFoundWarning)\n",
      "/home1/noaherz/cmlreaders/cmlreaders/readers/electrodes.py:236: MissingCoordinatesWarning: Could not load MNI coordinates\n",
      "  \"Could not load MNI coordinates\"))\n",
      "/home1/noaherz/cmlreaders/cmlreaders/path_finder.py:239: MultiplePathsFoundWarning: Multiple files found: /protocols/r1/subjects/R1201P/experiments/catFR1/sessions/0/ephys/current_processed/sources.json\n",
      "/data/eeg/R1201P/eeg.noreref/params.txt returning the first file found\n",
      "  warnings.warn(msg, MultiplePathsFoundWarning)\n"
     ]
    },
    {
     "name": "stdout",
     "output_type": "stream",
     "text": [
      "CPP total time wavelet loop:  35.71185660362244\n",
      "Progress: 15 % done, subject:  R1201P\n"
     ]
    },
    {
     "name": "stderr",
     "output_type": "stream",
     "text": [
      "/home1/noaherz/.conda/envs/cml3/lib/python3.7/site-packages/pandas/core/ops/array_ops.py:253: FutureWarning: elementwise comparison failed; returning scalar instead, but in the future will perform elementwise comparison\n",
      "  res_values = method(rvalues)\n",
      "/home1/noaherz/cmlreaders/cmlreaders/path_finder.py:239: MultiplePathsFoundWarning: Multiple files found: /data10/RAM/subjects/R1202M/docs/electrode_categories.txt\n",
      "/scratch/pwanda/electrode_categories/R1202M_electrode_categories.txt returning the first file found\n",
      "  warnings.warn(msg, MultiplePathsFoundWarning)\n",
      "/home1/noaherz/cmlreaders/cmlreaders/path_finder.py:239: MultiplePathsFoundWarning: Multiple files found: /protocols/r1/subjects/R1202M/localizations/0/montages/0/neuroradiology/current_processed/pairs.json\n",
      "/data/eeg/R1202M/tal/R1202M_talLocs_database_bipol.mat returning the first file found\n",
      "  warnings.warn(msg, MultiplePathsFoundWarning)\n",
      "/home1/noaherz/cmlreaders/cmlreaders/readers/electrodes.py:236: MissingCoordinatesWarning: Could not load MNI coordinates\n",
      "  \"Could not load MNI coordinates\"))\n",
      "/home1/noaherz/cmlreaders/cmlreaders/path_finder.py:239: MultiplePathsFoundWarning: Multiple files found: /protocols/r1/subjects/R1202M/experiments/catFR1/sessions/0/ephys/current_processed/sources.json\n",
      "/data/eeg/R1202M/eeg.noreref/R1202M_catFR1_0_05Aug16_2337.params.txt\n",
      "/data/eeg/R1202M/eeg.noreref/params.txt returning the first file found\n",
      "  warnings.warn(msg, MultiplePathsFoundWarning)\n"
     ]
    },
    {
     "name": "stdout",
     "output_type": "stream",
     "text": [
      "subject R1202M session 0 has no electrodes in the hippocampus and was not included in the analysis\n",
      "Progress: 15 % done, subject:  R1202M\n"
     ]
    },
    {
     "name": "stderr",
     "output_type": "stream",
     "text": [
      "/home1/noaherz/.conda/envs/cml3/lib/python3.7/site-packages/pandas/core/ops/array_ops.py:253: FutureWarning: elementwise comparison failed; returning scalar instead, but in the future will perform elementwise comparison\n",
      "  res_values = method(rvalues)\n",
      "/home1/noaherz/cmlreaders/cmlreaders/path_finder.py:239: MultiplePathsFoundWarning: Multiple files found: /data10/RAM/subjects/R1202M/docs/electrode_categories.txt\n",
      "/scratch/pwanda/electrode_categories/R1202M_electrode_categories.txt returning the first file found\n",
      "  warnings.warn(msg, MultiplePathsFoundWarning)\n",
      "/home1/noaherz/cmlreaders/cmlreaders/path_finder.py:239: MultiplePathsFoundWarning: Multiple files found: /protocols/r1/subjects/R1202M/localizations/0/montages/0/neuroradiology/current_processed/pairs.json\n",
      "/data/eeg/R1202M/tal/R1202M_talLocs_database_bipol.mat returning the first file found\n",
      "  warnings.warn(msg, MultiplePathsFoundWarning)\n",
      "/home1/noaherz/cmlreaders/cmlreaders/readers/electrodes.py:236: MissingCoordinatesWarning: Could not load MNI coordinates\n",
      "  \"Could not load MNI coordinates\"))\n",
      "/home1/noaherz/cmlreaders/cmlreaders/path_finder.py:239: MultiplePathsFoundWarning: Multiple files found: /protocols/r1/subjects/R1202M/experiments/catFR1/sessions/1/ephys/current_processed/sources.json\n",
      "/data/eeg/R1202M/eeg.noreref/R1202M_catFR1_1_07Aug16_2025.params.txt\n",
      "/data/eeg/R1202M/eeg.noreref/params.txt returning the first file found\n",
      "  warnings.warn(msg, MultiplePathsFoundWarning)\n"
     ]
    },
    {
     "name": "stdout",
     "output_type": "stream",
     "text": [
      "subject R1202M session 1 has no electrodes in the hippocampus and was not included in the analysis\n",
      "Progress: 16 % done, subject:  R1202M\n"
     ]
    },
    {
     "name": "stderr",
     "output_type": "stream",
     "text": [
      "/home1/noaherz/.conda/envs/cml3/lib/python3.7/site-packages/pandas/core/ops/array_ops.py:253: FutureWarning: elementwise comparison failed; returning scalar instead, but in the future will perform elementwise comparison\n",
      "  res_values = method(rvalues)\n",
      "/home1/noaherz/cmlreaders/cmlreaders/path_finder.py:239: MultiplePathsFoundWarning: Multiple files found: /data10/RAM/subjects/R1207J/docs/electrode_categories.txt\n",
      "/scratch/pwanda/electrode_categories/R1207J_electrode_categories.txt returning the first file found\n",
      "  warnings.warn(msg, MultiplePathsFoundWarning)\n",
      "/home1/noaherz/cmlreaders/cmlreaders/path_finder.py:239: MultiplePathsFoundWarning: Multiple files found: /protocols/r1/subjects/R1207J/localizations/0/montages/0/neuroradiology/current_processed/pairs.json\n",
      "/data/eeg/R1207J/tal/R1207J_talLocs_database_bipol.mat returning the first file found\n",
      "  warnings.warn(msg, MultiplePathsFoundWarning)\n",
      "/home1/noaherz/cmlreaders/cmlreaders/path_finder.py:239: MultiplePathsFoundWarning: Multiple files found: /protocols/r1/subjects/R1207J/experiments/catFR1/sessions/0/ephys/current_processed/sources.json\n",
      "/data/eeg/R1207J/eeg.noreref/R1207J_catFR1_0_17Aug16_1928.params.txt\n",
      "/data/eeg/R1207J/eeg.noreref/params.txt returning the first file found\n",
      "  warnings.warn(msg, MultiplePathsFoundWarning)\n"
     ]
    },
    {
     "name": "stdout",
     "output_type": "stream",
     "text": [
      "subject R1207J session 0 has no electrodes in the hippocampus and was not included in the analysis\n",
      "Progress: 16 % done, subject:  R1207J\n"
     ]
    },
    {
     "name": "stderr",
     "output_type": "stream",
     "text": [
      "/home1/noaherz/cmlreaders/cmlreaders/path_finder.py:239: MultiplePathsFoundWarning: Multiple files found: /protocols/r1/subjects/R1207J/experiments/catFR1/sessions/1/ephys/current_processed/sources.json\n",
      "/data/eeg/R1207J/eeg.noreref/R1207J_catFR1_1_18Aug16_1916.params.txt\n",
      "/data/eeg/R1207J/eeg.noreref/params.txt returning the first file found\n",
      "  warnings.warn(msg, MultiplePathsFoundWarning)\n"
     ]
    },
    {
     "name": "stdout",
     "output_type": "stream",
     "text": [
      "subject R1207J session 1 has no electrodes in the hippocampus and was not included in the analysis\n",
      "Progress: 16 % done, subject:  R1207J\n"
     ]
    },
    {
     "name": "stderr",
     "output_type": "stream",
     "text": [
      "/home1/noaherz/cmlreaders/cmlreaders/path_finder.py:239: MultiplePathsFoundWarning: Multiple files found: /protocols/r1/subjects/R1207J/experiments/catFR1/sessions/2/ephys/current_processed/sources.json\n",
      "/data/eeg/R1207J/eeg.noreref/R1207J_catFR1_2_23Aug16_1242.params.txt\n",
      "/data/eeg/R1207J/eeg.noreref/params.txt returning the first file found\n",
      "  warnings.warn(msg, MultiplePathsFoundWarning)\n"
     ]
    },
    {
     "name": "stdout",
     "output_type": "stream",
     "text": [
      "subject R1207J session 2 has no electrodes in the hippocampus and was not included in the analysis\n",
      "Progress: 16 % done, subject:  R1207J\n"
     ]
    },
    {
     "name": "stderr",
     "output_type": "stream",
     "text": [
      "/home1/noaherz/cmlreaders/cmlreaders/path_finder.py:239: MultiplePathsFoundWarning: Multiple files found: /protocols/r1/subjects/R1207J/experiments/catFR1/sessions/3/ephys/current_processed/sources.json\n",
      "/data/eeg/R1207J/eeg.noreref/R1207J_catFR1_3_27Aug16_1344.params.txt\n",
      "/data/eeg/R1207J/eeg.noreref/params.txt returning the first file found\n",
      "  warnings.warn(msg, MultiplePathsFoundWarning)\n"
     ]
    },
    {
     "name": "stdout",
     "output_type": "stream",
     "text": [
      "subject R1207J session 3 has no electrodes in the hippocampus and was not included in the analysis\n",
      "Progress: 17 % done, subject:  R1207J\n"
     ]
    },
    {
     "name": "stderr",
     "output_type": "stream",
     "text": [
      "/home1/noaherz/.conda/envs/cml3/lib/python3.7/site-packages/numpy/core/fromnumeric.py:3335: RuntimeWarning: Mean of empty slice.\n",
      "  out=out, **kwargs)\n",
      "/home1/noaherz/.conda/envs/cml3/lib/python3.7/site-packages/numpy/core/_methods.py:161: RuntimeWarning: invalid value encountered in double_scalars\n",
      "  ret = ret.dtype.type(ret / rcount)\n",
      "/home1/noaherz/cmlreaders/cmlreaders/path_finder.py:239: MultiplePathsFoundWarning: Multiple files found: /data10/RAM/subjects/R1215M/docs/electrode_categories.txt\n",
      "/scratch/pwanda/electrode_categories/R1215M_electrode_categories.txt returning the first file found\n",
      "  warnings.warn(msg, MultiplePathsFoundWarning)\n",
      "/home1/noaherz/cmlreaders/cmlreaders/path_finder.py:239: MultiplePathsFoundWarning: Multiple files found: /protocols/r1/subjects/R1215M/localizations/0/montages/0/neuroradiology/current_processed/pairs.json\n",
      "/data/eeg/R1215M/tal/R1215M_talLocs_database_bipol.mat returning the first file found\n",
      "  warnings.warn(msg, MultiplePathsFoundWarning)\n",
      "/home1/noaherz/cmlreaders/cmlreaders/readers/electrodes.py:236: MissingCoordinatesWarning: Could not load MNI coordinates\n",
      "  \"Could not load MNI coordinates\"))\n",
      "/home1/noaherz/cmlreaders/cmlreaders/path_finder.py:239: MultiplePathsFoundWarning: Multiple files found: /protocols/r1/subjects/R1215M/experiments/catFR1/sessions/0/ephys/current_processed/sources.json\n",
      "/data/eeg/R1215M/eeg.noreref/R1215M_catFR1_0_08Sep16_1919.params.txt\n",
      "/data/eeg/R1215M/eeg.noreref/params.txt returning the first file found\n",
      "  warnings.warn(msg, MultiplePathsFoundWarning)\n"
     ]
    },
    {
     "name": "stdout",
     "output_type": "stream",
     "text": [
      "CPP total time wavelet loop:  8.308687925338745\n",
      "Progress: 17 % done, subject:  R1215M\n"
     ]
    },
    {
     "name": "stderr",
     "output_type": "stream",
     "text": [
      "/home1/noaherz/.conda/envs/cml3/lib/python3.7/site-packages/pandas/core/ops/array_ops.py:253: FutureWarning: elementwise comparison failed; returning scalar instead, but in the future will perform elementwise comparison\n",
      "  res_values = method(rvalues)\n",
      "/home1/noaherz/cmlreaders/cmlreaders/path_finder.py:239: MultiplePathsFoundWarning: Multiple files found: /data10/RAM/subjects/R1221P/docs/electrode_categories.txt\n",
      "/scratch/pwanda/electrode_categories/R1221P_electrode_categories.txt returning the first file found\n",
      "  warnings.warn(msg, MultiplePathsFoundWarning)\n",
      "/home1/noaherz/cmlreaders/cmlreaders/path_finder.py:239: MultiplePathsFoundWarning: Multiple files found: /protocols/r1/subjects/R1221P/localizations/0/montages/0/neuroradiology/current_processed/pairs.json\n",
      "/data/eeg/R1221P/tal/R1221P_talLocs_database_bipol.mat returning the first file found\n",
      "  warnings.warn(msg, MultiplePathsFoundWarning)\n",
      "/home1/noaherz/cmlreaders/cmlreaders/readers/electrodes.py:236: MissingCoordinatesWarning: Could not load MNI coordinates\n",
      "  \"Could not load MNI coordinates\"))\n",
      "/home1/noaherz/cmlreaders/cmlreaders/path_finder.py:239: MultiplePathsFoundWarning: Multiple files found: /protocols/r1/subjects/R1221P/experiments/catFR1/sessions/0/ephys/current_processed/sources.json\n",
      "/data/eeg/R1221P/eeg.noreref/R1221P_CatFR1_0_15Sep16_1451.params.txt\n",
      "/data/eeg/R1221P/eeg.noreref/params.txt returning the first file found\n",
      "  warnings.warn(msg, MultiplePathsFoundWarning)\n"
     ]
    },
    {
     "name": "stdout",
     "output_type": "stream",
     "text": [
      "CPP total time wavelet loop:  13.829258680343628\n",
      "Progress: 17 % done, subject:  R1221P\n"
     ]
    },
    {
     "name": "stderr",
     "output_type": "stream",
     "text": [
      "/home1/noaherz/.conda/envs/cml3/lib/python3.7/site-packages/numpy/core/fromnumeric.py:3335: RuntimeWarning: Mean of empty slice.\n",
      "  out=out, **kwargs)\n",
      "/home1/noaherz/.conda/envs/cml3/lib/python3.7/site-packages/numpy/core/_methods.py:161: RuntimeWarning: invalid value encountered in double_scalars\n",
      "  ret = ret.dtype.type(ret / rcount)\n",
      "/home1/noaherz/.conda/envs/cml3/lib/python3.7/site-packages/pandas/core/ops/array_ops.py:253: FutureWarning: elementwise comparison failed; returning scalar instead, but in the future will perform elementwise comparison\n",
      "  res_values = method(rvalues)\n",
      "/home1/noaherz/cmlreaders/cmlreaders/path_finder.py:239: MultiplePathsFoundWarning: Multiple files found: /data10/RAM/subjects/R1221P/docs/electrode_categories.txt\n",
      "/scratch/pwanda/electrode_categories/R1221P_electrode_categories.txt returning the first file found\n",
      "  warnings.warn(msg, MultiplePathsFoundWarning)\n",
      "/home1/noaherz/cmlreaders/cmlreaders/path_finder.py:239: MultiplePathsFoundWarning: Multiple files found: /protocols/r1/subjects/R1221P/localizations/0/montages/0/neuroradiology/current_processed/pairs.json\n",
      "/data/eeg/R1221P/tal/R1221P_talLocs_database_bipol.mat returning the first file found\n",
      "  warnings.warn(msg, MultiplePathsFoundWarning)\n",
      "/home1/noaherz/cmlreaders/cmlreaders/readers/electrodes.py:236: MissingCoordinatesWarning: Could not load MNI coordinates\n",
      "  \"Could not load MNI coordinates\"))\n",
      "/home1/noaherz/cmlreaders/cmlreaders/path_finder.py:239: MultiplePathsFoundWarning: Multiple files found: /protocols/r1/subjects/R1221P/experiments/catFR1/sessions/1/ephys/current_processed/sources.json\n",
      "/data/eeg/R1221P/eeg.noreref/R1221P_CatFR1_1_17Sep16_1105.params.txt\n",
      "/data/eeg/R1221P/eeg.noreref/params.txt returning the first file found\n",
      "  warnings.warn(msg, MultiplePathsFoundWarning)\n"
     ]
    },
    {
     "name": "stdout",
     "output_type": "stream",
     "text": [
      "CPP total time wavelet loop:  8.03439211845398\n",
      "Progress: 17 % done, subject:  R1221P\n"
     ]
    },
    {
     "name": "stderr",
     "output_type": "stream",
     "text": [
      "/home1/noaherz/.conda/envs/cml3/lib/python3.7/site-packages/pandas/core/ops/array_ops.py:253: FutureWarning: elementwise comparison failed; returning scalar instead, but in the future will perform elementwise comparison\n",
      "  res_values = method(rvalues)\n",
      "/home1/noaherz/.conda/envs/cml3/lib/python3.7/site-packages/numpy/core/fromnumeric.py:3335: RuntimeWarning: Mean of empty slice.\n",
      "  out=out, **kwargs)\n",
      "/home1/noaherz/.conda/envs/cml3/lib/python3.7/site-packages/numpy/core/_methods.py:161: RuntimeWarning: invalid value encountered in double_scalars\n",
      "  ret = ret.dtype.type(ret / rcount)\n",
      "/home1/noaherz/cmlreaders/cmlreaders/path_finder.py:239: MultiplePathsFoundWarning: Multiple files found: /data10/RAM/subjects/R1226D/docs/electrode_categories.txt\n",
      "/scratch/pwanda/electrode_categories/R1226D_electrode_categories.txt returning the first file found\n",
      "  warnings.warn(msg, MultiplePathsFoundWarning)\n",
      "/home1/noaherz/cmlreaders/cmlreaders/path_finder.py:239: MultiplePathsFoundWarning: Multiple files found: /protocols/r1/subjects/R1226D/localizations/0/montages/0/neuroradiology/current_processed/pairs.json\n",
      "/data/eeg/R1226D/tal/R1226D_talLocs_database_bipol.mat returning the first file found\n",
      "  warnings.warn(msg, MultiplePathsFoundWarning)\n",
      "/home1/noaherz/cmlreaders/cmlreaders/readers/electrodes.py:236: MissingCoordinatesWarning: Could not load MNI coordinates\n",
      "  \"Could not load MNI coordinates\"))\n",
      "/home1/noaherz/cmlreaders/cmlreaders/path_finder.py:239: MultiplePathsFoundWarning: Multiple files found: /protocols/r1/subjects/R1226D/experiments/catFR1/sessions/0/ephys/current_processed/sources.json\n",
      "/data/eeg/R1226D/eeg.noreref/R1226D_catFR1_0_30Nov16_1607.params.txt\n",
      "/data/eeg/R1226D/eeg.noreref/params.txt returning the first file found\n",
      "  warnings.warn(msg, MultiplePathsFoundWarning)\n"
     ]
    },
    {
     "name": "stdout",
     "output_type": "stream",
     "text": [
      "CPP total time wavelet loop:  28.793924808502197\n",
      "Progress: 18 % done, subject:  R1226D\n"
     ]
    },
    {
     "name": "stderr",
     "output_type": "stream",
     "text": [
      "/home1/noaherz/.conda/envs/cml3/lib/python3.7/site-packages/numpy/core/fromnumeric.py:3335: RuntimeWarning: Mean of empty slice.\n",
      "  out=out, **kwargs)\n",
      "/home1/noaherz/.conda/envs/cml3/lib/python3.7/site-packages/numpy/core/_methods.py:161: RuntimeWarning: invalid value encountered in double_scalars\n",
      "  ret = ret.dtype.type(ret / rcount)\n",
      "/home1/noaherz/.conda/envs/cml3/lib/python3.7/site-packages/pandas/core/ops/array_ops.py:253: FutureWarning: elementwise comparison failed; returning scalar instead, but in the future will perform elementwise comparison\n",
      "  res_values = method(rvalues)\n",
      "/home1/noaherz/cmlreaders/cmlreaders/path_finder.py:239: MultiplePathsFoundWarning: Multiple files found: /data10/RAM/subjects/R1226D/docs/electrode_categories.txt\n",
      "/scratch/pwanda/electrode_categories/R1226D_electrode_categories.txt returning the first file found\n",
      "  warnings.warn(msg, MultiplePathsFoundWarning)\n",
      "/home1/noaherz/cmlreaders/cmlreaders/path_finder.py:239: MultiplePathsFoundWarning: Multiple files found: /protocols/r1/subjects/R1226D/localizations/0/montages/0/neuroradiology/current_processed/pairs.json\n",
      "/data/eeg/R1226D/tal/R1226D_talLocs_database_bipol.mat returning the first file found\n",
      "  warnings.warn(msg, MultiplePathsFoundWarning)\n",
      "/home1/noaherz/cmlreaders/cmlreaders/readers/electrodes.py:236: MissingCoordinatesWarning: Could not load MNI coordinates\n",
      "  \"Could not load MNI coordinates\"))\n",
      "/home1/noaherz/cmlreaders/cmlreaders/path_finder.py:239: MultiplePathsFoundWarning: Multiple files found: /protocols/r1/subjects/R1226D/experiments/catFR1/sessions/2/ephys/current_processed/sources.json\n",
      "/data/eeg/R1226D/eeg.noreref/R1226D_catFR1_2_02Dec16_1646.params.txt\n",
      "/data/eeg/R1226D/eeg.noreref/params.txt returning the first file found\n",
      "  warnings.warn(msg, MultiplePathsFoundWarning)\n"
     ]
    },
    {
     "name": "stdout",
     "output_type": "stream",
     "text": [
      "CPP total time wavelet loop:  17.55979871749878\n",
      "Progress: 18 % done, subject:  R1226D\n"
     ]
    },
    {
     "name": "stderr",
     "output_type": "stream",
     "text": [
      "/home1/noaherz/.conda/envs/cml3/lib/python3.7/site-packages/pandas/core/ops/array_ops.py:253: FutureWarning: elementwise comparison failed; returning scalar instead, but in the future will perform elementwise comparison\n",
      "  res_values = method(rvalues)\n",
      "/home1/noaherz/cmlreaders/cmlreaders/path_finder.py:239: MultiplePathsFoundWarning: Multiple files found: /data10/RAM/subjects/R1226D/docs/electrode_categories.txt\n",
      "/scratch/pwanda/electrode_categories/R1226D_electrode_categories.txt returning the first file found\n",
      "  warnings.warn(msg, MultiplePathsFoundWarning)\n",
      "/home1/noaherz/cmlreaders/cmlreaders/path_finder.py:239: MultiplePathsFoundWarning: Multiple files found: /protocols/r1/subjects/R1226D/localizations/0/montages/0/neuroradiology/current_processed/pairs.json\n",
      "/data/eeg/R1226D/tal/R1226D_talLocs_database_bipol.mat returning the first file found\n",
      "  warnings.warn(msg, MultiplePathsFoundWarning)\n",
      "/home1/noaherz/cmlreaders/cmlreaders/readers/electrodes.py:236: MissingCoordinatesWarning: Could not load MNI coordinates\n",
      "  \"Could not load MNI coordinates\"))\n",
      "/home1/noaherz/cmlreaders/cmlreaders/path_finder.py:239: MultiplePathsFoundWarning: Multiple files found: /protocols/r1/subjects/R1226D/experiments/catFR1/sessions/3/ephys/current_processed/sources.json\n",
      "/data/eeg/R1226D/eeg.noreref/R1226D_catFR1_3_04Dec16_1743.params.txt\n",
      "/data/eeg/R1226D/eeg.noreref/params.txt returning the first file found\n",
      "  warnings.warn(msg, MultiplePathsFoundWarning)\n"
     ]
    },
    {
     "name": "stdout",
     "output_type": "stream",
     "text": [
      "CPP total time wavelet loop:  25.086731433868408\n",
      "Progress: 19 % done, subject:  R1226D\n"
     ]
    },
    {
     "name": "stderr",
     "output_type": "stream",
     "text": [
      "/home1/noaherz/.conda/envs/cml3/lib/python3.7/site-packages/pandas/core/ops/array_ops.py:253: FutureWarning: elementwise comparison failed; returning scalar instead, but in the future will perform elementwise comparison\n",
      "  res_values = method(rvalues)\n",
      "/home1/noaherz/cmlreaders/cmlreaders/path_finder.py:239: MultiplePathsFoundWarning: Multiple files found: /data10/RAM/subjects/R1226D/docs/electrode_categories.txt\n",
      "/scratch/pwanda/electrode_categories/R1226D_electrode_categories.txt returning the first file found\n",
      "  warnings.warn(msg, MultiplePathsFoundWarning)\n",
      "/home1/noaherz/cmlreaders/cmlreaders/path_finder.py:239: MultiplePathsFoundWarning: Multiple files found: /protocols/r1/subjects/R1226D/localizations/0/montages/0/neuroradiology/current_processed/pairs.json\n",
      "/data/eeg/R1226D/tal/R1226D_talLocs_database_bipol.mat returning the first file found\n",
      "  warnings.warn(msg, MultiplePathsFoundWarning)\n",
      "/home1/noaherz/cmlreaders/cmlreaders/readers/electrodes.py:236: MissingCoordinatesWarning: Could not load MNI coordinates\n",
      "  \"Could not load MNI coordinates\"))\n",
      "/home1/noaherz/cmlreaders/cmlreaders/path_finder.py:239: MultiplePathsFoundWarning: Multiple files found: /protocols/r1/subjects/R1226D/experiments/catFR1/sessions/4/ephys/current_processed/sources.json\n",
      "/data/eeg/R1226D/eeg.noreref/R1226D_catFR1_4_07Dec16_1520.params.txt\n",
      "/data/eeg/R1226D/eeg.noreref/params.txt returning the first file found\n",
      "  warnings.warn(msg, MultiplePathsFoundWarning)\n"
     ]
    },
    {
     "name": "stdout",
     "output_type": "stream",
     "text": [
      "CPP total time wavelet loop:  23.15153217315674\n",
      "Progress: 19 % done, subject:  R1226D\n"
     ]
    },
    {
     "name": "stderr",
     "output_type": "stream",
     "text": [
      "/home1/noaherz/.conda/envs/cml3/lib/python3.7/site-packages/pandas/core/ops/array_ops.py:253: FutureWarning: elementwise comparison failed; returning scalar instead, but in the future will perform elementwise comparison\n",
      "  res_values = method(rvalues)\n",
      "/home1/noaherz/cmlreaders/cmlreaders/path_finder.py:239: MultiplePathsFoundWarning: Multiple files found: /data10/RAM/subjects/R1230J/docs/electrode_categories.txt\n",
      "/scratch/pwanda/electrode_categories/R1230J_electrode_categories.txt returning the first file found\n",
      "  warnings.warn(msg, MultiplePathsFoundWarning)\n",
      "/home1/noaherz/cmlreaders/cmlreaders/path_finder.py:239: MultiplePathsFoundWarning: Multiple files found: /protocols/r1/subjects/R1230J/localizations/0/montages/0/neuroradiology/current_processed/pairs.json\n",
      "/data/eeg/R1230J/tal/R1230J_talLocs_database_bipol.mat returning the first file found\n",
      "  warnings.warn(msg, MultiplePathsFoundWarning)\n",
      "/home1/noaherz/cmlreaders/cmlreaders/readers/electrodes.py:236: MissingCoordinatesWarning: Could not load MNI coordinates\n",
      "  \"Could not load MNI coordinates\"))\n",
      "/home1/noaherz/cmlreaders/cmlreaders/path_finder.py:239: MultiplePathsFoundWarning: Multiple files found: /protocols/r1/subjects/R1230J/experiments/catFR1/sessions/0/ephys/current_processed/sources.json\n",
      "/data/eeg/R1230J/eeg.noreref/R1230J_catFR1_0_10Oct16_1609.params.txt\n",
      "/data/eeg/R1230J/eeg.noreref/params.txt returning the first file found\n",
      "  warnings.warn(msg, MultiplePathsFoundWarning)\n"
     ]
    },
    {
     "name": "stdout",
     "output_type": "stream",
     "text": [
      "CPP total time wavelet loop:  45.096006631851196\n",
      "Progress: 19 % done, subject:  R1230J\n"
     ]
    },
    {
     "name": "stderr",
     "output_type": "stream",
     "text": [
      "/home1/noaherz/cmlreaders/cmlreaders/path_finder.py:239: MultiplePathsFoundWarning: Multiple files found: /data10/RAM/subjects/R1235E/docs/electrode_categories.txt\n",
      "/scratch/pwanda/electrode_categories/R1235E_electrode_categories.txt returning the first file found\n",
      "  warnings.warn(msg, MultiplePathsFoundWarning)\n",
      "/home1/noaherz/cmlreaders/cmlreaders/path_finder.py:239: MultiplePathsFoundWarning: Multiple files found: /protocols/r1/subjects/R1235E/localizations/0/montages/0/neuroradiology/current_processed/pairs.json\n",
      "/data/eeg/R1235E/tal/R1235E_talLocs_database_bipol.mat returning the first file found\n",
      "  warnings.warn(msg, MultiplePathsFoundWarning)\n",
      "/home1/noaherz/cmlreaders/cmlreaders/readers/electrodes.py:236: MissingCoordinatesWarning: Could not load MNI coordinates\n",
      "  \"Could not load MNI coordinates\"))\n",
      "/home1/noaherz/cmlreaders/cmlreaders/path_finder.py:239: MultiplePathsFoundWarning: Multiple files found: /protocols/r1/subjects/R1235E/experiments/catFR1/sessions/0/ephys/current_processed/sources.json\n",
      "/data/eeg/R1235E/eeg.noreref/R1235E_catFR1_0_23Oct16_1640.params.txt\n",
      "/data/eeg/R1235E/eeg.noreref/params.txt returning the first file found\n",
      "  warnings.warn(msg, MultiplePathsFoundWarning)\n",
      "/home1/noaherz/cmlreaders/cmlreaders/path_finder.py:239: MultiplePathsFoundWarning: Multiple files found: /protocols/r1/subjects/R1235E/experiments/catFR1/sessions/0/ephys/current_processed/sources.json\n",
      "/data/eeg/R1235E/eeg.noreref/params.txt returning the first file found\n",
      "  warnings.warn(msg, MultiplePathsFoundWarning)\n"
     ]
    },
    {
     "name": "stdout",
     "output_type": "stream",
     "text": [
      "***sub: R1235E exp: catFR1  eeg data is not loading\n"
     ]
    },
    {
     "name": "stderr",
     "output_type": "stream",
     "text": [
      "/home1/noaherz/.conda/envs/cml3/lib/python3.7/site-packages/pandas/core/ops/array_ops.py:253: FutureWarning: elementwise comparison failed; returning scalar instead, but in the future will perform elementwise comparison\n",
      "  res_values = method(rvalues)\n",
      "/home1/noaherz/cmlreaders/cmlreaders/path_finder.py:239: MultiplePathsFoundWarning: Multiple files found: /data10/RAM/subjects/R1235E/docs/electrode_categories.txt\n",
      "/scratch/pwanda/electrode_categories/R1235E_electrode_categories.txt returning the first file found\n",
      "  warnings.warn(msg, MultiplePathsFoundWarning)\n",
      "/home1/noaherz/cmlreaders/cmlreaders/path_finder.py:239: MultiplePathsFoundWarning: Multiple files found: /protocols/r1/subjects/R1235E/localizations/0/montages/0/neuroradiology/current_processed/pairs.json\n",
      "/data/eeg/R1235E/tal/R1235E_talLocs_database_bipol.mat returning the first file found\n",
      "  warnings.warn(msg, MultiplePathsFoundWarning)\n",
      "/home1/noaherz/cmlreaders/cmlreaders/readers/electrodes.py:236: MissingCoordinatesWarning: Could not load MNI coordinates\n",
      "  \"Could not load MNI coordinates\"))\n",
      "/home1/noaherz/cmlreaders/cmlreaders/path_finder.py:239: MultiplePathsFoundWarning: Multiple files found: /protocols/r1/subjects/R1235E/experiments/catFR1/sessions/1/ephys/current_processed/sources.json\n",
      "/data/eeg/R1235E/eeg.noreref/R1235E_catFR1_1_24Oct16_1431.params.txt\n",
      "/data/eeg/R1235E/eeg.noreref/params.txt returning the first file found\n",
      "  warnings.warn(msg, MultiplePathsFoundWarning)\n"
     ]
    },
    {
     "name": "stdout",
     "output_type": "stream",
     "text": [
      "Progress: 20 % done, subject:  R1235E\n"
     ]
    },
    {
     "name": "stderr",
     "output_type": "stream",
     "text": [
      "/home1/noaherz/.conda/envs/cml3/lib/python3.7/site-packages/pandas/core/ops/array_ops.py:253: FutureWarning: elementwise comparison failed; returning scalar instead, but in the future will perform elementwise comparison\n",
      "  res_values = method(rvalues)\n",
      "/home1/noaherz/cmlreaders/cmlreaders/path_finder.py:239: MultiplePathsFoundWarning: Multiple files found: /data10/RAM/subjects/R1235E/docs/electrode_categories.txt\n",
      "/scratch/pwanda/electrode_categories/R1235E_electrode_categories.txt returning the first file found\n",
      "  warnings.warn(msg, MultiplePathsFoundWarning)\n",
      "/home1/noaherz/cmlreaders/cmlreaders/path_finder.py:239: MultiplePathsFoundWarning: Multiple files found: /protocols/r1/subjects/R1235E/localizations/0/montages/0/neuroradiology/current_processed/pairs.json\n",
      "/data/eeg/R1235E/tal/R1235E_talLocs_database_bipol.mat returning the first file found\n",
      "  warnings.warn(msg, MultiplePathsFoundWarning)\n",
      "/home1/noaherz/cmlreaders/cmlreaders/readers/electrodes.py:236: MissingCoordinatesWarning: Could not load MNI coordinates\n",
      "  \"Could not load MNI coordinates\"))\n",
      "/home1/noaherz/cmlreaders/cmlreaders/path_finder.py:239: MultiplePathsFoundWarning: Multiple files found: /protocols/r1/subjects/R1235E/experiments/catFR1/sessions/2/ephys/current_processed/sources.json\n",
      "/data/eeg/R1235E/eeg.noreref/R1235E_catFR1_2_25Oct16_1815.params.txt\n",
      "/data/eeg/R1235E/eeg.noreref/params.txt returning the first file found\n",
      "  warnings.warn(msg, MultiplePathsFoundWarning)\n"
     ]
    },
    {
     "name": "stdout",
     "output_type": "stream",
     "text": [
      "Progress: 20 % done, subject:  R1235E\n"
     ]
    },
    {
     "name": "stderr",
     "output_type": "stream",
     "text": [
      "/home1/noaherz/.conda/envs/cml3/lib/python3.7/site-packages/pandas/core/ops/array_ops.py:253: FutureWarning: elementwise comparison failed; returning scalar instead, but in the future will perform elementwise comparison\n",
      "  res_values = method(rvalues)\n",
      "/home1/noaherz/cmlreaders/cmlreaders/path_finder.py:239: MultiplePathsFoundWarning: Multiple files found: /data10/RAM/subjects/R1236J/docs/electrode_categories.txt\n",
      "/scratch/pwanda/electrode_categories/R1236J_electrode_categories.txt returning the first file found\n",
      "  warnings.warn(msg, MultiplePathsFoundWarning)\n",
      "/home1/noaherz/cmlreaders/cmlreaders/path_finder.py:239: MultiplePathsFoundWarning: Multiple files found: /protocols/r1/subjects/R1236J/localizations/0/montages/0/neuroradiology/current_processed/pairs.json\n",
      "/data/eeg/R1236J/tal/R1236J_talLocs_database_bipol.mat returning the first file found\n",
      "  warnings.warn(msg, MultiplePathsFoundWarning)\n",
      "/home1/noaherz/cmlreaders/cmlreaders/readers/electrodes.py:236: MissingCoordinatesWarning: Could not load MNI coordinates\n",
      "  \"Could not load MNI coordinates\"))\n",
      "/home1/noaherz/cmlreaders/cmlreaders/path_finder.py:239: MultiplePathsFoundWarning: Multiple files found: /protocols/r1/subjects/R1236J/experiments/catFR1/sessions/0/ephys/current_processed/sources.json\n",
      "/data/eeg/R1236J/eeg.noreref/R1236J_catFR1_0_01Nov16_1822.params.txt\n",
      "/data/eeg/R1236J/eeg.noreref/params.txt returning the first file found\n",
      "  warnings.warn(msg, MultiplePathsFoundWarning)\n"
     ]
    },
    {
     "name": "stdout",
     "output_type": "stream",
     "text": [
      "CPP total time wavelet loop:  46.29709029197693\n",
      "Progress: 20 % done, subject:  R1236J\n"
     ]
    },
    {
     "name": "stderr",
     "output_type": "stream",
     "text": [
      "/home1/noaherz/.conda/envs/cml3/lib/python3.7/site-packages/pandas/core/ops/array_ops.py:253: FutureWarning: elementwise comparison failed; returning scalar instead, but in the future will perform elementwise comparison\n",
      "  res_values = method(rvalues)\n",
      "/home1/noaherz/cmlreaders/cmlreaders/path_finder.py:239: MultiplePathsFoundWarning: Multiple files found: /data10/RAM/subjects/R1236J/docs/electrode_categories.txt\n",
      "/scratch/pwanda/electrode_categories/R1236J_electrode_categories.txt returning the first file found\n",
      "  warnings.warn(msg, MultiplePathsFoundWarning)\n",
      "/home1/noaherz/cmlreaders/cmlreaders/path_finder.py:239: MultiplePathsFoundWarning: Multiple files found: /protocols/r1/subjects/R1236J/localizations/0/montages/0/neuroradiology/current_processed/pairs.json\n",
      "/data/eeg/R1236J/tal/R1236J_talLocs_database_bipol.mat returning the first file found\n",
      "  warnings.warn(msg, MultiplePathsFoundWarning)\n",
      "/home1/noaherz/cmlreaders/cmlreaders/readers/electrodes.py:236: MissingCoordinatesWarning: Could not load MNI coordinates\n",
      "  \"Could not load MNI coordinates\"))\n",
      "/home1/noaherz/cmlreaders/cmlreaders/path_finder.py:239: MultiplePathsFoundWarning: Multiple files found: /protocols/r1/subjects/R1236J/experiments/catFR1/sessions/2/ephys/current_processed/sources.json\n",
      "/data/eeg/R1236J/eeg.noreref/params.txt returning the first file found\n",
      "  warnings.warn(msg, MultiplePathsFoundWarning)\n"
     ]
    },
    {
     "name": "stdout",
     "output_type": "stream",
     "text": [
      "CPP total time wavelet loop:  34.31964349746704\n",
      "Progress: 20 % done, subject:  R1236J\n"
     ]
    },
    {
     "name": "stderr",
     "output_type": "stream",
     "text": [
      "/home1/noaherz/.conda/envs/cml3/lib/python3.7/site-packages/pandas/core/ops/array_ops.py:253: FutureWarning: elementwise comparison failed; returning scalar instead, but in the future will perform elementwise comparison\n",
      "  res_values = method(rvalues)\n",
      "/home1/noaherz/cmlreaders/cmlreaders/path_finder.py:239: MultiplePathsFoundWarning: Multiple files found: /data10/RAM/subjects/R1236J/docs/electrode_categories.txt\n",
      "/scratch/pwanda/electrode_categories/R1236J_electrode_categories.txt returning the first file found\n",
      "  warnings.warn(msg, MultiplePathsFoundWarning)\n",
      "/home1/noaherz/cmlreaders/cmlreaders/path_finder.py:239: MultiplePathsFoundWarning: Multiple files found: /protocols/r1/subjects/R1236J/localizations/0/montages/0/neuroradiology/current_processed/pairs.json\n",
      "/data/eeg/R1236J/tal/R1236J_talLocs_database_bipol.mat returning the first file found\n",
      "  warnings.warn(msg, MultiplePathsFoundWarning)\n",
      "/home1/noaherz/cmlreaders/cmlreaders/readers/electrodes.py:236: MissingCoordinatesWarning: Could not load MNI coordinates\n",
      "  \"Could not load MNI coordinates\"))\n",
      "/home1/noaherz/cmlreaders/cmlreaders/path_finder.py:239: MultiplePathsFoundWarning: Multiple files found: /protocols/r1/subjects/R1236J/experiments/catFR1/sessions/3/ephys/current_processed/sources.json\n",
      "/data/eeg/R1236J/eeg.noreref/R1236J_catFR1_3_16Nov16_1651.params.txt\n",
      "/data/eeg/R1236J/eeg.noreref/params.txt returning the first file found\n",
      "  warnings.warn(msg, MultiplePathsFoundWarning)\n"
     ]
    },
    {
     "name": "stdout",
     "output_type": "stream",
     "text": [
      "CPP total time wavelet loop:  26.957728385925293\n",
      "Progress: 21 % done, subject:  R1236J\n"
     ]
    },
    {
     "name": "stderr",
     "output_type": "stream",
     "text": [
      "/home1/noaherz/.conda/envs/cml3/lib/python3.7/site-packages/pandas/core/ops/array_ops.py:253: FutureWarning: elementwise comparison failed; returning scalar instead, but in the future will perform elementwise comparison\n",
      "  res_values = method(rvalues)\n",
      "/home1/noaherz/cmlreaders/cmlreaders/path_finder.py:239: MultiplePathsFoundWarning: Multiple files found: /data10/RAM/subjects/R1240T/docs/electrode_categories.txt\n",
      "/scratch/pwanda/electrode_categories/R1240T_electrode_categories.txt returning the first file found\n",
      "  warnings.warn(msg, MultiplePathsFoundWarning)\n",
      "/home1/noaherz/cmlreaders/cmlreaders/path_finder.py:239: MultiplePathsFoundWarning: Multiple files found: /protocols/r1/subjects/R1240T/localizations/0/montages/0/neuroradiology/current_processed/pairs.json\n",
      "/data/eeg/R1240T/tal/R1240T_talLocs_database_bipol.mat returning the first file found\n",
      "  warnings.warn(msg, MultiplePathsFoundWarning)\n",
      "/home1/noaherz/cmlreaders/cmlreaders/readers/electrodes.py:236: MissingCoordinatesWarning: Could not load MNI coordinates\n",
      "  \"Could not load MNI coordinates\"))\n",
      "/home1/noaherz/cmlreaders/cmlreaders/path_finder.py:239: MultiplePathsFoundWarning: Multiple files found: /protocols/r1/subjects/R1240T/experiments/catFR1/sessions/0/ephys/current_processed/sources.json\n",
      "/data/eeg/R1240T/eeg.noreref/R1240T_catFR1_0_17Nov16_2247.params.txt\n",
      "/data/eeg/R1240T/eeg.noreref/params.txt returning the first file found\n",
      "  warnings.warn(msg, MultiplePathsFoundWarning)\n"
     ]
    },
    {
     "name": "stdout",
     "output_type": "stream",
     "text": [
      "CPP total time wavelet loop:  13.326667785644531\n",
      "Progress: 21 % done, subject:  R1240T\n"
     ]
    },
    {
     "name": "stderr",
     "output_type": "stream",
     "text": [
      "/home1/noaherz/.conda/envs/cml3/lib/python3.7/site-packages/pandas/core/ops/array_ops.py:253: FutureWarning: elementwise comparison failed; returning scalar instead, but in the future will perform elementwise comparison\n",
      "  res_values = method(rvalues)\n",
      "/home1/noaherz/cmlreaders/cmlreaders/path_finder.py:239: MultiplePathsFoundWarning: Multiple files found: /data10/RAM/subjects/R1243T/docs/electrode_categories.txt\n",
      "/scratch/pwanda/electrode_categories/R1243T_electrode_categories.txt returning the first file found\n",
      "  warnings.warn(msg, MultiplePathsFoundWarning)\n",
      "/home1/noaherz/cmlreaders/cmlreaders/path_finder.py:239: MultiplePathsFoundWarning: Multiple files found: /protocols/r1/subjects/R1243T/localizations/0/montages/0/neuroradiology/current_processed/pairs.json\n",
      "/data/eeg/R1243T/tal/R1243T_talLocs_database_bipol.mat returning the first file found\n",
      "  warnings.warn(msg, MultiplePathsFoundWarning)\n",
      "/home1/noaherz/cmlreaders/cmlreaders/readers/electrodes.py:236: MissingCoordinatesWarning: Could not load MNI coordinates\n",
      "  \"Could not load MNI coordinates\"))\n",
      "/home1/noaherz/cmlreaders/cmlreaders/path_finder.py:239: MultiplePathsFoundWarning: Multiple files found: /protocols/r1/subjects/R1243T/experiments/catFR1/sessions/0/ephys/current_processed/sources.json\n",
      "/data/eeg/R1243T/eeg.noreref/R1243T_catFR1_0_28Nov16_1859.params.txt\n",
      "/data/eeg/R1243T/eeg.noreref/params.txt returning the first file found\n",
      "  warnings.warn(msg, MultiplePathsFoundWarning)\n"
     ]
    },
    {
     "name": "stdout",
     "output_type": "stream",
     "text": [
      "CPP total time wavelet loop:  30.240072011947632\n",
      "Progress: 21 % done, subject:  R1243T\n"
     ]
    },
    {
     "name": "stderr",
     "output_type": "stream",
     "text": [
      "/home1/noaherz/.conda/envs/cml3/lib/python3.7/site-packages/pandas/core/ops/array_ops.py:253: FutureWarning: elementwise comparison failed; returning scalar instead, but in the future will perform elementwise comparison\n",
      "  res_values = method(rvalues)\n",
      "/home1/noaherz/cmlreaders/cmlreaders/path_finder.py:239: MultiplePathsFoundWarning: Multiple files found: /data10/RAM/subjects/R1243T/docs/electrode_categories.txt\n",
      "/scratch/pwanda/electrode_categories/R1243T_electrode_categories.txt returning the first file found\n",
      "  warnings.warn(msg, MultiplePathsFoundWarning)\n",
      "/home1/noaherz/cmlreaders/cmlreaders/path_finder.py:239: MultiplePathsFoundWarning: Multiple files found: /protocols/r1/subjects/R1243T/localizations/0/montages/0/neuroradiology/current_processed/pairs.json\n",
      "/data/eeg/R1243T/tal/R1243T_talLocs_database_bipol.mat returning the first file found\n",
      "  warnings.warn(msg, MultiplePathsFoundWarning)\n",
      "/home1/noaherz/cmlreaders/cmlreaders/readers/electrodes.py:236: MissingCoordinatesWarning: Could not load MNI coordinates\n",
      "  \"Could not load MNI coordinates\"))\n",
      "/home1/noaherz/cmlreaders/cmlreaders/path_finder.py:239: MultiplePathsFoundWarning: Multiple files found: /protocols/r1/subjects/R1243T/experiments/catFR1/sessions/1/ephys/current_processed/sources.json\n",
      "/data/eeg/R1243T/eeg.noreref/R1243T_catFR1_1_29Nov16_1550.params.txt\n",
      "/data/eeg/R1243T/eeg.noreref/params.txt returning the first file found\n",
      "  warnings.warn(msg, MultiplePathsFoundWarning)\n"
     ]
    },
    {
     "name": "stdout",
     "output_type": "stream",
     "text": [
      "CPP total time wavelet loop:  36.42017912864685\n",
      "Progress: 21 % done, subject:  R1243T\n"
     ]
    },
    {
     "name": "stderr",
     "output_type": "stream",
     "text": [
      "/home1/noaherz/.conda/envs/cml3/lib/python3.7/site-packages/pandas/core/ops/array_ops.py:253: FutureWarning: elementwise comparison failed; returning scalar instead, but in the future will perform elementwise comparison\n",
      "  res_values = method(rvalues)\n",
      "/home1/noaherz/cmlreaders/cmlreaders/path_finder.py:239: MultiplePathsFoundWarning: Multiple files found: /data10/RAM/subjects/R1243T/docs/electrode_categories.txt\n",
      "/scratch/pwanda/electrode_categories/R1243T_electrode_categories.txt returning the first file found\n",
      "  warnings.warn(msg, MultiplePathsFoundWarning)\n",
      "/home1/noaherz/cmlreaders/cmlreaders/path_finder.py:239: MultiplePathsFoundWarning: Multiple files found: /protocols/r1/subjects/R1243T/localizations/0/montages/0/neuroradiology/current_processed/pairs.json\n",
      "/data/eeg/R1243T/tal/R1243T_talLocs_database_bipol.mat returning the first file found\n",
      "  warnings.warn(msg, MultiplePathsFoundWarning)\n",
      "/home1/noaherz/cmlreaders/cmlreaders/readers/electrodes.py:236: MissingCoordinatesWarning: Could not load MNI coordinates\n",
      "  \"Could not load MNI coordinates\"))\n",
      "/home1/noaherz/cmlreaders/cmlreaders/path_finder.py:239: MultiplePathsFoundWarning: Multiple files found: /protocols/r1/subjects/R1243T/experiments/catFR1/sessions/2/ephys/current_processed/sources.json\n",
      "/data/eeg/R1243T/eeg.noreref/R1243T_catFR1_2_09Dec16_1959.params.txt\n",
      "/data/eeg/R1243T/eeg.noreref/params.txt returning the first file found\n",
      "  warnings.warn(msg, MultiplePathsFoundWarning)\n"
     ]
    },
    {
     "name": "stdout",
     "output_type": "stream",
     "text": [
      "CPP total time wavelet loop:  33.97680306434631\n",
      "Progress: 22 % done, subject:  R1243T\n"
     ]
    },
    {
     "name": "stderr",
     "output_type": "stream",
     "text": [
      "/home1/noaherz/.conda/envs/cml3/lib/python3.7/site-packages/pandas/core/ops/array_ops.py:253: FutureWarning: elementwise comparison failed; returning scalar instead, but in the future will perform elementwise comparison\n",
      "  res_values = method(rvalues)\n",
      "/home1/noaherz/cmlreaders/cmlreaders/path_finder.py:239: MultiplePathsFoundWarning: Multiple files found: /data10/RAM/subjects/R1243T/docs/electrode_categories.txt\n",
      "/scratch/pwanda/electrode_categories/R1243T_electrode_categories.txt returning the first file found\n",
      "  warnings.warn(msg, MultiplePathsFoundWarning)\n",
      "/home1/noaherz/cmlreaders/cmlreaders/path_finder.py:239: MultiplePathsFoundWarning: Multiple files found: /protocols/r1/subjects/R1243T/localizations/0/montages/0/neuroradiology/current_processed/pairs.json\n",
      "/data/eeg/R1243T/tal/R1243T_talLocs_database_bipol.mat returning the first file found\n",
      "  warnings.warn(msg, MultiplePathsFoundWarning)\n",
      "/home1/noaherz/cmlreaders/cmlreaders/readers/electrodes.py:236: MissingCoordinatesWarning: Could not load MNI coordinates\n",
      "  \"Could not load MNI coordinates\"))\n",
      "/home1/noaherz/cmlreaders/cmlreaders/path_finder.py:239: MultiplePathsFoundWarning: Multiple files found: /protocols/r1/subjects/R1243T/experiments/catFR1/sessions/3/ephys/current_processed/sources.json\n",
      "/data/eeg/R1243T/eeg.noreref/R1243T_catFR1_3_16Dec16_1954.params.txt\n",
      "/data/eeg/R1243T/eeg.noreref/params.txt returning the first file found\n",
      "  warnings.warn(msg, MultiplePathsFoundWarning)\n"
     ]
    },
    {
     "name": "stdout",
     "output_type": "stream",
     "text": [
      "CPP total time wavelet loop:  21.128061532974243\n",
      "Progress: 22 % done, subject:  R1243T\n"
     ]
    },
    {
     "name": "stderr",
     "output_type": "stream",
     "text": [
      "/home1/noaherz/.conda/envs/cml3/lib/python3.7/site-packages/pandas/core/ops/array_ops.py:253: FutureWarning: elementwise comparison failed; returning scalar instead, but in the future will perform elementwise comparison\n",
      "  res_values = method(rvalues)\n",
      "/home1/noaherz/cmlreaders/cmlreaders/path_finder.py:239: MultiplePathsFoundWarning: Multiple files found: /data10/RAM/subjects/R1247P/docs/electrode_categories.txt\n",
      "/scratch/pwanda/electrode_categories/R1247P_electrode_categories.txt returning the first file found\n",
      "  warnings.warn(msg, MultiplePathsFoundWarning)\n",
      "/home1/noaherz/cmlreaders/cmlreaders/path_finder.py:239: MultiplePathsFoundWarning: Multiple files found: /protocols/r1/subjects/R1247P/localizations/0/montages/0/neuroradiology/current_processed/pairs.json\n",
      "/data/eeg/R1247P/tal/R1247P_talLocs_database_bipol.mat returning the first file found\n",
      "  warnings.warn(msg, MultiplePathsFoundWarning)\n",
      "/home1/noaherz/cmlreaders/cmlreaders/readers/electrodes.py:236: MissingCoordinatesWarning: Could not load MNI coordinates\n",
      "  \"Could not load MNI coordinates\"))\n",
      "/home1/noaherz/cmlreaders/cmlreaders/path_finder.py:239: MultiplePathsFoundWarning: Multiple files found: /protocols/r1/subjects/R1247P/experiments/catFR1/sessions/1/ephys/current_processed/sources.json\n",
      "/data/eeg/R1247P/eeg.noreref/R1247P_catFR1_1_10Dec16_1952.params.txt\n",
      "/data/eeg/R1247P/eeg.noreref/params.txt returning the first file found\n",
      "  warnings.warn(msg, MultiplePathsFoundWarning)\n"
     ]
    },
    {
     "name": "stdout",
     "output_type": "stream",
     "text": [
      "CPP total time wavelet loop:  17.06153702735901\n",
      "Progress: 22 % done, subject:  R1247P\n"
     ]
    },
    {
     "name": "stderr",
     "output_type": "stream",
     "text": [
      "/home1/noaherz/.conda/envs/cml3/lib/python3.7/site-packages/pandas/core/ops/array_ops.py:253: FutureWarning: elementwise comparison failed; returning scalar instead, but in the future will perform elementwise comparison\n",
      "  res_values = method(rvalues)\n",
      "/home1/noaherz/cmlreaders/cmlreaders/path_finder.py:239: MultiplePathsFoundWarning: Multiple files found: /data10/RAM/subjects/R1247P/docs/electrode_categories.txt\n",
      "/scratch/pwanda/electrode_categories/R1247P_electrode_categories.txt returning the first file found\n",
      "  warnings.warn(msg, MultiplePathsFoundWarning)\n",
      "/home1/noaherz/cmlreaders/cmlreaders/path_finder.py:239: MultiplePathsFoundWarning: Multiple files found: /protocols/r1/subjects/R1247P/localizations/0/montages/0/neuroradiology/current_processed/pairs.json\n",
      "/data/eeg/R1247P/tal/R1247P_talLocs_database_bipol.mat returning the first file found\n",
      "  warnings.warn(msg, MultiplePathsFoundWarning)\n",
      "/home1/noaherz/cmlreaders/cmlreaders/readers/electrodes.py:236: MissingCoordinatesWarning: Could not load MNI coordinates\n",
      "  \"Could not load MNI coordinates\"))\n",
      "/home1/noaherz/cmlreaders/cmlreaders/path_finder.py:239: MultiplePathsFoundWarning: Multiple files found: /protocols/r1/subjects/R1247P/experiments/catFR1/sessions/2/ephys/current_processed/sources.json\n",
      "/data/eeg/R1247P/eeg.noreref/R1247P_catFR1_2_12Dec16_1916.params.txt\n",
      "/data/eeg/R1247P/eeg.noreref/params.txt returning the first file found\n",
      "  warnings.warn(msg, MultiplePathsFoundWarning)\n"
     ]
    },
    {
     "name": "stdout",
     "output_type": "stream",
     "text": [
      "CPP total time wavelet loop:  11.407735109329224\n",
      "Progress: 23 % done, subject:  R1247P\n"
     ]
    },
    {
     "name": "stderr",
     "output_type": "stream",
     "text": [
      "/home1/noaherz/.conda/envs/cml3/lib/python3.7/site-packages/numpy/core/fromnumeric.py:3335: RuntimeWarning: Mean of empty slice.\n",
      "  out=out, **kwargs)\n",
      "/home1/noaherz/.conda/envs/cml3/lib/python3.7/site-packages/numpy/core/_methods.py:161: RuntimeWarning: invalid value encountered in double_scalars\n",
      "  ret = ret.dtype.type(ret / rcount)\n",
      "/home1/noaherz/.conda/envs/cml3/lib/python3.7/site-packages/pandas/core/ops/array_ops.py:253: FutureWarning: elementwise comparison failed; returning scalar instead, but in the future will perform elementwise comparison\n",
      "  res_values = method(rvalues)\n",
      "/home1/noaherz/cmlreaders/cmlreaders/path_finder.py:239: MultiplePathsFoundWarning: Multiple files found: /data10/RAM/subjects/R1254E/docs/electrode_categories.txt\n",
      "/scratch/pwanda/electrode_categories/R1254E_electrode_categories.txt returning the first file found\n",
      "  warnings.warn(msg, MultiplePathsFoundWarning)\n",
      "/home1/noaherz/cmlreaders/cmlreaders/path_finder.py:239: MultiplePathsFoundWarning: Multiple files found: /protocols/r1/subjects/R1254E/localizations/0/montages/0/neuroradiology/current_processed/pairs.json\n",
      "/data/eeg/R1254E/tal/R1254E_talLocs_database_bipol.mat returning the first file found\n",
      "  warnings.warn(msg, MultiplePathsFoundWarning)\n",
      "/home1/noaherz/cmlreaders/cmlreaders/readers/electrodes.py:236: MissingCoordinatesWarning: Could not load MNI coordinates\n",
      "  \"Could not load MNI coordinates\"))\n",
      "/home1/noaherz/cmlreaders/cmlreaders/path_finder.py:239: MultiplePathsFoundWarning: Multiple files found: /protocols/r1/subjects/R1254E/experiments/catFR1/sessions/0/ephys/current_processed/sources.json\n",
      "/data/eeg/R1254E/eeg.noreref/R1254E_catFR1_0_09Jan17_1214.params.txt\n",
      "/data/eeg/R1254E/eeg.noreref/params.txt returning the first file found\n",
      "  warnings.warn(msg, MultiplePathsFoundWarning)\n"
     ]
    },
    {
     "name": "stdout",
     "output_type": "stream",
     "text": [
      "CPP total time wavelet loop:  37.42510366439819\n",
      "Progress: 23 % done, subject:  R1254E\n"
     ]
    },
    {
     "name": "stderr",
     "output_type": "stream",
     "text": [
      "/home1/noaherz/.conda/envs/cml3/lib/python3.7/site-packages/pandas/core/ops/array_ops.py:253: FutureWarning: elementwise comparison failed; returning scalar instead, but in the future will perform elementwise comparison\n",
      "  res_values = method(rvalues)\n",
      "/home1/noaherz/cmlreaders/cmlreaders/path_finder.py:239: MultiplePathsFoundWarning: Multiple files found: /data10/RAM/subjects/R1260D/docs/electrode_categories.txt\n",
      "/scratch/pwanda/electrode_categories/R1260D_electrode_categories.txt returning the first file found\n",
      "  warnings.warn(msg, MultiplePathsFoundWarning)\n",
      "/home1/noaherz/cmlreaders/cmlreaders/path_finder.py:239: MultiplePathsFoundWarning: Multiple files found: /protocols/r1/subjects/R1260D/localizations/0/montages/0/neuroradiology/current_processed/pairs.json\n",
      "/data/eeg/R1260D/tal/R1260D_talLocs_database_bipol.mat returning the first file found\n",
      "  warnings.warn(msg, MultiplePathsFoundWarning)\n",
      "/home1/noaherz/cmlreaders/cmlreaders/readers/electrodes.py:236: MissingCoordinatesWarning: Could not load MNI coordinates\n",
      "  \"Could not load MNI coordinates\"))\n",
      "/home1/noaherz/cmlreaders/cmlreaders/path_finder.py:239: MultiplePathsFoundWarning: Multiple files found: /protocols/r1/subjects/R1260D/experiments/catFR1/sessions/0/ephys/current_processed/sources.json\n",
      "/data/eeg/R1260D/eeg.noreref/R1260D_catFR1_0_27Jan17_1506.params.txt\n",
      "/data/eeg/R1260D/eeg.noreref/params.txt returning the first file found\n",
      "  warnings.warn(msg, MultiplePathsFoundWarning)\n"
     ]
    },
    {
     "name": "stdout",
     "output_type": "stream",
     "text": [
      "CPP total time wavelet loop:  52.00151872634888\n",
      "Progress: 23 % done, subject:  R1260D\n"
     ]
    },
    {
     "name": "stderr",
     "output_type": "stream",
     "text": [
      "/home1/noaherz/.conda/envs/cml3/lib/python3.7/site-packages/pandas/core/ops/array_ops.py:253: FutureWarning: elementwise comparison failed; returning scalar instead, but in the future will perform elementwise comparison\n",
      "  res_values = method(rvalues)\n",
      "/home1/noaherz/cmlreaders/cmlreaders/path_finder.py:239: MultiplePathsFoundWarning: Multiple files found: /data10/RAM/subjects/R1260D/docs/electrode_categories.txt\n",
      "/scratch/pwanda/electrode_categories/R1260D_electrode_categories.txt returning the first file found\n",
      "  warnings.warn(msg, MultiplePathsFoundWarning)\n",
      "/home1/noaherz/cmlreaders/cmlreaders/path_finder.py:239: MultiplePathsFoundWarning: Multiple files found: /protocols/r1/subjects/R1260D/localizations/0/montages/0/neuroradiology/current_processed/pairs.json\n",
      "/data/eeg/R1260D/tal/R1260D_talLocs_database_bipol.mat returning the first file found\n",
      "  warnings.warn(msg, MultiplePathsFoundWarning)\n",
      "/home1/noaherz/cmlreaders/cmlreaders/readers/electrodes.py:236: MissingCoordinatesWarning: Could not load MNI coordinates\n",
      "  \"Could not load MNI coordinates\"))\n",
      "/home1/noaherz/cmlreaders/cmlreaders/path_finder.py:239: MultiplePathsFoundWarning: Multiple files found: /protocols/r1/subjects/R1260D/experiments/catFR1/sessions/1/ephys/current_processed/sources.json\n",
      "/data/eeg/R1260D/eeg.noreref/R1260D_catFR1_1_29Jan17_1729.params.txt\n",
      "/data/eeg/R1260D/eeg.noreref/params.txt returning the first file found\n",
      "  warnings.warn(msg, MultiplePathsFoundWarning)\n"
     ]
    },
    {
     "name": "stdout",
     "output_type": "stream",
     "text": [
      "CPP total time wavelet loop:  45.42555570602417\n",
      "Progress: 23 % done, subject:  R1260D\n"
     ]
    },
    {
     "name": "stderr",
     "output_type": "stream",
     "text": [
      "/home1/noaherz/.conda/envs/cml3/lib/python3.7/site-packages/pandas/core/ops/array_ops.py:253: FutureWarning: elementwise comparison failed; returning scalar instead, but in the future will perform elementwise comparison\n",
      "  res_values = method(rvalues)\n",
      "/home1/noaherz/cmlreaders/cmlreaders/path_finder.py:239: MultiplePathsFoundWarning: Multiple files found: /data10/RAM/subjects/R1264P/docs/electrode_categories.txt\n",
      "/scratch/pwanda/electrode_categories/R1264P_electrode_categories.txt returning the first file found\n",
      "  warnings.warn(msg, MultiplePathsFoundWarning)\n",
      "/home1/noaherz/cmlreaders/cmlreaders/path_finder.py:239: MultiplePathsFoundWarning: Multiple files found: /protocols/r1/subjects/R1264P/localizations/0/montages/0/neuroradiology/current_processed/pairs.json\n",
      "/data/eeg/R1264P/tal/R1264P_talLocs_database_bipol.mat returning the first file found\n",
      "  warnings.warn(msg, MultiplePathsFoundWarning)\n",
      "/home1/noaherz/cmlreaders/cmlreaders/readers/electrodes.py:236: MissingCoordinatesWarning: Could not load MNI coordinates\n",
      "  \"Could not load MNI coordinates\"))\n",
      "/home1/noaherz/cmlreaders/cmlreaders/path_finder.py:239: MultiplePathsFoundWarning: Multiple files found: /protocols/r1/subjects/R1264P/experiments/catFR1/sessions/0/ephys/current_processed/sources.json\n",
      "/data/eeg/R1264P/eeg.noreref/R1264P_catFR1_0_29Jan17_1815.params.txt\n",
      "/data/eeg/R1264P/eeg.noreref/params.txt returning the first file found\n",
      "  warnings.warn(msg, MultiplePathsFoundWarning)\n"
     ]
    },
    {
     "name": "stdout",
     "output_type": "stream",
     "text": [
      "CPP total time wavelet loop:  17.49361300468445\n",
      "Progress: 24 % done, subject:  R1264P\n"
     ]
    },
    {
     "name": "stderr",
     "output_type": "stream",
     "text": [
      "/home1/noaherz/.conda/envs/cml3/lib/python3.7/site-packages/numpy/core/fromnumeric.py:3335: RuntimeWarning: Mean of empty slice.\n",
      "  out=out, **kwargs)\n",
      "/home1/noaherz/.conda/envs/cml3/lib/python3.7/site-packages/numpy/core/_methods.py:161: RuntimeWarning: invalid value encountered in double_scalars\n",
      "  ret = ret.dtype.type(ret / rcount)\n",
      "/home1/noaherz/.conda/envs/cml3/lib/python3.7/site-packages/pandas/core/ops/array_ops.py:253: FutureWarning: elementwise comparison failed; returning scalar instead, but in the future will perform elementwise comparison\n",
      "  res_values = method(rvalues)\n",
      "/home1/noaherz/cmlreaders/cmlreaders/path_finder.py:239: MultiplePathsFoundWarning: Multiple files found: /data10/RAM/subjects/R1264P/docs/electrode_categories.txt\n",
      "/scratch/pwanda/electrode_categories/R1264P_electrode_categories.txt returning the first file found\n",
      "  warnings.warn(msg, MultiplePathsFoundWarning)\n",
      "/home1/noaherz/cmlreaders/cmlreaders/path_finder.py:239: MultiplePathsFoundWarning: Multiple files found: /protocols/r1/subjects/R1264P/localizations/0/montages/0/neuroradiology/current_processed/pairs.json\n",
      "/data/eeg/R1264P/tal/R1264P_talLocs_database_bipol.mat returning the first file found\n",
      "  warnings.warn(msg, MultiplePathsFoundWarning)\n",
      "/home1/noaherz/cmlreaders/cmlreaders/readers/electrodes.py:236: MissingCoordinatesWarning: Could not load MNI coordinates\n",
      "  \"Could not load MNI coordinates\"))\n",
      "/home1/noaherz/cmlreaders/cmlreaders/path_finder.py:239: MultiplePathsFoundWarning: Multiple files found: /protocols/r1/subjects/R1264P/experiments/catFR1/sessions/1/ephys/current_processed/sources.json\n",
      "/data/eeg/R1264P/eeg.noreref/R1264P_catFR1_1_30Jan17_2031.params.txt\n",
      "/data/eeg/R1264P/eeg.noreref/params.txt returning the first file found\n",
      "  warnings.warn(msg, MultiplePathsFoundWarning)\n"
     ]
    },
    {
     "name": "stdout",
     "output_type": "stream",
     "text": [
      "CPP total time wavelet loop:  17.050114154815674\n",
      "Progress: 24 % done, subject:  R1264P\n"
     ]
    },
    {
     "name": "stderr",
     "output_type": "stream",
     "text": [
      "/home1/noaherz/.conda/envs/cml3/lib/python3.7/site-packages/pandas/core/ops/array_ops.py:253: FutureWarning: elementwise comparison failed; returning scalar instead, but in the future will perform elementwise comparison\n",
      "  res_values = method(rvalues)\n",
      "/home1/noaherz/cmlreaders/cmlreaders/path_finder.py:239: MultiplePathsFoundWarning: Multiple files found: /data10/RAM/subjects/R1266J/docs/electrode_categories.txt\n",
      "/scratch/pwanda/electrode_categories/R1266J_electrode_categories.txt returning the first file found\n",
      "  warnings.warn(msg, MultiplePathsFoundWarning)\n",
      "/home1/noaherz/cmlreaders/cmlreaders/path_finder.py:239: MultiplePathsFoundWarning: Multiple files found: /protocols/r1/subjects/R1266J/localizations/0/montages/0/neuroradiology/current_processed/pairs.json\n",
      "/data/eeg/R1266J/tal/R1266J_talLocs_database_bipol.mat returning the first file found\n",
      "  warnings.warn(msg, MultiplePathsFoundWarning)\n",
      "/home1/noaherz/cmlreaders/cmlreaders/readers/electrodes.py:236: MissingCoordinatesWarning: Could not load MNI coordinates\n",
      "  \"Could not load MNI coordinates\"))\n"
     ]
    },
    {
     "name": "stdout",
     "output_type": "stream",
     "text": [
      "subject R1266J session 1 has no electrodes in the hippocampus and was not included in the analysis\n",
      "Progress: 24 % done, subject:  R1266J\n"
     ]
    },
    {
     "name": "stderr",
     "output_type": "stream",
     "text": [
      "/home1/noaherz/.conda/envs/cml3/lib/python3.7/site-packages/pandas/core/ops/array_ops.py:253: FutureWarning: elementwise comparison failed; returning scalar instead, but in the future will perform elementwise comparison\n",
      "  res_values = method(rvalues)\n",
      "/home1/noaherz/cmlreaders/cmlreaders/path_finder.py:239: MultiplePathsFoundWarning: Multiple files found: /data10/RAM/subjects/R1266J/docs/electrode_categories.txt\n",
      "/scratch/pwanda/electrode_categories/R1266J_electrode_categories.txt returning the first file found\n",
      "  warnings.warn(msg, MultiplePathsFoundWarning)\n",
      "/home1/noaherz/cmlreaders/cmlreaders/path_finder.py:239: MultiplePathsFoundWarning: Multiple files found: /protocols/r1/subjects/R1266J/localizations/0/montages/0/neuroradiology/current_processed/pairs.json\n",
      "/data/eeg/R1266J/tal/R1266J_talLocs_database_bipol.mat returning the first file found\n",
      "  warnings.warn(msg, MultiplePathsFoundWarning)\n",
      "/home1/noaherz/cmlreaders/cmlreaders/readers/electrodes.py:236: MissingCoordinatesWarning: Could not load MNI coordinates\n",
      "  \"Could not load MNI coordinates\"))\n"
     ]
    },
    {
     "name": "stdout",
     "output_type": "stream",
     "text": [
      "subject R1266J session 2 has no electrodes in the hippocampus and was not included in the analysis\n",
      "Progress: 24 % done, subject:  R1266J\n"
     ]
    },
    {
     "name": "stderr",
     "output_type": "stream",
     "text": [
      "/home1/noaherz/.conda/envs/cml3/lib/python3.7/site-packages/pandas/core/ops/array_ops.py:253: FutureWarning: elementwise comparison failed; returning scalar instead, but in the future will perform elementwise comparison\n",
      "  res_values = method(rvalues)\n",
      "/home1/noaherz/cmlreaders/cmlreaders/path_finder.py:239: MultiplePathsFoundWarning: Multiple files found: /data10/RAM/subjects/R1266J/docs/electrode_categories.txt\n",
      "/scratch/pwanda/electrode_categories/R1266J_electrode_categories.txt returning the first file found\n",
      "  warnings.warn(msg, MultiplePathsFoundWarning)\n",
      "/home1/noaherz/cmlreaders/cmlreaders/path_finder.py:239: MultiplePathsFoundWarning: Multiple files found: /protocols/r1/subjects/R1266J/localizations/0/montages/0/neuroradiology/current_processed/pairs.json\n",
      "/data/eeg/R1266J/tal/R1266J_talLocs_database_bipol.mat returning the first file found\n",
      "  warnings.warn(msg, MultiplePathsFoundWarning)\n",
      "/home1/noaherz/cmlreaders/cmlreaders/readers/electrodes.py:236: MissingCoordinatesWarning: Could not load MNI coordinates\n",
      "  \"Could not load MNI coordinates\"))\n"
     ]
    },
    {
     "name": "stdout",
     "output_type": "stream",
     "text": [
      "subject R1266J session 3 has no electrodes in the hippocampus and was not included in the analysis\n",
      "Progress: 25 % done, subject:  R1266J\n"
     ]
    },
    {
     "name": "stderr",
     "output_type": "stream",
     "text": [
      "/home1/noaherz/.conda/envs/cml3/lib/python3.7/site-packages/pandas/core/ops/array_ops.py:253: FutureWarning: elementwise comparison failed; returning scalar instead, but in the future will perform elementwise comparison\n",
      "  res_values = method(rvalues)\n",
      "/home1/noaherz/cmlreaders/cmlreaders/path_finder.py:239: MultiplePathsFoundWarning: Multiple files found: /data10/RAM/subjects/R1266J/docs/electrode_categories.txt\n",
      "/scratch/pwanda/electrode_categories/R1266J_electrode_categories.txt returning the first file found\n",
      "  warnings.warn(msg, MultiplePathsFoundWarning)\n",
      "/home1/noaherz/cmlreaders/cmlreaders/path_finder.py:239: MultiplePathsFoundWarning: Multiple files found: /protocols/r1/subjects/R1266J/localizations/0/montages/0/neuroradiology/current_processed/pairs.json\n",
      "/data/eeg/R1266J/tal/R1266J_talLocs_database_bipol.mat returning the first file found\n",
      "  warnings.warn(msg, MultiplePathsFoundWarning)\n",
      "/home1/noaherz/cmlreaders/cmlreaders/readers/electrodes.py:236: MissingCoordinatesWarning: Could not load MNI coordinates\n",
      "  \"Could not load MNI coordinates\"))\n"
     ]
    },
    {
     "name": "stdout",
     "output_type": "stream",
     "text": [
      "subject R1266J session 5 has no electrodes in the hippocampus and was not included in the analysis\n",
      "Progress: 25 % done, subject:  R1266J\n"
     ]
    },
    {
     "name": "stderr",
     "output_type": "stream",
     "text": [
      "/home1/noaherz/.conda/envs/cml3/lib/python3.7/site-packages/numpy/core/fromnumeric.py:3335: RuntimeWarning: Mean of empty slice.\n",
      "  out=out, **kwargs)\n",
      "/home1/noaherz/.conda/envs/cml3/lib/python3.7/site-packages/numpy/core/_methods.py:161: RuntimeWarning: invalid value encountered in double_scalars\n",
      "  ret = ret.dtype.type(ret / rcount)\n",
      "/home1/noaherz/.conda/envs/cml3/lib/python3.7/site-packages/pandas/core/ops/array_ops.py:253: FutureWarning: elementwise comparison failed; returning scalar instead, but in the future will perform elementwise comparison\n",
      "  res_values = method(rvalues)\n",
      "/home1/noaherz/cmlreaders/cmlreaders/path_finder.py:239: MultiplePathsFoundWarning: Multiple files found: /protocols/r1/subjects/R1269E/localizations/0/montages/1/neuroradiology/current_processed/pairs.json\n",
      "/data/eeg/R1269E_1/tal/R1269E_1_talLocs_database_bipol.mat returning the first file found\n",
      "  warnings.warn(msg, MultiplePathsFoundWarning)\n",
      "/home1/noaherz/cmlreaders/cmlreaders/readers/electrodes.py:236: MissingCoordinatesWarning: Could not load MNI coordinates\n",
      "  \"Could not load MNI coordinates\"))\n"
     ]
    },
    {
     "name": "stdout",
     "output_type": "stream",
     "text": [
      "CPP total time wavelet loop:  41.31955099105835\n",
      "Progress: 25 % done, subject:  R1269E\n"
     ]
    },
    {
     "name": "stderr",
     "output_type": "stream",
     "text": [
      "/home1/noaherz/.conda/envs/cml3/lib/python3.7/site-packages/pandas/core/ops/array_ops.py:253: FutureWarning: elementwise comparison failed; returning scalar instead, but in the future will perform elementwise comparison\n",
      "  res_values = method(rvalues)\n",
      "/home1/noaherz/cmlreaders/cmlreaders/path_finder.py:239: MultiplePathsFoundWarning: Multiple files found: /protocols/r1/subjects/R1269E/localizations/0/montages/1/neuroradiology/current_processed/pairs.json\n",
      "/data/eeg/R1269E_1/tal/R1269E_1_talLocs_database_bipol.mat returning the first file found\n",
      "  warnings.warn(msg, MultiplePathsFoundWarning)\n",
      "/home1/noaherz/cmlreaders/cmlreaders/readers/electrodes.py:236: MissingCoordinatesWarning: Could not load MNI coordinates\n",
      "  \"Could not load MNI coordinates\"))\n"
     ]
    },
    {
     "name": "stdout",
     "output_type": "stream",
     "text": [
      "CPP total time wavelet loop:  46.46248507499695\n",
      "Progress: 26 % done, subject:  R1269E\n"
     ]
    },
    {
     "name": "stderr",
     "output_type": "stream",
     "text": [
      "/home1/noaherz/.conda/envs/cml3/lib/python3.7/site-packages/numpy/core/fromnumeric.py:3335: RuntimeWarning: Mean of empty slice.\n",
      "  out=out, **kwargs)\n",
      "/home1/noaherz/.conda/envs/cml3/lib/python3.7/site-packages/numpy/core/_methods.py:161: RuntimeWarning: invalid value encountered in double_scalars\n",
      "  ret = ret.dtype.type(ret / rcount)\n",
      "/home1/noaherz/.conda/envs/cml3/lib/python3.7/site-packages/pandas/core/ops/array_ops.py:253: FutureWarning: elementwise comparison failed; returning scalar instead, but in the future will perform elementwise comparison\n",
      "  res_values = method(rvalues)\n",
      "/home1/noaherz/cmlreaders/cmlreaders/path_finder.py:239: MultiplePathsFoundWarning: Multiple files found: /protocols/r1/subjects/R1269E/localizations/0/montages/1/neuroradiology/current_processed/pairs.json\n",
      "/data/eeg/R1269E_1/tal/R1269E_1_talLocs_database_bipol.mat returning the first file found\n",
      "  warnings.warn(msg, MultiplePathsFoundWarning)\n",
      "/home1/noaherz/cmlreaders/cmlreaders/readers/electrodes.py:236: MissingCoordinatesWarning: Could not load MNI coordinates\n",
      "  \"Could not load MNI coordinates\"))\n"
     ]
    },
    {
     "name": "stdout",
     "output_type": "stream",
     "text": [
      "CPP total time wavelet loop:  35.68012762069702\n",
      "Progress: 26 % done, subject:  R1269E\n"
     ]
    },
    {
     "name": "stderr",
     "output_type": "stream",
     "text": [
      "/home1/noaherz/.conda/envs/cml3/lib/python3.7/site-packages/pandas/core/ops/array_ops.py:253: FutureWarning: elementwise comparison failed; returning scalar instead, but in the future will perform elementwise comparison\n",
      "  res_values = method(rvalues)\n",
      "/home1/noaherz/cmlreaders/cmlreaders/path_finder.py:239: MultiplePathsFoundWarning: Multiple files found: /protocols/r1/subjects/R1269E/localizations/0/montages/1/neuroradiology/current_processed/pairs.json\n",
      "/data/eeg/R1269E_1/tal/R1269E_1_talLocs_database_bipol.mat returning the first file found\n",
      "  warnings.warn(msg, MultiplePathsFoundWarning)\n",
      "/home1/noaherz/cmlreaders/cmlreaders/readers/electrodes.py:236: MissingCoordinatesWarning: Could not load MNI coordinates\n",
      "  \"Could not load MNI coordinates\"))\n"
     ]
    },
    {
     "name": "stdout",
     "output_type": "stream",
     "text": [
      "***sub: R1269E exp: catFR1  eeg data is not loading\n"
     ]
    },
    {
     "name": "stderr",
     "output_type": "stream",
     "text": [
      "/home1/noaherz/.conda/envs/cml3/lib/python3.7/site-packages/numpy/core/fromnumeric.py:3335: RuntimeWarning: Mean of empty slice.\n",
      "  out=out, **kwargs)\n",
      "/home1/noaherz/.conda/envs/cml3/lib/python3.7/site-packages/numpy/core/_methods.py:161: RuntimeWarning: invalid value encountered in double_scalars\n",
      "  ret = ret.dtype.type(ret / rcount)\n",
      "/home1/noaherz/.conda/envs/cml3/lib/python3.7/site-packages/pandas/core/ops/array_ops.py:253: FutureWarning: elementwise comparison failed; returning scalar instead, but in the future will perform elementwise comparison\n",
      "  res_values = method(rvalues)\n",
      "/home1/noaherz/cmlreaders/cmlreaders/path_finder.py:239: MultiplePathsFoundWarning: Multiple files found: /data10/RAM/subjects/R1271P/docs/electrode_categories.txt\n",
      "/scratch/pwanda/electrode_categories/R1271P_electrode_categories.txt returning the first file found\n",
      "  warnings.warn(msg, MultiplePathsFoundWarning)\n",
      "/home1/noaherz/cmlreaders/cmlreaders/path_finder.py:239: MultiplePathsFoundWarning: Multiple files found: /protocols/r1/subjects/R1271P/localizations/0/montages/0/neuroradiology/current_processed/pairs.json\n",
      "/data/eeg/R1271P/tal/R1271P_talLocs_database_bipol.mat returning the first file found\n",
      "  warnings.warn(msg, MultiplePathsFoundWarning)\n",
      "/home1/noaherz/cmlreaders/cmlreaders/readers/electrodes.py:236: MissingCoordinatesWarning: Could not load MNI coordinates\n",
      "  \"Could not load MNI coordinates\"))\n"
     ]
    },
    {
     "name": "stdout",
     "output_type": "stream",
     "text": [
      "CPP total time wavelet loop:  18.028557538986206\n",
      "Progress: 26 % done, subject:  R1271P\n"
     ]
    },
    {
     "name": "stderr",
     "output_type": "stream",
     "text": [
      "/home1/noaherz/.conda/envs/cml3/lib/python3.7/site-packages/pandas/core/ops/array_ops.py:253: FutureWarning: elementwise comparison failed; returning scalar instead, but in the future will perform elementwise comparison\n",
      "  res_values = method(rvalues)\n",
      "/home1/noaherz/cmlreaders/cmlreaders/path_finder.py:239: MultiplePathsFoundWarning: Multiple files found: /data10/RAM/subjects/R1271P/docs/electrode_categories.txt\n",
      "/scratch/pwanda/electrode_categories/R1271P_electrode_categories.txt returning the first file found\n",
      "  warnings.warn(msg, MultiplePathsFoundWarning)\n",
      "/home1/noaherz/cmlreaders/cmlreaders/path_finder.py:239: MultiplePathsFoundWarning: Multiple files found: /protocols/r1/subjects/R1271P/localizations/0/montages/0/neuroradiology/current_processed/pairs.json\n",
      "/data/eeg/R1271P/tal/R1271P_talLocs_database_bipol.mat returning the first file found\n",
      "  warnings.warn(msg, MultiplePathsFoundWarning)\n",
      "/home1/noaherz/cmlreaders/cmlreaders/readers/electrodes.py:236: MissingCoordinatesWarning: Could not load MNI coordinates\n",
      "  \"Could not load MNI coordinates\"))\n"
     ]
    },
    {
     "name": "stdout",
     "output_type": "stream",
     "text": [
      "CPP total time wavelet loop:  15.90883755683899\n",
      "Progress: 27 % done, subject:  R1271P\n"
     ]
    },
    {
     "name": "stderr",
     "output_type": "stream",
     "text": [
      "/home1/noaherz/.conda/envs/cml3/lib/python3.7/site-packages/pandas/core/ops/array_ops.py:253: FutureWarning: elementwise comparison failed; returning scalar instead, but in the future will perform elementwise comparison\n",
      "  res_values = method(rvalues)\n",
      "/home1/noaherz/cmlreaders/cmlreaders/path_finder.py:239: MultiplePathsFoundWarning: Multiple files found: /data10/RAM/subjects/R1271P/docs/electrode_categories.txt\n",
      "/scratch/pwanda/electrode_categories/R1271P_electrode_categories.txt returning the first file found\n",
      "  warnings.warn(msg, MultiplePathsFoundWarning)\n",
      "/home1/noaherz/cmlreaders/cmlreaders/path_finder.py:239: MultiplePathsFoundWarning: Multiple files found: /protocols/r1/subjects/R1271P/localizations/0/montages/0/neuroradiology/current_processed/pairs.json\n",
      "/data/eeg/R1271P/tal/R1271P_talLocs_database_bipol.mat returning the first file found\n",
      "  warnings.warn(msg, MultiplePathsFoundWarning)\n",
      "/home1/noaherz/cmlreaders/cmlreaders/readers/electrodes.py:236: MissingCoordinatesWarning: Could not load MNI coordinates\n",
      "  \"Could not load MNI coordinates\"))\n"
     ]
    },
    {
     "name": "stdout",
     "output_type": "stream",
     "text": [
      "CPP total time wavelet loop:  20.397006034851074\n",
      "Progress: 27 % done, subject:  R1271P\n"
     ]
    },
    {
     "name": "stderr",
     "output_type": "stream",
     "text": [
      "/home1/noaherz/.conda/envs/cml3/lib/python3.7/site-packages/pandas/core/ops/array_ops.py:253: FutureWarning: elementwise comparison failed; returning scalar instead, but in the future will perform elementwise comparison\n",
      "  res_values = method(rvalues)\n",
      "/home1/noaherz/cmlreaders/cmlreaders/path_finder.py:239: MultiplePathsFoundWarning: Multiple files found: /data10/RAM/subjects/R1273D/docs/electrode_categories.txt\n",
      "/scratch/pwanda/electrode_categories/R1273D_electrode_categories.txt returning the first file found\n",
      "  warnings.warn(msg, MultiplePathsFoundWarning)\n",
      "/home1/noaherz/cmlreaders/cmlreaders/path_finder.py:239: MultiplePathsFoundWarning: Multiple files found: /protocols/r1/subjects/R1273D/localizations/0/montages/0/neuroradiology/current_processed/pairs.json\n",
      "/data/eeg/R1273D/tal/R1273D_talLocs_database_bipol.mat returning the first file found\n",
      "  warnings.warn(msg, MultiplePathsFoundWarning)\n",
      "/home1/noaherz/cmlreaders/cmlreaders/readers/electrodes.py:236: MissingCoordinatesWarning: Could not load MNI coordinates\n",
      "  \"Could not load MNI coordinates\"))\n"
     ]
    },
    {
     "name": "stdout",
     "output_type": "stream",
     "text": [
      "***sub: R1273D exp: catFR1  eeg data is not loading\n"
     ]
    },
    {
     "name": "stderr",
     "output_type": "stream",
     "text": [
      "/home1/noaherz/.conda/envs/cml3/lib/python3.7/site-packages/numpy/core/fromnumeric.py:3335: RuntimeWarning: Mean of empty slice.\n",
      "  out=out, **kwargs)\n",
      "/home1/noaherz/.conda/envs/cml3/lib/python3.7/site-packages/numpy/core/_methods.py:161: RuntimeWarning: invalid value encountered in double_scalars\n",
      "  ret = ret.dtype.type(ret / rcount)\n",
      "/home1/noaherz/.conda/envs/cml3/lib/python3.7/site-packages/pandas/core/ops/array_ops.py:253: FutureWarning: elementwise comparison failed; returning scalar instead, but in the future will perform elementwise comparison\n",
      "  res_values = method(rvalues)\n",
      "/home1/noaherz/cmlreaders/cmlreaders/path_finder.py:239: MultiplePathsFoundWarning: Multiple files found: /data10/RAM/subjects/R1273D/docs/electrode_categories.txt\n",
      "/scratch/pwanda/electrode_categories/R1273D_electrode_categories.txt returning the first file found\n",
      "  warnings.warn(msg, MultiplePathsFoundWarning)\n",
      "/home1/noaherz/cmlreaders/cmlreaders/path_finder.py:239: MultiplePathsFoundWarning: Multiple files found: /protocols/r1/subjects/R1273D/localizations/0/montages/0/neuroradiology/current_processed/pairs.json\n",
      "/data/eeg/R1273D/tal/R1273D_talLocs_database_bipol.mat returning the first file found\n",
      "  warnings.warn(msg, MultiplePathsFoundWarning)\n",
      "/home1/noaherz/cmlreaders/cmlreaders/readers/electrodes.py:236: MissingCoordinatesWarning: Could not load MNI coordinates\n",
      "  \"Could not load MNI coordinates\"))\n"
     ]
    },
    {
     "name": "stdout",
     "output_type": "stream",
     "text": [
      "***sub: R1273D exp: catFR1  eeg data is not loading\n"
     ]
    },
    {
     "name": "stderr",
     "output_type": "stream",
     "text": [
      "/home1/noaherz/.conda/envs/cml3/lib/python3.7/site-packages/pandas/core/ops/array_ops.py:253: FutureWarning: elementwise comparison failed; returning scalar instead, but in the future will perform elementwise comparison\n",
      "  res_values = method(rvalues)\n",
      "/home1/noaherz/cmlreaders/cmlreaders/path_finder.py:239: MultiplePathsFoundWarning: Multiple files found: /data10/RAM/subjects/R1273D/docs/electrode_categories.txt\n",
      "/scratch/pwanda/electrode_categories/R1273D_electrode_categories.txt returning the first file found\n",
      "  warnings.warn(msg, MultiplePathsFoundWarning)\n",
      "/home1/noaherz/cmlreaders/cmlreaders/path_finder.py:239: MultiplePathsFoundWarning: Multiple files found: /protocols/r1/subjects/R1273D/localizations/0/montages/0/neuroradiology/current_processed/pairs.json\n",
      "/data/eeg/R1273D/tal/R1273D_talLocs_database_bipol.mat returning the first file found\n",
      "  warnings.warn(msg, MultiplePathsFoundWarning)\n",
      "/home1/noaherz/cmlreaders/cmlreaders/readers/electrodes.py:236: MissingCoordinatesWarning: Could not load MNI coordinates\n",
      "  \"Could not load MNI coordinates\"))\n"
     ]
    },
    {
     "name": "stdout",
     "output_type": "stream",
     "text": [
      "***sub: R1273D exp: catFR1  eeg data is not loading\n"
     ]
    },
    {
     "name": "stderr",
     "output_type": "stream",
     "text": [
      "/home1/noaherz/.conda/envs/cml3/lib/python3.7/site-packages/pandas/core/ops/array_ops.py:253: FutureWarning: elementwise comparison failed; returning scalar instead, but in the future will perform elementwise comparison\n",
      "  res_values = method(rvalues)\n",
      "/home1/noaherz/cmlreaders/cmlreaders/path_finder.py:239: MultiplePathsFoundWarning: Multiple files found: /data10/RAM/subjects/R1274T/docs/electrode_categories.txt\n",
      "/scratch/pwanda/electrode_categories/R1274T_electrode_categories.txt returning the first file found\n",
      "  warnings.warn(msg, MultiplePathsFoundWarning)\n",
      "/home1/noaherz/cmlreaders/cmlreaders/path_finder.py:239: MultiplePathsFoundWarning: Multiple files found: /protocols/r1/subjects/R1274T/localizations/0/montages/0/neuroradiology/current_processed/pairs.json\n",
      "/data/eeg/R1274T/tal/R1274T_talLocs_database_bipol.mat returning the first file found\n",
      "  warnings.warn(msg, MultiplePathsFoundWarning)\n",
      "/home1/noaherz/cmlreaders/cmlreaders/readers/electrodes.py:236: MissingCoordinatesWarning: Could not load MNI coordinates\n",
      "  \"Could not load MNI coordinates\"))\n",
      "/home1/noaherz/cmlreaders/cmlreaders/path_finder.py:239: MultiplePathsFoundWarning: Multiple files found: /protocols/r1/subjects/R1274T/experiments/catFR1/sessions/0/ephys/current_processed/sources.json\n",
      "/data/eeg/R1274T/eeg.noreref/R1274T_catFR1_0_17Feb17_2132.params.txt\n",
      "/data/eeg/R1274T/eeg.noreref/params.txt returning the first file found\n",
      "  warnings.warn(msg, MultiplePathsFoundWarning)\n"
     ]
    },
    {
     "name": "stdout",
     "output_type": "stream",
     "text": [
      "subject R1274T session 0 has no electrodes in the hippocampus and was not included in the analysis\n",
      "Progress: 28 % done, subject:  R1274T\n"
     ]
    },
    {
     "name": "stderr",
     "output_type": "stream",
     "text": [
      "/home1/noaherz/.conda/envs/cml3/lib/python3.7/site-packages/pandas/core/ops/array_ops.py:253: FutureWarning: elementwise comparison failed; returning scalar instead, but in the future will perform elementwise comparison\n",
      "  res_values = method(rvalues)\n",
      "/home1/noaherz/cmlreaders/cmlreaders/path_finder.py:239: MultiplePathsFoundWarning: Multiple files found: /data10/RAM/subjects/R1274T/docs/electrode_categories.txt\n",
      "/scratch/pwanda/electrode_categories/R1274T_electrode_categories.txt returning the first file found\n",
      "  warnings.warn(msg, MultiplePathsFoundWarning)\n",
      "/home1/noaherz/cmlreaders/cmlreaders/path_finder.py:239: MultiplePathsFoundWarning: Multiple files found: /protocols/r1/subjects/R1274T/localizations/0/montages/0/neuroradiology/current_processed/pairs.json\n",
      "/data/eeg/R1274T/tal/R1274T_talLocs_database_bipol.mat returning the first file found\n",
      "  warnings.warn(msg, MultiplePathsFoundWarning)\n",
      "/home1/noaherz/cmlreaders/cmlreaders/readers/electrodes.py:236: MissingCoordinatesWarning: Could not load MNI coordinates\n",
      "  \"Could not load MNI coordinates\"))\n",
      "/home1/noaherz/cmlreaders/cmlreaders/path_finder.py:239: MultiplePathsFoundWarning: Multiple files found: /protocols/r1/subjects/R1274T/experiments/catFR1/sessions/1/ephys/current_processed/sources.json\n",
      "/data/eeg/R1274T/eeg.noreref/R1274T_catFR1_1_20Feb17_1703.params.txt\n",
      "/data/eeg/R1274T/eeg.noreref/params.txt returning the first file found\n",
      "  warnings.warn(msg, MultiplePathsFoundWarning)\n"
     ]
    },
    {
     "name": "stdout",
     "output_type": "stream",
     "text": [
      "subject R1274T session 1 has no electrodes in the hippocampus and was not included in the analysis\n",
      "Progress: 28 % done, subject:  R1274T\n"
     ]
    },
    {
     "name": "stderr",
     "output_type": "stream",
     "text": [
      "/home1/noaherz/.conda/envs/cml3/lib/python3.7/site-packages/numpy/core/fromnumeric.py:3335: RuntimeWarning: Mean of empty slice.\n",
      "  out=out, **kwargs)\n",
      "/home1/noaherz/.conda/envs/cml3/lib/python3.7/site-packages/numpy/core/_methods.py:161: RuntimeWarning: invalid value encountered in double_scalars\n",
      "  ret = ret.dtype.type(ret / rcount)\n",
      "/home1/noaherz/.conda/envs/cml3/lib/python3.7/site-packages/pandas/core/ops/array_ops.py:253: FutureWarning: elementwise comparison failed; returning scalar instead, but in the future will perform elementwise comparison\n",
      "  res_values = method(rvalues)\n",
      "/home1/noaherz/cmlreaders/cmlreaders/path_finder.py:239: MultiplePathsFoundWarning: Multiple files found: /data10/RAM/subjects/R1274T/docs/electrode_categories.txt\n",
      "/scratch/pwanda/electrode_categories/R1274T_electrode_categories.txt returning the first file found\n",
      "  warnings.warn(msg, MultiplePathsFoundWarning)\n",
      "/home1/noaherz/cmlreaders/cmlreaders/path_finder.py:239: MultiplePathsFoundWarning: Multiple files found: /protocols/r1/subjects/R1274T/localizations/0/montages/0/neuroradiology/current_processed/pairs.json\n",
      "/data/eeg/R1274T/tal/R1274T_talLocs_database_bipol.mat returning the first file found\n",
      "  warnings.warn(msg, MultiplePathsFoundWarning)\n",
      "/home1/noaherz/cmlreaders/cmlreaders/readers/electrodes.py:236: MissingCoordinatesWarning: Could not load MNI coordinates\n",
      "  \"Could not load MNI coordinates\"))\n",
      "/home1/noaherz/cmlreaders/cmlreaders/path_finder.py:239: MultiplePathsFoundWarning: Multiple files found: /protocols/r1/subjects/R1274T/experiments/catFR1/sessions/2/ephys/current_processed/sources.json\n",
      "/data/eeg/R1274T/eeg.noreref/R1274T_catFR1_2_21Feb17_2029.params.txt\n",
      "/data/eeg/R1274T/eeg.noreref/params.txt returning the first file found\n",
      "  warnings.warn(msg, MultiplePathsFoundWarning)\n"
     ]
    },
    {
     "name": "stdout",
     "output_type": "stream",
     "text": [
      "subject R1274T session 2 has no electrodes in the hippocampus and was not included in the analysis\n",
      "Progress: 28 % done, subject:  R1274T\n"
     ]
    },
    {
     "name": "stderr",
     "output_type": "stream",
     "text": [
      "/home1/noaherz/.conda/envs/cml3/lib/python3.7/site-packages/pandas/core/ops/array_ops.py:253: FutureWarning: elementwise comparison failed; returning scalar instead, but in the future will perform elementwise comparison\n",
      "  res_values = method(rvalues)\n",
      "/home1/noaherz/cmlreaders/cmlreaders/path_finder.py:239: MultiplePathsFoundWarning: Multiple files found: /protocols/r1/subjects/R1277J/localizations/0/montages/1/neuroradiology/current_processed/pairs.json\n",
      "/data/eeg/R1277J_1/tal/R1277J_1_talLocs_database_bipol.mat returning the first file found\n",
      "  warnings.warn(msg, MultiplePathsFoundWarning)\n",
      "/home1/noaherz/cmlreaders/cmlreaders/readers/electrodes.py:236: MissingCoordinatesWarning: Could not load MNI coordinates\n",
      "  \"Could not load MNI coordinates\"))\n"
     ]
    },
    {
     "name": "stdout",
     "output_type": "stream",
     "text": [
      "subject R1277J session 0 has no electrodes in the hippocampus and was not included in the analysis\n",
      "Progress: 29 % done, subject:  R1277J\n"
     ]
    },
    {
     "name": "stderr",
     "output_type": "stream",
     "text": [
      "/home1/noaherz/.conda/envs/cml3/lib/python3.7/site-packages/numpy/core/fromnumeric.py:3335: RuntimeWarning: Mean of empty slice.\n",
      "  out=out, **kwargs)\n",
      "/home1/noaherz/.conda/envs/cml3/lib/python3.7/site-packages/numpy/core/_methods.py:161: RuntimeWarning: invalid value encountered in double_scalars\n",
      "  ret = ret.dtype.type(ret / rcount)\n",
      "/home1/noaherz/.conda/envs/cml3/lib/python3.7/site-packages/pandas/core/ops/array_ops.py:253: FutureWarning: elementwise comparison failed; returning scalar instead, but in the future will perform elementwise comparison\n",
      "  res_values = method(rvalues)\n",
      "/home1/noaherz/cmlreaders/cmlreaders/path_finder.py:239: MultiplePathsFoundWarning: Multiple files found: /protocols/r1/subjects/R1277J/localizations/0/montages/1/neuroradiology/current_processed/pairs.json\n",
      "/data/eeg/R1277J_1/tal/R1277J_1_talLocs_database_bipol.mat returning the first file found\n",
      "  warnings.warn(msg, MultiplePathsFoundWarning)\n",
      "/home1/noaherz/cmlreaders/cmlreaders/readers/electrodes.py:236: MissingCoordinatesWarning: Could not load MNI coordinates\n",
      "  \"Could not load MNI coordinates\"))\n"
     ]
    },
    {
     "name": "stdout",
     "output_type": "stream",
     "text": [
      "subject R1277J session 1 has no electrodes in the hippocampus and was not included in the analysis\n",
      "Progress: 29 % done, subject:  R1277J\n"
     ]
    },
    {
     "name": "stderr",
     "output_type": "stream",
     "text": [
      "/home1/noaherz/.conda/envs/cml3/lib/python3.7/site-packages/pandas/core/ops/array_ops.py:253: FutureWarning: elementwise comparison failed; returning scalar instead, but in the future will perform elementwise comparison\n",
      "  res_values = method(rvalues)\n",
      "/home1/noaherz/cmlreaders/cmlreaders/path_finder.py:239: MultiplePathsFoundWarning: Multiple files found: /protocols/r1/subjects/R1279P/localizations/1/montages/1/neuroradiology/current_processed/pairs.json\n",
      "/data/eeg/R1279P_1/tal/R1279P_1_talLocs_database_bipol.mat returning the first file found\n",
      "  warnings.warn(msg, MultiplePathsFoundWarning)\n",
      "/home1/noaherz/cmlreaders/cmlreaders/readers/electrodes.py:236: MissingCoordinatesWarning: Could not load MNI coordinates\n",
      "  \"Could not load MNI coordinates\"))\n"
     ]
    },
    {
     "name": "stdout",
     "output_type": "stream",
     "text": [
      "CPP total time wavelet loop:  4.216987609863281\n",
      "Progress: 29 % done, subject:  R1279P\n"
     ]
    },
    {
     "name": "stderr",
     "output_type": "stream",
     "text": [
      "/home1/noaherz/.conda/envs/cml3/lib/python3.7/site-packages/pandas/core/ops/array_ops.py:253: FutureWarning: elementwise comparison failed; returning scalar instead, but in the future will perform elementwise comparison\n",
      "  res_values = method(rvalues)\n",
      "/home1/noaherz/cmlreaders/cmlreaders/path_finder.py:239: MultiplePathsFoundWarning: Multiple files found: /protocols/r1/subjects/R1279P/localizations/1/montages/1/neuroradiology/current_processed/pairs.json\n",
      "/data/eeg/R1279P_1/tal/R1279P_1_talLocs_database_bipol.mat returning the first file found\n",
      "  warnings.warn(msg, MultiplePathsFoundWarning)\n",
      "/home1/noaherz/cmlreaders/cmlreaders/readers/electrodes.py:236: MissingCoordinatesWarning: Could not load MNI coordinates\n",
      "  \"Could not load MNI coordinates\"))\n"
     ]
    },
    {
     "name": "stdout",
     "output_type": "stream",
     "text": [
      "CPP total time wavelet loop:  11.952422142028809\n",
      "Progress: 30 % done, subject:  R1279P\n"
     ]
    },
    {
     "name": "stderr",
     "output_type": "stream",
     "text": [
      "/home1/noaherz/.conda/envs/cml3/lib/python3.7/site-packages/numpy/core/fromnumeric.py:3335: RuntimeWarning: Mean of empty slice.\n",
      "  out=out, **kwargs)\n",
      "/home1/noaherz/.conda/envs/cml3/lib/python3.7/site-packages/numpy/core/_methods.py:161: RuntimeWarning: invalid value encountered in double_scalars\n",
      "  ret = ret.dtype.type(ret / rcount)\n",
      "/home1/noaherz/.conda/envs/cml3/lib/python3.7/site-packages/pandas/core/ops/array_ops.py:253: FutureWarning: elementwise comparison failed; returning scalar instead, but in the future will perform elementwise comparison\n",
      "  res_values = method(rvalues)\n",
      "/home1/noaherz/cmlreaders/cmlreaders/path_finder.py:239: MultiplePathsFoundWarning: Multiple files found: /data10/RAM/subjects/R1286J/docs/electrode_categories.txt\n",
      "/scratch/pwanda/electrode_categories/R1286J_electrode_categories.txt returning the first file found\n",
      "  warnings.warn(msg, MultiplePathsFoundWarning)\n",
      "/home1/noaherz/cmlreaders/cmlreaders/path_finder.py:239: MultiplePathsFoundWarning: Multiple files found: /protocols/r1/subjects/R1286J/localizations/0/montages/0/neuroradiology/current_processed/pairs.json\n",
      "/data/eeg/R1286J/tal/R1286J_talLocs_database_bipol.mat returning the first file found\n",
      "  warnings.warn(msg, MultiplePathsFoundWarning)\n",
      "/home1/noaherz/cmlreaders/cmlreaders/readers/electrodes.py:236: MissingCoordinatesWarning: Could not load MNI coordinates\n",
      "  \"Could not load MNI coordinates\"))\n",
      "/home1/noaherz/cmlreaders/cmlreaders/path_finder.py:239: MultiplePathsFoundWarning: Multiple files found: /protocols/r1/subjects/R1286J/experiments/catFR1/sessions/0/ephys/current_processed/sources.json\n",
      "/data/eeg/R1286J/eeg.noreref/params.txt returning the first file found\n",
      "  warnings.warn(msg, MultiplePathsFoundWarning)\n"
     ]
    },
    {
     "name": "stdout",
     "output_type": "stream",
     "text": [
      "CPP total time wavelet loop:  18.725978136062622\n",
      "Progress: 30 % done, subject:  R1286J\n"
     ]
    },
    {
     "name": "stderr",
     "output_type": "stream",
     "text": [
      "/home1/noaherz/.conda/envs/cml3/lib/python3.7/site-packages/pandas/core/ops/array_ops.py:253: FutureWarning: elementwise comparison failed; returning scalar instead, but in the future will perform elementwise comparison\n",
      "  res_values = method(rvalues)\n",
      "/home1/noaherz/cmlreaders/cmlreaders/path_finder.py:239: MultiplePathsFoundWarning: Multiple files found: /data10/RAM/subjects/R1286J/docs/electrode_categories.txt\n",
      "/scratch/pwanda/electrode_categories/R1286J_electrode_categories.txt returning the first file found\n",
      "  warnings.warn(msg, MultiplePathsFoundWarning)\n",
      "/home1/noaherz/cmlreaders/cmlreaders/path_finder.py:239: MultiplePathsFoundWarning: Multiple files found: /protocols/r1/subjects/R1286J/localizations/0/montages/0/neuroradiology/current_processed/pairs.json\n",
      "/data/eeg/R1286J/tal/R1286J_talLocs_database_bipol.mat returning the first file found\n",
      "  warnings.warn(msg, MultiplePathsFoundWarning)\n",
      "/home1/noaherz/cmlreaders/cmlreaders/readers/electrodes.py:236: MissingCoordinatesWarning: Could not load MNI coordinates\n",
      "  \"Could not load MNI coordinates\"))\n",
      "/home1/noaherz/cmlreaders/cmlreaders/path_finder.py:239: MultiplePathsFoundWarning: Multiple files found: /protocols/r1/subjects/R1286J/experiments/catFR1/sessions/1/ephys/current_processed/sources.json\n",
      "/data/eeg/R1286J/eeg.noreref/params.txt returning the first file found\n",
      "  warnings.warn(msg, MultiplePathsFoundWarning)\n"
     ]
    },
    {
     "name": "stdout",
     "output_type": "stream",
     "text": [
      "CPP total time wavelet loop:  23.868801593780518\n",
      "Progress: 30 % done, subject:  R1286J\n"
     ]
    },
    {
     "name": "stderr",
     "output_type": "stream",
     "text": [
      "/home1/noaherz/.conda/envs/cml3/lib/python3.7/site-packages/pandas/core/ops/array_ops.py:253: FutureWarning: elementwise comparison failed; returning scalar instead, but in the future will perform elementwise comparison\n",
      "  res_values = method(rvalues)\n",
      "/home1/noaherz/cmlreaders/cmlreaders/path_finder.py:239: MultiplePathsFoundWarning: Multiple files found: /data10/RAM/subjects/R1286J/docs/electrode_categories.txt\n",
      "/scratch/pwanda/electrode_categories/R1286J_electrode_categories.txt returning the first file found\n",
      "  warnings.warn(msg, MultiplePathsFoundWarning)\n",
      "/home1/noaherz/cmlreaders/cmlreaders/path_finder.py:239: MultiplePathsFoundWarning: Multiple files found: /protocols/r1/subjects/R1286J/localizations/0/montages/0/neuroradiology/current_processed/pairs.json\n",
      "/data/eeg/R1286J/tal/R1286J_talLocs_database_bipol.mat returning the first file found\n",
      "  warnings.warn(msg, MultiplePathsFoundWarning)\n",
      "/home1/noaherz/cmlreaders/cmlreaders/readers/electrodes.py:236: MissingCoordinatesWarning: Could not load MNI coordinates\n",
      "  \"Could not load MNI coordinates\"))\n",
      "/home1/noaherz/cmlreaders/cmlreaders/path_finder.py:239: MultiplePathsFoundWarning: Multiple files found: /protocols/r1/subjects/R1286J/experiments/catFR1/sessions/2/ephys/current_processed/sources.json\n",
      "/data/eeg/R1286J/eeg.noreref/params.txt returning the first file found\n",
      "  warnings.warn(msg, MultiplePathsFoundWarning)\n"
     ]
    },
    {
     "name": "stdout",
     "output_type": "stream",
     "text": [
      "CPP total time wavelet loop:  23.71020793914795\n",
      "Progress: 30 % done, subject:  R1286J\n"
     ]
    },
    {
     "name": "stderr",
     "output_type": "stream",
     "text": [
      "/home1/noaherz/.conda/envs/cml3/lib/python3.7/site-packages/pandas/core/ops/array_ops.py:253: FutureWarning: elementwise comparison failed; returning scalar instead, but in the future will perform elementwise comparison\n",
      "  res_values = method(rvalues)\n",
      "/home1/noaherz/cmlreaders/cmlreaders/path_finder.py:239: MultiplePathsFoundWarning: Multiple files found: /data10/RAM/subjects/R1291M/docs/electrode_categories.txt\n",
      "/scratch/pwanda/electrode_categories/R1291M_electrode_categories.txt returning the first file found\n",
      "  warnings.warn(msg, MultiplePathsFoundWarning)\n",
      "/home1/noaherz/cmlreaders/cmlreaders/path_finder.py:239: MultiplePathsFoundWarning: Multiple files found: /protocols/r1/subjects/R1291M/localizations/0/montages/0/neuroradiology/current_processed/pairs.json\n",
      "/data/eeg/R1291M/tal/R1291M_talLocs_database_bipol.mat returning the first file found\n",
      "  warnings.warn(msg, MultiplePathsFoundWarning)\n",
      "/home1/noaherz/cmlreaders/cmlreaders/readers/electrodes.py:236: MissingCoordinatesWarning: Could not load MNI coordinates\n",
      "  \"Could not load MNI coordinates\"))\n",
      "/home1/noaherz/cmlreaders/cmlreaders/path_finder.py:239: MultiplePathsFoundWarning: Multiple files found: /protocols/r1/subjects/R1291M/experiments/catFR1/sessions/0/ephys/current_processed/sources.json\n",
      "/data/eeg/R1291M/eeg.noreref/R1291M_catFR1_0_14Apr17_1408.params.txt\n",
      "/data/eeg/R1291M/eeg.noreref/params.txt returning the first file found\n",
      "  warnings.warn(msg, MultiplePathsFoundWarning)\n"
     ]
    },
    {
     "name": "stdout",
     "output_type": "stream",
     "text": [
      "CPP total time wavelet loop:  15.297600984573364\n",
      "Progress: 31 % done, subject:  R1291M\n"
     ]
    },
    {
     "name": "stderr",
     "output_type": "stream",
     "text": [
      "/home1/noaherz/.conda/envs/cml3/lib/python3.7/site-packages/pandas/core/ops/array_ops.py:253: FutureWarning: elementwise comparison failed; returning scalar instead, but in the future will perform elementwise comparison\n",
      "  res_values = method(rvalues)\n",
      "/home1/noaherz/cmlreaders/cmlreaders/path_finder.py:239: MultiplePathsFoundWarning: Multiple files found: /data10/RAM/subjects/R1291M/docs/electrode_categories.txt\n",
      "/scratch/pwanda/electrode_categories/R1291M_electrode_categories.txt returning the first file found\n",
      "  warnings.warn(msg, MultiplePathsFoundWarning)\n",
      "/home1/noaherz/cmlreaders/cmlreaders/path_finder.py:239: MultiplePathsFoundWarning: Multiple files found: /protocols/r1/subjects/R1291M/localizations/0/montages/0/neuroradiology/current_processed/pairs.json\n",
      "/data/eeg/R1291M/tal/R1291M_talLocs_database_bipol.mat returning the first file found\n",
      "  warnings.warn(msg, MultiplePathsFoundWarning)\n",
      "/home1/noaherz/cmlreaders/cmlreaders/readers/electrodes.py:236: MissingCoordinatesWarning: Could not load MNI coordinates\n",
      "  \"Could not load MNI coordinates\"))\n",
      "/home1/noaherz/cmlreaders/cmlreaders/path_finder.py:239: MultiplePathsFoundWarning: Multiple files found: /protocols/r1/subjects/R1291M/experiments/catFR1/sessions/1/ephys/current_processed/sources.json\n",
      "/data/eeg/R1291M/eeg.noreref/R1291M_catFR1_1_17Apr17_1139.params.txt\n",
      "/data/eeg/R1291M/eeg.noreref/params.txt returning the first file found\n",
      "  warnings.warn(msg, MultiplePathsFoundWarning)\n"
     ]
    },
    {
     "name": "stdout",
     "output_type": "stream",
     "text": [
      "CPP total time wavelet loop:  9.862877130508423\n",
      "Progress: 31 % done, subject:  R1291M\n"
     ]
    },
    {
     "name": "stderr",
     "output_type": "stream",
     "text": [
      "/home1/noaherz/.conda/envs/cml3/lib/python3.7/site-packages/numpy/core/fromnumeric.py:3335: RuntimeWarning: Mean of empty slice.\n",
      "  out=out, **kwargs)\n",
      "/home1/noaherz/.conda/envs/cml3/lib/python3.7/site-packages/numpy/core/_methods.py:161: RuntimeWarning: invalid value encountered in double_scalars\n",
      "  ret = ret.dtype.type(ret / rcount)\n",
      "/home1/noaherz/.conda/envs/cml3/lib/python3.7/site-packages/pandas/core/ops/array_ops.py:253: FutureWarning: elementwise comparison failed; returning scalar instead, but in the future will perform elementwise comparison\n",
      "  res_values = method(rvalues)\n",
      "/home1/noaherz/cmlreaders/cmlreaders/path_finder.py:239: MultiplePathsFoundWarning: Multiple files found: /data10/RAM/subjects/R1293P/docs/electrode_categories.txt\n",
      "/scratch/pwanda/electrode_categories/R1293P_electrode_categories.txt returning the first file found\n",
      "  warnings.warn(msg, MultiplePathsFoundWarning)\n",
      "/home1/noaherz/cmlreaders/cmlreaders/path_finder.py:239: MultiplePathsFoundWarning: Multiple files found: /protocols/r1/subjects/R1293P/localizations/0/montages/0/neuroradiology/current_processed/pairs.json\n",
      "/data/eeg/R1293P/tal/R1293P_talLocs_database_bipol.mat returning the first file found\n",
      "  warnings.warn(msg, MultiplePathsFoundWarning)\n",
      "/home1/noaherz/cmlreaders/cmlreaders/readers/electrodes.py:236: MissingCoordinatesWarning: Could not load MNI coordinates\n",
      "  \"Could not load MNI coordinates\"))\n"
     ]
    },
    {
     "name": "stdout",
     "output_type": "stream",
     "text": [
      "CPP total time wavelet loop:  12.622586965560913\n",
      "Progress: 31 % done, subject:  R1293P\n"
     ]
    },
    {
     "name": "stderr",
     "output_type": "stream",
     "text": [
      "/home1/noaherz/.conda/envs/cml3/lib/python3.7/site-packages/pandas/core/ops/array_ops.py:253: FutureWarning: elementwise comparison failed; returning scalar instead, but in the future will perform elementwise comparison\n",
      "  res_values = method(rvalues)\n",
      "/home1/noaherz/cmlreaders/cmlreaders/path_finder.py:239: MultiplePathsFoundWarning: Multiple files found: /data10/RAM/subjects/R1302M/docs/electrode_categories.txt\n",
      "/scratch/pwanda/electrode_categories/R1302M_electrode_categories.txt returning the first file found\n",
      "  warnings.warn(msg, MultiplePathsFoundWarning)\n",
      "/home1/noaherz/cmlreaders/cmlreaders/path_finder.py:239: MultiplePathsFoundWarning: Multiple files found: /protocols/r1/subjects/R1302M/localizations/0/montages/0/neuroradiology/current_processed/pairs.json\n",
      "/data/eeg/R1302M/tal/R1302M_talLocs_database_bipol.mat returning the first file found\n",
      "  warnings.warn(msg, MultiplePathsFoundWarning)\n",
      "/home1/noaherz/cmlreaders/cmlreaders/readers/electrodes.py:236: MissingCoordinatesWarning: Could not load MNI coordinates\n",
      "  \"Could not load MNI coordinates\"))\n"
     ]
    },
    {
     "name": "stdout",
     "output_type": "stream",
     "text": [
      "subject R1302M session 0 has no electrodes in the hippocampus and was not included in the analysis\n",
      "Progress: 31 % done, subject:  R1302M\n"
     ]
    },
    {
     "name": "stderr",
     "output_type": "stream",
     "text": [
      "/home1/noaherz/.conda/envs/cml3/lib/python3.7/site-packages/pandas/core/ops/array_ops.py:253: FutureWarning: elementwise comparison failed; returning scalar instead, but in the future will perform elementwise comparison\n",
      "  res_values = method(rvalues)\n",
      "/home1/noaherz/cmlreaders/cmlreaders/path_finder.py:239: MultiplePathsFoundWarning: Multiple files found: /data10/RAM/subjects/R1302M/docs/electrode_categories.txt\n",
      "/scratch/pwanda/electrode_categories/R1302M_electrode_categories.txt returning the first file found\n",
      "  warnings.warn(msg, MultiplePathsFoundWarning)\n",
      "/home1/noaherz/cmlreaders/cmlreaders/path_finder.py:239: MultiplePathsFoundWarning: Multiple files found: /protocols/r1/subjects/R1302M/localizations/0/montages/0/neuroradiology/current_processed/pairs.json\n",
      "/data/eeg/R1302M/tal/R1302M_talLocs_database_bipol.mat returning the first file found\n",
      "  warnings.warn(msg, MultiplePathsFoundWarning)\n",
      "/home1/noaherz/cmlreaders/cmlreaders/readers/electrodes.py:236: MissingCoordinatesWarning: Could not load MNI coordinates\n",
      "  \"Could not load MNI coordinates\"))\n"
     ]
    },
    {
     "name": "stdout",
     "output_type": "stream",
     "text": [
      "subject R1302M session 1 has no electrodes in the hippocampus and was not included in the analysis\n",
      "Progress: 32 % done, subject:  R1302M\n"
     ]
    },
    {
     "name": "stderr",
     "output_type": "stream",
     "text": [
      "/home1/noaherz/.conda/envs/cml3/lib/python3.7/site-packages/pandas/core/ops/array_ops.py:253: FutureWarning: elementwise comparison failed; returning scalar instead, but in the future will perform elementwise comparison\n",
      "  res_values = method(rvalues)\n",
      "/home1/noaherz/cmlreaders/cmlreaders/path_finder.py:239: MultiplePathsFoundWarning: Multiple files found: /data10/RAM/subjects/R1303E/docs/electrode_categories.txt\n",
      "/scratch/pwanda/electrode_categories/R1303E_electrode_categories.txt returning the first file found\n",
      "  warnings.warn(msg, MultiplePathsFoundWarning)\n",
      "/home1/noaherz/cmlreaders/cmlreaders/path_finder.py:239: MultiplePathsFoundWarning: Multiple files found: /protocols/r1/subjects/R1303E/localizations/0/montages/0/neuroradiology/current_processed/pairs.json\n",
      "/data/eeg/R1303E/tal/R1303E_talLocs_database_bipol.mat returning the first file found\n",
      "  warnings.warn(msg, MultiplePathsFoundWarning)\n",
      "/home1/noaherz/cmlreaders/cmlreaders/readers/electrodes.py:236: MissingCoordinatesWarning: Could not load MNI coordinates\n",
      "  \"Could not load MNI coordinates\"))\n"
     ]
    },
    {
     "name": "stdout",
     "output_type": "stream",
     "text": [
      "CPP total time wavelet loop:  48.624311447143555\n",
      "Progress: 32 % done, subject:  R1303E\n"
     ]
    },
    {
     "name": "stderr",
     "output_type": "stream",
     "text": [
      "/home1/noaherz/cmlreaders/cmlreaders/path_finder.py:239: MultiplePathsFoundWarning: Multiple files found: /data10/RAM/subjects/R1310J/docs/electrode_categories.txt\n",
      "/scratch/pwanda/electrode_categories/R1310J_electrode_categories.txt returning the first file found\n",
      "  warnings.warn(msg, MultiplePathsFoundWarning)\n",
      "/home1/noaherz/cmlreaders/cmlreaders/path_finder.py:239: MultiplePathsFoundWarning: Multiple files found: /protocols/r1/subjects/R1310J/localizations/0/montages/0/neuroradiology/current_processed/pairs.json\n",
      "/data/eeg/R1310J/tal/R1310J_talLocs_database_bipol.mat returning the first file found\n",
      "  warnings.warn(msg, MultiplePathsFoundWarning)\n",
      "/home1/noaherz/cmlreaders/cmlreaders/readers/electrodes.py:236: MissingCoordinatesWarning: Could not load MNI coordinates\n",
      "  \"Could not load MNI coordinates\"))\n",
      "/home1/noaherz/cmlreaders/cmlreaders/path_finder.py:239: MultiplePathsFoundWarning: Multiple files found: /protocols/r1/subjects/R1310J/experiments/catFR1/sessions/0/ephys/current_processed/sources.json\n",
      "/data/eeg/R1310J/eeg.noreref/params.txt returning the first file found\n",
      "  warnings.warn(msg, MultiplePathsFoundWarning)\n"
     ]
    },
    {
     "name": "stdout",
     "output_type": "stream",
     "text": [
      "CPP total time wavelet loop:  21.575024366378784\n",
      "Progress: 32 % done, subject:  R1310J\n"
     ]
    },
    {
     "name": "stderr",
     "output_type": "stream",
     "text": [
      "/home1/noaherz/cmlreaders/cmlreaders/path_finder.py:239: MultiplePathsFoundWarning: Multiple files found: /data10/RAM/subjects/R1310J/docs/electrode_categories.txt\n",
      "/scratch/pwanda/electrode_categories/R1310J_electrode_categories.txt returning the first file found\n",
      "  warnings.warn(msg, MultiplePathsFoundWarning)\n",
      "/home1/noaherz/cmlreaders/cmlreaders/path_finder.py:239: MultiplePathsFoundWarning: Multiple files found: /protocols/r1/subjects/R1310J/localizations/0/montages/0/neuroradiology/current_processed/pairs.json\n",
      "/data/eeg/R1310J/tal/R1310J_talLocs_database_bipol.mat returning the first file found\n",
      "  warnings.warn(msg, MultiplePathsFoundWarning)\n",
      "/home1/noaherz/cmlreaders/cmlreaders/readers/electrodes.py:236: MissingCoordinatesWarning: Could not load MNI coordinates\n",
      "  \"Could not load MNI coordinates\"))\n",
      "/home1/noaherz/cmlreaders/cmlreaders/path_finder.py:239: MultiplePathsFoundWarning: Multiple files found: /protocols/r1/subjects/R1310J/experiments/catFR1/sessions/1/ephys/current_processed/sources.json\n",
      "/data/eeg/R1310J/eeg.noreref/params.txt returning the first file found\n",
      "  warnings.warn(msg, MultiplePathsFoundWarning)\n"
     ]
    },
    {
     "name": "stdout",
     "output_type": "stream",
     "text": [
      "CPP total time wavelet loop:  19.80911874771118\n",
      "Progress: 32 % done, subject:  R1310J\n"
     ]
    },
    {
     "name": "stderr",
     "output_type": "stream",
     "text": [
      "/home1/noaherz/.conda/envs/cml3/lib/python3.7/site-packages/pandas/core/ops/array_ops.py:253: FutureWarning: elementwise comparison failed; returning scalar instead, but in the future will perform elementwise comparison\n",
      "  res_values = method(rvalues)\n",
      "/home1/noaherz/cmlreaders/cmlreaders/path_finder.py:239: MultiplePathsFoundWarning: Multiple files found: /protocols/r1/subjects/R1317D/localizations/0/montages/0/neuroradiology/current_processed/pairs.json\n",
      "/data/eeg/R1317D/tal/R1317D_talLocs_database_bipol.mat returning the first file found\n",
      "  warnings.warn(msg, MultiplePathsFoundWarning)\n",
      "/home1/noaherz/cmlreaders/cmlreaders/readers/electrodes.py:236: MissingCoordinatesWarning: Could not load MNI coordinates\n",
      "  \"Could not load MNI coordinates\"))\n"
     ]
    },
    {
     "name": "stdout",
     "output_type": "stream",
     "text": [
      "subject R1317D session 0 has no electrodes in the hippocampus and was not included in the analysis\n",
      "Progress: 33 % done, subject:  R1317D\n"
     ]
    },
    {
     "name": "stderr",
     "output_type": "stream",
     "text": [
      "/home1/noaherz/.conda/envs/cml3/lib/python3.7/site-packages/pandas/core/ops/array_ops.py:253: FutureWarning: elementwise comparison failed; returning scalar instead, but in the future will perform elementwise comparison\n",
      "  res_values = method(rvalues)\n",
      "/home1/noaherz/cmlreaders/cmlreaders/path_finder.py:239: MultiplePathsFoundWarning: Multiple files found: /protocols/r1/subjects/R1320D/localizations/0/montages/0/neuroradiology/current_processed/pairs.json\n",
      "/data/eeg/R1320D/tal/R1320D_talLocs_database_bipol.mat returning the first file found\n",
      "  warnings.warn(msg, MultiplePathsFoundWarning)\n",
      "/home1/noaherz/cmlreaders/cmlreaders/readers/electrodes.py:236: MissingCoordinatesWarning: Could not load MNI coordinates\n",
      "  \"Could not load MNI coordinates\"))\n"
     ]
    },
    {
     "name": "stdout",
     "output_type": "stream",
     "text": [
      "CPP total time wavelet loop:  15.037962913513184\n",
      "Progress: 33 % done, subject:  R1320D\n"
     ]
    },
    {
     "name": "stderr",
     "output_type": "stream",
     "text": [
      "/home1/noaherz/.conda/envs/cml3/lib/python3.7/site-packages/pandas/core/ops/array_ops.py:253: FutureWarning: elementwise comparison failed; returning scalar instead, but in the future will perform elementwise comparison\n",
      "  res_values = method(rvalues)\n",
      "/home1/noaherz/cmlreaders/cmlreaders/path_finder.py:239: MultiplePathsFoundWarning: Multiple files found: /protocols/r1/subjects/R1320D/localizations/0/montages/0/neuroradiology/current_processed/pairs.json\n",
      "/data/eeg/R1320D/tal/R1320D_talLocs_database_bipol.mat returning the first file found\n",
      "  warnings.warn(msg, MultiplePathsFoundWarning)\n",
      "/home1/noaherz/cmlreaders/cmlreaders/readers/electrodes.py:236: MissingCoordinatesWarning: Could not load MNI coordinates\n",
      "  \"Could not load MNI coordinates\"))\n"
     ]
    },
    {
     "name": "stdout",
     "output_type": "stream",
     "text": [
      "CPP total time wavelet loop:  10.520369291305542\n",
      "Progress: 33 % done, subject:  R1320D\n"
     ]
    },
    {
     "name": "stderr",
     "output_type": "stream",
     "text": [
      "/home1/noaherz/.conda/envs/cml3/lib/python3.7/site-packages/pandas/core/ops/array_ops.py:253: FutureWarning: elementwise comparison failed; returning scalar instead, but in the future will perform elementwise comparison\n",
      "  res_values = method(rvalues)\n",
      "/home1/noaherz/cmlreaders/cmlreaders/path_finder.py:239: MultiplePathsFoundWarning: Multiple files found: /protocols/r1/subjects/R1320D/localizations/0/montages/0/neuroradiology/current_processed/pairs.json\n",
      "/data/eeg/R1320D/tal/R1320D_talLocs_database_bipol.mat returning the first file found\n",
      "  warnings.warn(msg, MultiplePathsFoundWarning)\n",
      "/home1/noaherz/cmlreaders/cmlreaders/readers/electrodes.py:236: MissingCoordinatesWarning: Could not load MNI coordinates\n",
      "  \"Could not load MNI coordinates\"))\n"
     ]
    },
    {
     "name": "stdout",
     "output_type": "stream",
     "text": [
      "CPP total time wavelet loop:  3.981217384338379\n",
      "Progress: 34 % done, subject:  R1320D\n"
     ]
    },
    {
     "name": "stderr",
     "output_type": "stream",
     "text": [
      "/home1/noaherz/.conda/envs/cml3/lib/python3.7/site-packages/pandas/core/ops/array_ops.py:253: FutureWarning: elementwise comparison failed; returning scalar instead, but in the future will perform elementwise comparison\n",
      "  res_values = method(rvalues)\n",
      "/home1/noaherz/cmlreaders/cmlreaders/path_finder.py:239: MultiplePathsFoundWarning: Multiple files found: /protocols/r1/subjects/R1321M/localizations/0/montages/0/neuroradiology/current_processed/pairs.json\n",
      "/data/eeg/R1321M/tal/R1321M_talLocs_database_bipol.mat returning the first file found\n",
      "  warnings.warn(msg, MultiplePathsFoundWarning)\n",
      "/home1/noaherz/cmlreaders/cmlreaders/readers/electrodes.py:236: MissingCoordinatesWarning: Could not load MNI coordinates\n",
      "  \"Could not load MNI coordinates\"))\n"
     ]
    },
    {
     "name": "stdout",
     "output_type": "stream",
     "text": [
      "subject R1321M session 0 has no electrodes in the hippocampus and was not included in the analysis\n",
      "Progress: 34 % done, subject:  R1321M\n"
     ]
    },
    {
     "name": "stderr",
     "output_type": "stream",
     "text": [
      "/home1/noaherz/.conda/envs/cml3/lib/python3.7/site-packages/pandas/core/ops/array_ops.py:253: FutureWarning: elementwise comparison failed; returning scalar instead, but in the future will perform elementwise comparison\n",
      "  res_values = method(rvalues)\n",
      "/home1/noaherz/cmlreaders/cmlreaders/path_finder.py:239: MultiplePathsFoundWarning: Multiple files found: /protocols/r1/subjects/R1321M/localizations/0/montages/0/neuroradiology/current_processed/pairs.json\n",
      "/data/eeg/R1321M/tal/R1321M_talLocs_database_bipol.mat returning the first file found\n",
      "  warnings.warn(msg, MultiplePathsFoundWarning)\n",
      "/home1/noaherz/cmlreaders/cmlreaders/readers/electrodes.py:236: MissingCoordinatesWarning: Could not load MNI coordinates\n",
      "  \"Could not load MNI coordinates\"))\n"
     ]
    },
    {
     "name": "stdout",
     "output_type": "stream",
     "text": [
      "subject R1321M session 1 has no electrodes in the hippocampus and was not included in the analysis\n",
      "Progress: 34 % done, subject:  R1321M\n"
     ]
    },
    {
     "name": "stderr",
     "output_type": "stream",
     "text": [
      "/home1/noaherz/.conda/envs/cml3/lib/python3.7/site-packages/pandas/core/ops/array_ops.py:253: FutureWarning: elementwise comparison failed; returning scalar instead, but in the future will perform elementwise comparison\n",
      "  res_values = method(rvalues)\n",
      "/home1/noaherz/cmlreaders/cmlreaders/path_finder.py:239: MultiplePathsFoundWarning: Multiple files found: /protocols/r1/subjects/R1328E/localizations/0/montages/0/neuroradiology/current_processed/pairs.json\n",
      "/data/eeg/R1328E/tal/R1328E_talLocs_database_bipol.mat returning the first file found\n",
      "  warnings.warn(msg, MultiplePathsFoundWarning)\n",
      "/home1/noaherz/cmlreaders/cmlreaders/readers/electrodes.py:236: MissingCoordinatesWarning: Could not load MNI coordinates\n",
      "  \"Could not load MNI coordinates\"))\n"
     ]
    },
    {
     "name": "stdout",
     "output_type": "stream",
     "text": [
      "CPP total time wavelet loop:  10.24770212173462\n",
      "Progress: 34 % done, subject:  R1328E\n"
     ]
    },
    {
     "name": "stderr",
     "output_type": "stream",
     "text": [
      "/home1/noaherz/.conda/envs/cml3/lib/python3.7/site-packages/pandas/core/ops/array_ops.py:253: FutureWarning: elementwise comparison failed; returning scalar instead, but in the future will perform elementwise comparison\n",
      "  res_values = method(rvalues)\n",
      "/home1/noaherz/cmlreaders/cmlreaders/path_finder.py:239: MultiplePathsFoundWarning: Multiple files found: /protocols/r1/subjects/R1328E/localizations/0/montages/0/neuroradiology/current_processed/pairs.json\n",
      "/data/eeg/R1328E/tal/R1328E_talLocs_database_bipol.mat returning the first file found\n",
      "  warnings.warn(msg, MultiplePathsFoundWarning)\n",
      "/home1/noaherz/cmlreaders/cmlreaders/readers/electrodes.py:236: MissingCoordinatesWarning: Could not load MNI coordinates\n",
      "  \"Could not load MNI coordinates\"))\n"
     ]
    },
    {
     "name": "stdout",
     "output_type": "stream",
     "text": [
      "CPP total time wavelet loop:  22.335249185562134\n",
      "Progress: 35 % done, subject:  R1328E\n"
     ]
    },
    {
     "name": "stderr",
     "output_type": "stream",
     "text": [
      "/home1/noaherz/.conda/envs/cml3/lib/python3.7/site-packages/pandas/core/ops/array_ops.py:253: FutureWarning: elementwise comparison failed; returning scalar instead, but in the future will perform elementwise comparison\n",
      "  res_values = method(rvalues)\n",
      "/home1/noaherz/cmlreaders/cmlreaders/path_finder.py:239: MultiplePathsFoundWarning: Multiple files found: /protocols/r1/subjects/R1328E/localizations/0/montages/0/neuroradiology/current_processed/pairs.json\n",
      "/data/eeg/R1328E/tal/R1328E_talLocs_database_bipol.mat returning the first file found\n",
      "  warnings.warn(msg, MultiplePathsFoundWarning)\n",
      "/home1/noaherz/cmlreaders/cmlreaders/readers/electrodes.py:236: MissingCoordinatesWarning: Could not load MNI coordinates\n",
      "  \"Could not load MNI coordinates\"))\n"
     ]
    },
    {
     "name": "stdout",
     "output_type": "stream",
     "text": [
      "CPP total time wavelet loop:  13.913039684295654\n",
      "Progress: 35 % done, subject:  R1328E\n"
     ]
    },
    {
     "name": "stderr",
     "output_type": "stream",
     "text": [
      "/home1/noaherz/cmlreaders/cmlreaders/path_finder.py:239: MultiplePathsFoundWarning: Multiple files found: /protocols/r1/subjects/R1328E/localizations/0/montages/0/neuroradiology/current_processed/pairs.json\n",
      "/data/eeg/R1328E/tal/R1328E_talLocs_database_bipol.mat returning the first file found\n",
      "  warnings.warn(msg, MultiplePathsFoundWarning)\n",
      "/home1/noaherz/cmlreaders/cmlreaders/readers/electrodes.py:236: MissingCoordinatesWarning: Could not load MNI coordinates\n",
      "  \"Could not load MNI coordinates\"))\n"
     ]
    },
    {
     "name": "stdout",
     "output_type": "stream",
     "text": [
      "CPP total time wavelet loop:  26.843615770339966\n",
      "Progress: 35 % done, subject:  R1328E\n"
     ]
    },
    {
     "name": "stderr",
     "output_type": "stream",
     "text": [
      "/home1/noaherz/.conda/envs/cml3/lib/python3.7/site-packages/numpy/core/fromnumeric.py:3335: RuntimeWarning: Mean of empty slice.\n",
      "  out=out, **kwargs)\n",
      "/home1/noaherz/.conda/envs/cml3/lib/python3.7/site-packages/numpy/core/_methods.py:161: RuntimeWarning: invalid value encountered in double_scalars\n",
      "  ret = ret.dtype.type(ret / rcount)\n",
      "/home1/noaherz/.conda/envs/cml3/lib/python3.7/site-packages/pandas/core/ops/array_ops.py:253: FutureWarning: elementwise comparison failed; returning scalar instead, but in the future will perform elementwise comparison\n",
      "  res_values = method(rvalues)\n",
      "/home1/noaherz/cmlreaders/cmlreaders/path_finder.py:239: MultiplePathsFoundWarning: Multiple files found: /protocols/r1/subjects/R1330D/localizations/0/montages/0/neuroradiology/current_processed/pairs.json\n",
      "/data/eeg/R1330D/tal/R1330D_talLocs_database_bipol.mat returning the first file found\n",
      "  warnings.warn(msg, MultiplePathsFoundWarning)\n",
      "/home1/noaherz/cmlreaders/cmlreaders/readers/electrodes.py:236: MissingCoordinatesWarning: Could not load MNI coordinates\n",
      "  \"Could not load MNI coordinates\"))\n"
     ]
    },
    {
     "name": "stdout",
     "output_type": "stream",
     "text": [
      "CPP total time wavelet loop:  20.96591591835022\n",
      "Progress: 35 % done, subject:  R1330D\n"
     ]
    },
    {
     "name": "stderr",
     "output_type": "stream",
     "text": [
      "/home1/noaherz/.conda/envs/cml3/lib/python3.7/site-packages/pandas/core/ops/array_ops.py:253: FutureWarning: elementwise comparison failed; returning scalar instead, but in the future will perform elementwise comparison\n",
      "  res_values = method(rvalues)\n",
      "/home1/noaherz/cmlreaders/cmlreaders/path_finder.py:239: MultiplePathsFoundWarning: Multiple files found: /protocols/r1/subjects/R1330D/localizations/0/montages/0/neuroradiology/current_processed/pairs.json\n",
      "/data/eeg/R1330D/tal/R1330D_talLocs_database_bipol.mat returning the first file found\n",
      "  warnings.warn(msg, MultiplePathsFoundWarning)\n",
      "/home1/noaherz/cmlreaders/cmlreaders/readers/electrodes.py:236: MissingCoordinatesWarning: Could not load MNI coordinates\n",
      "  \"Could not load MNI coordinates\"))\n"
     ]
    },
    {
     "name": "stdout",
     "output_type": "stream",
     "text": [
      "CPP total time wavelet loop:  36.12376117706299\n",
      "Progress: 36 % done, subject:  R1330D\n"
     ]
    },
    {
     "name": "stderr",
     "output_type": "stream",
     "text": [
      "/home1/noaherz/.conda/envs/cml3/lib/python3.7/site-packages/pandas/core/ops/array_ops.py:253: FutureWarning: elementwise comparison failed; returning scalar instead, but in the future will perform elementwise comparison\n",
      "  res_values = method(rvalues)\n",
      "/home1/noaherz/cmlreaders/cmlreaders/path_finder.py:239: MultiplePathsFoundWarning: Multiple files found: /protocols/r1/subjects/R1332M/localizations/0/montages/0/neuroradiology/current_processed/pairs.json\n",
      "/data/eeg/R1332M/tal/R1332M_talLocs_database_bipol.mat returning the first file found\n",
      "  warnings.warn(msg, MultiplePathsFoundWarning)\n",
      "/home1/noaherz/cmlreaders/cmlreaders/readers/electrodes.py:236: MissingCoordinatesWarning: Could not load MNI coordinates\n",
      "  \"Could not load MNI coordinates\"))\n"
     ]
    },
    {
     "name": "stdout",
     "output_type": "stream",
     "text": [
      "CPP total time wavelet loop:  21.653496026992798\n",
      "Progress: 36 % done, subject:  R1332M\n"
     ]
    },
    {
     "name": "stderr",
     "output_type": "stream",
     "text": [
      "/home1/noaherz/.conda/envs/cml3/lib/python3.7/site-packages/pandas/core/ops/array_ops.py:253: FutureWarning: elementwise comparison failed; returning scalar instead, but in the future will perform elementwise comparison\n",
      "  res_values = method(rvalues)\n",
      "/home1/noaherz/cmlreaders/cmlreaders/path_finder.py:239: MultiplePathsFoundWarning: Multiple files found: /protocols/r1/subjects/R1332M/localizations/0/montages/0/neuroradiology/current_processed/pairs.json\n",
      "/data/eeg/R1332M/tal/R1332M_talLocs_database_bipol.mat returning the first file found\n",
      "  warnings.warn(msg, MultiplePathsFoundWarning)\n",
      "/home1/noaherz/cmlreaders/cmlreaders/readers/electrodes.py:236: MissingCoordinatesWarning: Could not load MNI coordinates\n",
      "  \"Could not load MNI coordinates\"))\n"
     ]
    },
    {
     "name": "stdout",
     "output_type": "stream",
     "text": [
      "CPP total time wavelet loop:  17.479737758636475\n",
      "Progress: 36 % done, subject:  R1332M\n"
     ]
    },
    {
     "name": "stderr",
     "output_type": "stream",
     "text": [
      "/home1/noaherz/.conda/envs/cml3/lib/python3.7/site-packages/pandas/core/ops/array_ops.py:253: FutureWarning: elementwise comparison failed; returning scalar instead, but in the future will perform elementwise comparison\n",
      "  res_values = method(rvalues)\n",
      "/home1/noaherz/cmlreaders/cmlreaders/path_finder.py:239: MultiplePathsFoundWarning: Multiple files found: /protocols/r1/subjects/R1334T/localizations/0/montages/0/neuroradiology/current_processed/pairs.json\n",
      "/data/eeg/R1334T/tal/R1334T_talLocs_database_bipol.mat returning the first file found\n",
      "  warnings.warn(msg, MultiplePathsFoundWarning)\n",
      "/home1/noaherz/cmlreaders/cmlreaders/readers/electrodes.py:236: MissingCoordinatesWarning: Could not load MNI coordinates\n",
      "  \"Could not load MNI coordinates\"))\n"
     ]
    },
    {
     "name": "stdout",
     "output_type": "stream",
     "text": [
      "CPP total time wavelet loop:  24.69128441810608\n",
      "Progress: 36 % done, subject:  R1334T\n"
     ]
    },
    {
     "name": "stderr",
     "output_type": "stream",
     "text": [
      "/home1/noaherz/.conda/envs/cml3/lib/python3.7/site-packages/numpy/core/fromnumeric.py:3335: RuntimeWarning: Mean of empty slice.\n",
      "  out=out, **kwargs)\n",
      "/home1/noaherz/.conda/envs/cml3/lib/python3.7/site-packages/numpy/core/_methods.py:161: RuntimeWarning: invalid value encountered in double_scalars\n",
      "  ret = ret.dtype.type(ret / rcount)\n",
      "/home1/noaherz/.conda/envs/cml3/lib/python3.7/site-packages/pandas/core/ops/array_ops.py:253: FutureWarning: elementwise comparison failed; returning scalar instead, but in the future will perform elementwise comparison\n",
      "  res_values = method(rvalues)\n",
      "/home1/noaherz/cmlreaders/cmlreaders/path_finder.py:239: MultiplePathsFoundWarning: Multiple files found: /protocols/r1/subjects/R1343J/localizations/0/montages/0/neuroradiology/current_processed/pairs.json\n",
      "/data/eeg/R1343J/tal/R1343J_talLocs_database_bipol.mat returning the first file found\n",
      "  warnings.warn(msg, MultiplePathsFoundWarning)\n",
      "/home1/noaherz/cmlreaders/cmlreaders/path_finder.py:239: MultiplePathsFoundWarning: Multiple files found: /protocols/r1/subjects/R1343J/experiments/catFR1/sessions/1/ephys/current_processed/sources.json\n",
      "/data/eeg/R1343J/eeg.noreref/params.txt returning the first file found\n",
      "  warnings.warn(msg, MultiplePathsFoundWarning)\n"
     ]
    },
    {
     "name": "stdout",
     "output_type": "stream",
     "text": [
      "CPP total time wavelet loop:  39.60161781311035\n",
      "Progress: 37 % done, subject:  R1343J\n",
      "subject R1347D session 0 has no electrodes in the hippocampus and was not included in the analysis\n",
      "Progress: 37 % done, subject:  R1347D\n",
      "subject R1347D session 1 has no electrodes in the hippocampus and was not included in the analysis\n",
      "Progress: 37 % done, subject:  R1347D\n",
      "subject R1347D session 2 has no electrodes in the hippocampus and was not included in the analysis\n",
      "Progress: 38 % done, subject:  R1347D\n"
     ]
    },
    {
     "name": "stderr",
     "output_type": "stream",
     "text": [
      "/home1/noaherz/cmlreaders/cmlreaders/path_finder.py:239: MultiplePathsFoundWarning: Multiple files found: /protocols/r1/subjects/R1351M/localizations/0/montages/0/neuroradiology/current_processed/pairs.json\n",
      "/data/eeg/R1351M/tal/R1351M_talLocs_database_bipol.mat returning the first file found\n",
      "  warnings.warn(msg, MultiplePathsFoundWarning)\n"
     ]
    },
    {
     "name": "stdout",
     "output_type": "stream",
     "text": [
      "subject R1351M session 0 has no electrodes in the hippocampus and was not included in the analysis\n",
      "Progress: 38 % done, subject:  R1351M\n",
      "subject R1351M session 1 has no electrodes in the hippocampus and was not included in the analysis\n",
      "Progress: 38 % done, subject:  R1351M\n"
     ]
    },
    {
     "name": "stderr",
     "output_type": "stream",
     "text": [
      "/home1/noaherz/cmlreaders/cmlreaders/path_finder.py:239: MultiplePathsFoundWarning: Multiple files found: /data10/RAM/subjects/R1354E/docs/electrode_categories.txt\n",
      "/scratch/pwanda/electrode_categories/R1354E_electrode_categories.txt returning the first file found\n",
      "  warnings.warn(msg, MultiplePathsFoundWarning)\n",
      "/home1/noaherz/cmlreaders/cmlreaders/path_finder.py:239: MultiplePathsFoundWarning: Multiple files found: /protocols/r1/subjects/R1354E/localizations/0/montages/0/neuroradiology/current_processed/pairs.json\n",
      "/data/eeg/R1354E/tal/R1354E_talLocs_database_bipol.mat returning the first file found\n",
      "  warnings.warn(msg, MultiplePathsFoundWarning)\n"
     ]
    },
    {
     "name": "stdout",
     "output_type": "stream",
     "text": [
      "subject R1354E session 0 has no electrodes in the hippocampus and was not included in the analysis\n",
      "Progress: 38 % done, subject:  R1354E\n",
      "subject R1354E session 1 has no electrodes in the hippocampus and was not included in the analysis\n",
      "Progress: 39 % done, subject:  R1354E\n",
      "subject R1354E session 2 has no electrodes in the hippocampus and was not included in the analysis\n",
      "Progress: 39 % done, subject:  R1354E\n",
      "subject R1354E session 3 has no electrodes in the hippocampus and was not included in the analysis\n",
      "Progress: 39 % done, subject:  R1354E\n"
     ]
    },
    {
     "name": "stderr",
     "output_type": "stream",
     "text": [
      "/home1/noaherz/cmlreaders/cmlreaders/path_finder.py:239: MultiplePathsFoundWarning: Multiple files found: /data10/RAM/subjects/R1361C/docs/electrode_categories.txt\n",
      "/scratch/pwanda/electrode_categories/R1361C_electrode_categories.txt returning the first file found\n",
      "  warnings.warn(msg, MultiplePathsFoundWarning)\n",
      "/home1/noaherz/cmlreaders/cmlreaders/path_finder.py:239: MultiplePathsFoundWarning: Multiple files found: /protocols/r1/subjects/R1361C/localizations/0/montages/0/neuroradiology/current_processed/pairs.json\n",
      "/data/eeg/R1361C/tal/R1361C_talLocs_database_bipol.mat returning the first file found\n",
      "  warnings.warn(msg, MultiplePathsFoundWarning)\n"
     ]
    },
    {
     "name": "stdout",
     "output_type": "stream",
     "text": [
      "subject R1361C session 0 has no electrodes in the hippocampus and was not included in the analysis\n",
      "Progress: 39 % done, subject:  R1361C\n",
      "subject R1361C session 1 has no electrodes in the hippocampus and was not included in the analysis\n",
      "Progress: 40 % done, subject:  R1361C\n",
      "subject R1361C session 2 has no electrodes in the hippocampus and was not included in the analysis\n",
      "Progress: 40 % done, subject:  R1361C\n",
      "subject R1367D session 0 has no electrodes in the hippocampus and was not included in the analysis\n",
      "Progress: 40 % done, subject:  R1367D\n",
      "subject R1368T session 0 has no electrodes in the hippocampus and was not included in the analysis\n",
      "Progress: 41 % done, subject:  R1368T\n",
      "subject R1372C session 0 has no electrodes in the hippocampus and was not included in the analysis\n",
      "Progress: 41 % done, subject:  R1372C\n",
      "subject R1372C session 1 has no electrodes in the hippocampus and was not included in the analysis\n",
      "Progress: 41 % done, subject:  R1372C\n",
      "subject R1372C session 2 has no electrodes in the hippocampus and was not included in the analysis\n",
      "Progress: 41 % done, subject:  R1372C\n"
     ]
    },
    {
     "name": "stderr",
     "output_type": "stream",
     "text": [
      "/home1/noaherz/cmlreaders/cmlreaders/path_finder.py:239: MultiplePathsFoundWarning: Multiple files found: /data10/RAM/subjects/R1374T/docs/electrode_categories.txt\n",
      "/scratch/pwanda/electrode_categories/R1374T_electrode_categories.txt returning the first file found\n",
      "  warnings.warn(msg, MultiplePathsFoundWarning)\n"
     ]
    },
    {
     "name": "stdout",
     "output_type": "stream",
     "text": [
      "CPP total time wavelet loop:  11.700649738311768\n",
      "Progress: 42 % done, subject:  R1374T\n",
      "CPP total time wavelet loop:  10.793933868408203\n",
      "Progress: 42 % done, subject:  R1374T\n",
      "subject R1376D session 0 has no electrodes in the hippocampus and was not included in the analysis\n",
      "Progress: 42 % done, subject:  R1376D\n",
      "subject R1377M session 0 has no electrodes in the hippocampus and was not included in the analysis\n",
      "Progress: 42 % done, subject:  R1377M\n",
      "subject R1377M session 6 has no electrodes in the hippocampus and was not included in the analysis\n",
      "Progress: 43 % done, subject:  R1377M\n",
      "subject R1378T session 0 has no electrodes in the hippocampus and was not included in the analysis\n",
      "Progress: 43 % done, subject:  R1378T\n",
      "subject R1378T session 1 has no electrodes in the hippocampus and was not included in the analysis\n",
      "Progress: 43 % done, subject:  R1378T\n",
      "subject R1379E session 0 has no electrodes in the hippocampus and was not included in the analysis\n",
      "Progress: 43 % done, subject:  R1379E\n",
      "subject R1379E session 1 has no electrodes in the hippocampus and was not included in the analysis\n",
      "Progress: 44 % done, subject:  R1379E\n",
      "subject R1380D session 1 has no electrodes in the hippocampus and was not included in the analysis\n",
      "Progress: 44 % done, subject:  R1380D\n",
      "subject R1380D session 2 has no electrodes in the hippocampus and was not included in the analysis\n",
      "Progress: 44 % done, subject:  R1380D\n",
      "subject R1380D session 3 has no electrodes in the hippocampus and was not included in the analysis\n",
      "Progress: 45 % done, subject:  R1380D\n",
      "subject R1380D session 4 has no electrodes in the hippocampus and was not included in the analysis\n",
      "Progress: 45 % done, subject:  R1380D\n"
     ]
    },
    {
     "name": "stderr",
     "output_type": "stream",
     "text": [
      "/home1/noaherz/cmlreaders/cmlreaders/path_finder.py:239: MultiplePathsFoundWarning: Multiple files found: /protocols/r1/subjects/R1383J/experiments/catFR1/sessions/1/ephys/current_processed/sources.json\n",
      "/data/eeg/R1383J/eeg.noreref/params.txt returning the first file found\n",
      "  warnings.warn(msg, MultiplePathsFoundWarning)\n"
     ]
    },
    {
     "name": "stdout",
     "output_type": "stream",
     "text": [
      "subject R1383J session 1 has no electrodes in the hippocampus and was not included in the analysis\n",
      "Progress: 45 % done, subject:  R1383J\n"
     ]
    },
    {
     "name": "stderr",
     "output_type": "stream",
     "text": [
      "/home1/noaherz/cmlreaders/cmlreaders/path_finder.py:239: MultiplePathsFoundWarning: Multiple files found: /protocols/r1/subjects/R1383J/experiments/catFR1/sessions/2/ephys/current_processed/sources.json\n",
      "/data/eeg/R1383J/eeg.noreref/params.txt returning the first file found\n",
      "  warnings.warn(msg, MultiplePathsFoundWarning)\n"
     ]
    },
    {
     "name": "stdout",
     "output_type": "stream",
     "text": [
      "subject R1383J session 2 has no electrodes in the hippocampus and was not included in the analysis\n",
      "Progress: 45 % done, subject:  R1383J\n"
     ]
    },
    {
     "name": "stderr",
     "output_type": "stream",
     "text": [
      "/home1/noaherz/cmlreaders/cmlreaders/path_finder.py:239: MultiplePathsFoundWarning: Multiple files found: /protocols/r1/subjects/R1383J/experiments/catFR1/sessions/3/ephys/current_processed/sources.json\n",
      "/data/eeg/R1383J/eeg.noreref/params.txt returning the first file found\n",
      "  warnings.warn(msg, MultiplePathsFoundWarning)\n"
     ]
    },
    {
     "name": "stdout",
     "output_type": "stream",
     "text": [
      "subject R1383J session 3 has no electrodes in the hippocampus and was not included in the analysis\n",
      "Progress: 46 % done, subject:  R1383J\n"
     ]
    },
    {
     "name": "stderr",
     "output_type": "stream",
     "text": [
      "/home1/noaherz/cmlreaders/cmlreaders/path_finder.py:239: MultiplePathsFoundWarning: Multiple files found: /protocols/r1/subjects/R1383J/experiments/catFR1/sessions/4/ephys/current_processed/sources.json\n",
      "/data/eeg/R1383J/eeg.noreref/params.txt returning the first file found\n",
      "  warnings.warn(msg, MultiplePathsFoundWarning)\n"
     ]
    },
    {
     "name": "stdout",
     "output_type": "stream",
     "text": [
      "subject R1383J session 4 has no electrodes in the hippocampus and was not included in the analysis\n",
      "Progress: 46 % done, subject:  R1383J\n",
      "subject R1389J session 0 has no electrodes in the hippocampus and was not included in the analysis\n",
      "Progress: 46 % done, subject:  R1389J\n",
      "subject R1389J session 1 has no electrodes in the hippocampus and was not included in the analysis\n",
      "Progress: 46 % done, subject:  R1389J\n",
      "subject R1389J session 2 has no electrodes in the hippocampus and was not included in the analysis\n",
      "Progress: 47 % done, subject:  R1389J\n",
      "subject R1389J session 3 has no electrodes in the hippocampus and was not included in the analysis\n",
      "Progress: 47 % done, subject:  R1389J\n",
      "subject R1390M session 0 has no electrodes in the hippocampus and was not included in the analysis\n",
      "Progress: 47 % done, subject:  R1390M\n",
      "subject R1390M session 1 has no electrodes in the hippocampus and was not included in the analysis\n",
      "Progress: 47 % done, subject:  R1390M\n",
      "subject R1390M session 2 has no electrodes in the hippocampus and was not included in the analysis\n",
      "Progress: 48 % done, subject:  R1390M\n",
      "subject R1390M session 3 has no electrodes in the hippocampus and was not included in the analysis\n",
      "Progress: 48 % done, subject:  R1390M\n",
      "subject R1393T session 0 has no electrodes in the hippocampus and was not included in the analysis\n",
      "Progress: 48 % done, subject:  R1393T\n",
      "subject R1393T session 1 has no electrodes in the hippocampus and was not included in the analysis\n",
      "Progress: 49 % done, subject:  R1393T\n",
      "subject R1393T session 2 has no electrodes in the hippocampus and was not included in the analysis\n",
      "Progress: 49 % done, subject:  R1393T\n",
      "subject R1395M session 0 has no electrodes in the hippocampus and was not included in the analysis\n",
      "Progress: 49 % done, subject:  R1395M\n",
      "subject R1395M session 1 has no electrodes in the hippocampus and was not included in the analysis\n",
      "Progress: 49 % done, subject:  R1395M\n",
      "subject R1395M session 2 has no electrodes in the hippocampus and was not included in the analysis\n",
      "Progress: 50 % done, subject:  R1395M\n",
      "subject R1395M session 3 has no electrodes in the hippocampus and was not included in the analysis\n",
      "Progress: 50 % done, subject:  R1395M\n",
      "subject R1395M session 4 has no electrodes in the hippocampus and was not included in the analysis\n",
      "Progress: 50 % done, subject:  R1395M\n",
      "subject R1395M session 5 has no electrodes in the hippocampus and was not included in the analysis\n",
      "Progress: 50 % done, subject:  R1395M\n",
      "subject R1395M session 6 has no electrodes in the hippocampus and was not included in the analysis\n",
      "Progress: 51 % done, subject:  R1395M\n",
      "CPP total time wavelet loop:  11.935922861099243\n",
      "Progress: 51 % done, subject:  R1397D\n",
      "CPP total time wavelet loop:  10.83493947982788\n",
      "Progress: 51 % done, subject:  R1397D\n"
     ]
    },
    {
     "name": "stderr",
     "output_type": "stream",
     "text": [
      "/home1/noaherz/cmlreaders/cmlreaders/path_finder.py:239: MultiplePathsFoundWarning: Multiple files found: /protocols/r1/subjects/R1398J/experiments/catFR1/sessions/0/ephys/current_processed/sources.json\n",
      "/data/eeg/R1398J/eeg.noreref/params.txt returning the first file found\n",
      "  warnings.warn(msg, MultiplePathsFoundWarning)\n"
     ]
    },
    {
     "name": "stdout",
     "output_type": "stream",
     "text": [
      "subject R1398J session 0 has no electrodes in the hippocampus and was not included in the analysis\n",
      "Progress: 52 % done, subject:  R1398J\n"
     ]
    },
    {
     "name": "stderr",
     "output_type": "stream",
     "text": [
      "/home1/noaherz/cmlreaders/cmlreaders/path_finder.py:239: MultiplePathsFoundWarning: Multiple files found: /protocols/r1/subjects/R1398J/experiments/catFR1/sessions/1/ephys/current_processed/sources.json\n",
      "/data/eeg/R1398J/eeg.noreref/params.txt returning the first file found\n",
      "  warnings.warn(msg, MultiplePathsFoundWarning)\n"
     ]
    },
    {
     "name": "stdout",
     "output_type": "stream",
     "text": [
      "subject R1398J session 1 has no electrodes in the hippocampus and was not included in the analysis\n",
      "Progress: 52 % done, subject:  R1398J\n",
      "subject R1400N session 0 has no electrodes in the hippocampus and was not included in the analysis\n",
      "Progress: 52 % done, subject:  R1400N\n",
      "subject R1400N session 1 has no electrodes in the hippocampus and was not included in the analysis\n",
      "Progress: 52 % done, subject:  R1400N\n",
      "subject R1400N session 2 has no electrodes in the hippocampus and was not included in the analysis\n",
      "Progress: 53 % done, subject:  R1400N\n",
      "subject R1400N session 3 has no electrodes in the hippocampus and was not included in the analysis\n",
      "Progress: 53 % done, subject:  R1400N\n"
     ]
    },
    {
     "name": "stderr",
     "output_type": "stream",
     "text": [
      "/home1/noaherz/cmlreaders/cmlreaders/path_finder.py:239: MultiplePathsFoundWarning: Multiple files found: /protocols/r1/subjects/R1401J/experiments/catFR1/sessions/0/ephys/current_processed/sources.json\n",
      "/data/eeg/R1401J/eeg.noreref/params.txt returning the first file found\n",
      "  warnings.warn(msg, MultiplePathsFoundWarning)\n"
     ]
    },
    {
     "name": "stdout",
     "output_type": "stream",
     "text": [
      "subject R1401J session 0 has no electrodes in the hippocampus and was not included in the analysis\n",
      "Progress: 53 % done, subject:  R1401J\n"
     ]
    },
    {
     "name": "stderr",
     "output_type": "stream",
     "text": [
      "/home1/noaherz/cmlreaders/cmlreaders/path_finder.py:239: MultiplePathsFoundWarning: Multiple files found: /protocols/r1/subjects/R1401J/experiments/catFR1/sessions/1/ephys/current_processed/sources.json\n",
      "/data/eeg/R1401J/eeg.noreref/params.txt returning the first file found\n",
      "  warnings.warn(msg, MultiplePathsFoundWarning)\n"
     ]
    },
    {
     "name": "stdout",
     "output_type": "stream",
     "text": [
      "subject R1401J session 1 has no electrodes in the hippocampus and was not included in the analysis\n",
      "Progress: 53 % done, subject:  R1401J\n"
     ]
    },
    {
     "name": "stderr",
     "output_type": "stream",
     "text": [
      "/home1/noaherz/cmlreaders/cmlreaders/path_finder.py:239: MultiplePathsFoundWarning: Multiple files found: /protocols/r1/subjects/R1401J/experiments/catFR1/sessions/2/ephys/current_processed/sources.json\n",
      "/data/eeg/R1401J/eeg.noreref/params.txt returning the first file found\n",
      "  warnings.warn(msg, MultiplePathsFoundWarning)\n"
     ]
    },
    {
     "name": "stdout",
     "output_type": "stream",
     "text": [
      "subject R1401J session 2 has no electrodes in the hippocampus and was not included in the analysis\n",
      "Progress: 54 % done, subject:  R1401J\n",
      "subject R1403N session 0 has no electrodes in the hippocampus and was not included in the analysis\n",
      "Progress: 54 % done, subject:  R1403N\n",
      "subject R1403N session 1 has no electrodes in the hippocampus and was not included in the analysis\n",
      "Progress: 54 % done, subject:  R1403N\n",
      "subject R1403N session 2 has no electrodes in the hippocampus and was not included in the analysis\n",
      "Progress: 54 % done, subject:  R1403N\n",
      "subject R1403N session 4 has no electrodes in the hippocampus and was not included in the analysis\n",
      "Progress: 55 % done, subject:  R1403N\n",
      "subject R1404E session 0 has no electrodes in the hippocampus and was not included in the analysis\n",
      "Progress: 55 % done, subject:  R1404E\n",
      "subject R1404E session 1 has no electrodes in the hippocampus and was not included in the analysis\n",
      "Progress: 55 % done, subject:  R1404E\n",
      "subject R1405E session 0 has no electrodes in the hippocampus and was not included in the analysis\n",
      "Progress: 56 % done, subject:  R1405E\n",
      "subject R1405E session 1 has no electrodes in the hippocampus and was not included in the analysis\n",
      "Progress: 56 % done, subject:  R1405E\n",
      "subject R1405E session 2 has no electrodes in the hippocampus and was not included in the analysis\n",
      "Progress: 56 % done, subject:  R1405E\n",
      "subject R1406M session 0 has no electrodes in the hippocampus and was not included in the analysis\n",
      "Progress: 56 % done, subject:  R1406M\n",
      "subject R1406M session 1 has no electrodes in the hippocampus and was not included in the analysis\n",
      "Progress: 57 % done, subject:  R1406M\n",
      "subject R1406M session 2 has no electrodes in the hippocampus and was not included in the analysis\n",
      "Progress: 57 % done, subject:  R1406M\n",
      "subject R1406M session 3 has no electrodes in the hippocampus and was not included in the analysis\n",
      "Progress: 57 % done, subject:  R1406M\n",
      "subject R1408N session 0 has no electrodes in the hippocampus and was not included in the analysis\n",
      "Progress: 57 % done, subject:  R1408N\n",
      "subject R1408N session 1 has no electrodes in the hippocampus and was not included in the analysis\n",
      "Progress: 58 % done, subject:  R1408N\n",
      "subject R1409D session 1 has no electrodes in the hippocampus and was not included in the analysis\n",
      "Progress: 58 % done, subject:  R1409D\n",
      "subject R1409D session 2 has no electrodes in the hippocampus and was not included in the analysis\n",
      "Progress: 58 % done, subject:  R1409D\n",
      "subject R1409D session 3 has no electrodes in the hippocampus and was not included in the analysis\n",
      "Progress: 58 % done, subject:  R1409D\n",
      "subject R1413D session 0 has no electrodes in the hippocampus and was not included in the analysis\n",
      "Progress: 59 % done, subject:  R1413D\n",
      "subject R1415T session 0 has no electrodes in the hippocampus and was not included in the analysis\n",
      "Progress: 59 % done, subject:  R1415T\n",
      "subject R1421M session 0 has no electrodes in the hippocampus and was not included in the analysis\n",
      "Progress: 59 % done, subject:  R1421M\n",
      "subject R1421M session 1 has no electrodes in the hippocampus and was not included in the analysis\n",
      "Progress: 60 % done, subject:  R1421M\n",
      "subject R1426N session 0 has no electrodes in the hippocampus and was not included in the analysis\n",
      "Progress: 60 % done, subject:  R1426N\n",
      "subject R1426N session 1 has no electrodes in the hippocampus and was not included in the analysis\n",
      "Progress: 60 % done, subject:  R1426N\n",
      "subject R1443D session 2 has no electrodes in the hippocampus and was not included in the analysis\n",
      "Progress: 60 % done, subject:  R1443D\n",
      "subject R1444D session 1 has no electrodes in the hippocampus and was not included in the analysis\n",
      "Progress: 61 % done, subject:  R1444D\n",
      "subject R1444D session 2 has no electrodes in the hippocampus and was not included in the analysis\n",
      "Progress: 61 % done, subject:  R1444D\n",
      "subject R1444D session 3 has no electrodes in the hippocampus and was not included in the analysis\n",
      "Progress: 61 % done, subject:  R1444D\n",
      "subject R1449T session 0 has no electrodes in the hippocampus and was not included in the analysis\n",
      "Progress: 61 % done, subject:  R1449T\n",
      "subject R1449T session 1 has no electrodes in the hippocampus and was not included in the analysis\n",
      "Progress: 62 % done, subject:  R1449T\n",
      "subject R1450D session 1 has no electrodes in the hippocampus and was not included in the analysis\n",
      "Progress: 62 % done, subject:  R1450D\n",
      "subject R1450D session 3 has no electrodes in the hippocampus and was not included in the analysis\n",
      "Progress: 62 % done, subject:  R1450D\n",
      "subject R1450D session 4 has no electrodes in the hippocampus and was not included in the analysis\n",
      "Progress: 63 % done, subject:  R1450D\n",
      "subject R1456D session 0 has no electrodes in the hippocampus and was not included in the analysis\n",
      "Progress: 63 % done, subject:  R1456D\n",
      "subject R1456D session 1 has no electrodes in the hippocampus and was not included in the analysis\n",
      "Progress: 63 % done, subject:  R1456D\n",
      "subject R1456D session 2 has no electrodes in the hippocampus and was not included in the analysis\n",
      "Progress: 63 % done, subject:  R1456D\n",
      "subject R1456D session 3 has no electrodes in the hippocampus and was not included in the analysis\n",
      "Progress: 64 % done, subject:  R1456D\n",
      "subject R1461T session 0 has no electrodes in the hippocampus and was not included in the analysis\n",
      "Progress: 64 % done, subject:  R1461T\n",
      "subject R1462M session 0 has no electrodes in the hippocampus and was not included in the analysis\n",
      "Progress: 64 % done, subject:  R1462M\n",
      "subject R1463E session 0 has no electrodes in the hippocampus and was not included in the analysis\n",
      "Progress: 65 % done, subject:  R1463E\n",
      "subject R1463E session 1 has no electrodes in the hippocampus and was not included in the analysis\n",
      "Progress: 65 % done, subject:  R1463E\n",
      "subject R1465D session 0 has no electrodes in the hippocampus and was not included in the analysis\n",
      "Progress: 65 % done, subject:  R1465D\n",
      "subject R1465D session 1 has no electrodes in the hippocampus and was not included in the analysis\n",
      "Progress: 65 % done, subject:  R1465D\n",
      "subject R1465D session 2 has no electrodes in the hippocampus and was not included in the analysis\n",
      "Progress: 66 % done, subject:  R1465D\n",
      "subject R1465D session 3 has no electrodes in the hippocampus and was not included in the analysis\n",
      "Progress: 66 % done, subject:  R1465D\n",
      "subject R1468J session 1 has no electrodes in the hippocampus and was not included in the analysis\n",
      "Progress: 66 % done, subject:  R1468J\n",
      "subject R1468J session 2 has no electrodes in the hippocampus and was not included in the analysis\n",
      "Progress: 67 % done, subject:  R1468J\n",
      "subject R1468J session 3 has no electrodes in the hippocampus and was not included in the analysis\n",
      "Progress: 67 % done, subject:  R1468J\n",
      "subject R1468J session 5 has no electrodes in the hippocampus and was not included in the analysis\n",
      "Progress: 67 % done, subject:  R1468J\n",
      "subject R1468J session 6 has no electrodes in the hippocampus and was not included in the analysis\n",
      "Progress: 67 % done, subject:  R1468J\n",
      "subject R1468J session 7 has no electrodes in the hippocampus and was not included in the analysis\n",
      "Progress: 68 % done, subject:  R1468J\n",
      "subject R1468J session 8 has no electrodes in the hippocampus and was not included in the analysis\n",
      "Progress: 68 % done, subject:  R1468J\n",
      "subject R1469D session 1 has no electrodes in the hippocampus and was not included in the analysis\n",
      "Progress: 68 % done, subject:  R1469D\n",
      "subject R1469D session 3 has no electrodes in the hippocampus and was not included in the analysis\n",
      "Progress: 68 % done, subject:  R1469D\n",
      "subject R1469D session 4 has no electrodes in the hippocampus and was not included in the analysis\n",
      "Progress: 69 % done, subject:  R1469D\n",
      "subject R1472T session 0 has no electrodes in the hippocampus and was not included in the analysis\n",
      "Progress: 69 % done, subject:  R1472T\n",
      "subject R1472T session 1 has no electrodes in the hippocampus and was not included in the analysis\n",
      "Progress: 69 % done, subject:  R1472T\n",
      "subject R1475J session 0 has no electrodes in the hippocampus and was not included in the analysis\n",
      "Progress: 69 % done, subject:  R1475J\n",
      "subject R1475J session 1 has no electrodes in the hippocampus and was not included in the analysis\n",
      "Progress: 70 % done, subject:  R1475J\n",
      "subject R1475J session 2 has no electrodes in the hippocampus and was not included in the analysis\n",
      "Progress: 70 % done, subject:  R1475J\n",
      "subject R1476J session 0 has no electrodes in the hippocampus and was not included in the analysis\n",
      "Progress: 70 % done, subject:  R1476J\n",
      "subject R1476J session 1 has no electrodes in the hippocampus and was not included in the analysis\n",
      "Progress: 71 % done, subject:  R1476J\n",
      "subject R1476J session 2 has no electrodes in the hippocampus and was not included in the analysis\n",
      "Progress: 71 % done, subject:  R1476J\n",
      "subject R1476J session 3 has no electrodes in the hippocampus and was not included in the analysis\n",
      "Progress: 71 % done, subject:  R1476J\n",
      "subject R1476J session 4 has no electrodes in the hippocampus and was not included in the analysis\n",
      "Progress: 71 % done, subject:  R1476J\n",
      "subject R1477J session 0 has no electrodes in the hippocampus and was not included in the analysis\n",
      "Progress: 72 % done, subject:  R1477J\n",
      "subject R1477J session 1 has no electrodes in the hippocampus and was not included in the analysis\n",
      "Progress: 72 % done, subject:  R1477J\n",
      "subject R1477J session 2 has no electrodes in the hippocampus and was not included in the analysis\n",
      "Progress: 72 % done, subject:  R1477J\n",
      "subject R1477J session 3 has no electrodes in the hippocampus and was not included in the analysis\n",
      "Progress: 72 % done, subject:  R1477J\n",
      "subject R1477J session 4 has no electrodes in the hippocampus and was not included in the analysis\n",
      "Progress: 73 % done, subject:  R1477J\n",
      "subject R1477J session 5 has no electrodes in the hippocampus and was not included in the analysis\n",
      "Progress: 73 % done, subject:  R1477J\n",
      "subject R1486J session 0 has no electrodes in the hippocampus and was not included in the analysis\n",
      "Progress: 73 % done, subject:  R1486J\n",
      "subject R1486J session 1 has no electrodes in the hippocampus and was not included in the analysis\n",
      "Progress: 73 % done, subject:  R1486J\n",
      "subject R1486J session 2 has no electrodes in the hippocampus and was not included in the analysis\n",
      "Progress: 74 % done, subject:  R1486J\n",
      "subject R1486J session 3 has no electrodes in the hippocampus and was not included in the analysis\n",
      "Progress: 74 % done, subject:  R1486J\n",
      "subject R1486J session 4 has no electrodes in the hippocampus and was not included in the analysis\n",
      "Progress: 74 % done, subject:  R1486J\n",
      "subject R1486J session 5 has no electrodes in the hippocampus and was not included in the analysis\n",
      "Progress: 75 % done, subject:  R1486J\n",
      "subject R1486J session 6 has no electrodes in the hippocampus and was not included in the analysis\n",
      "Progress: 75 % done, subject:  R1486J\n",
      "subject R1486J session 7 has no electrodes in the hippocampus and was not included in the analysis\n",
      "Progress: 75 % done, subject:  R1486J\n",
      "subject R1487T session 0 has no electrodes in the hippocampus and was not included in the analysis\n",
      "Progress: 75 % done, subject:  R1487T\n",
      "subject R1487T session 1 has no electrodes in the hippocampus and was not included in the analysis\n",
      "Progress: 76 % done, subject:  R1487T\n",
      "subject R1487T session 2 has no electrodes in the hippocampus and was not included in the analysis\n",
      "Progress: 76 % done, subject:  R1487T\n",
      "subject R1488T session 0 has no electrodes in the hippocampus and was not included in the analysis\n",
      "Progress: 76 % done, subject:  R1488T\n",
      "subject R1488T session 2 has no electrodes in the hippocampus and was not included in the analysis\n",
      "Progress: 76 % done, subject:  R1488T\n",
      "subject R1488T session 3 has no electrodes in the hippocampus and was not included in the analysis\n",
      "Progress: 77 % done, subject:  R1488T\n",
      "subject R1489E session 1 has no electrodes in the hippocampus and was not included in the analysis\n",
      "Progress: 77 % done, subject:  R1489E\n",
      "subject R1489E session 2 has no electrodes in the hippocampus and was not included in the analysis\n",
      "Progress: 77 % done, subject:  R1489E\n",
      "subject R1489E session 3 has no electrodes in the hippocampus and was not included in the analysis\n",
      "Progress: 78 % done, subject:  R1489E\n",
      "subject R1489E session 4 has no electrodes in the hippocampus and was not included in the analysis\n",
      "Progress: 78 % done, subject:  R1489E\n",
      "subject R1491T session 0 has no electrodes in the hippocampus and was not included in the analysis\n",
      "Progress: 78 % done, subject:  R1491T\n",
      "subject R1491T session 2 has no electrodes in the hippocampus and was not included in the analysis\n",
      "Progress: 79 % done, subject:  R1491T\n",
      "subject R1491T session 4 has no electrodes in the hippocampus and was not included in the analysis\n",
      "Progress: 79 % done, subject:  R1491T\n",
      "subject R1491T session 5 has no electrodes in the hippocampus and was not included in the analysis\n",
      "Progress: 79 % done, subject:  R1491T\n",
      "subject R1492J session 0 has no electrodes in the hippocampus and was not included in the analysis\n",
      "Progress: 80 % done, subject:  R1492J\n",
      "subject R1492J session 1 has no electrodes in the hippocampus and was not included in the analysis\n",
      "Progress: 80 % done, subject:  R1492J\n",
      "subject R1492J session 2 has no electrodes in the hippocampus and was not included in the analysis\n",
      "Progress: 80 % done, subject:  R1492J\n",
      "subject R1492J session 4 has no electrodes in the hippocampus and was not included in the analysis\n",
      "Progress: 80 % done, subject:  R1492J\n",
      "subject R1493T session 0 has no electrodes in the hippocampus and was not included in the analysis\n",
      "Progress: 81 % done, subject:  R1493T\n",
      "subject R1493T session 1 has no electrodes in the hippocampus and was not included in the analysis\n",
      "Progress: 81 % done, subject:  R1493T\n",
      "subject R1493T session 3 has no electrodes in the hippocampus and was not included in the analysis\n",
      "Progress: 81 % done, subject:  R1493T\n",
      "subject R1493T session 4 has no electrodes in the hippocampus and was not included in the analysis\n",
      "Progress: 82 % done, subject:  R1493T\n",
      "subject R1495J session 0 has no electrodes in the hippocampus and was not included in the analysis\n",
      "Progress: 82 % done, subject:  R1495J\n",
      "subject R1495J session 1 has no electrodes in the hippocampus and was not included in the analysis\n",
      "Progress: 82 % done, subject:  R1495J\n",
      "subject R1495J session 10 has no electrodes in the hippocampus and was not included in the analysis\n",
      "Progress: 82 % done, subject:  R1495J\n",
      "subject R1495J session 2 has no electrodes in the hippocampus and was not included in the analysis\n",
      "Progress: 83 % done, subject:  R1495J\n",
      "subject R1495J session 4 has no electrodes in the hippocampus and was not included in the analysis\n",
      "Progress: 83 % done, subject:  R1495J\n",
      "subject R1495J session 5 has no electrodes in the hippocampus and was not included in the analysis\n",
      "Progress: 83 % done, subject:  R1495J\n",
      "subject R1495J session 6 has no electrodes in the hippocampus and was not included in the analysis\n",
      "Progress: 83 % done, subject:  R1495J\n",
      "subject R1495J session 8 has no electrodes in the hippocampus and was not included in the analysis\n",
      "Progress: 84 % done, subject:  R1495J\n",
      "subject R1498D session 1 has no electrodes in the hippocampus and was not included in the analysis\n",
      "Progress: 84 % done, subject:  R1498D\n",
      "subject R1498D session 2 has no electrodes in the hippocampus and was not included in the analysis\n",
      "Progress: 84 % done, subject:  R1498D\n",
      "subject R1498D session 4 has no electrodes in the hippocampus and was not included in the analysis\n",
      "Progress: 84 % done, subject:  R1498D\n",
      "subject R1498D session 5 has no electrodes in the hippocampus and was not included in the analysis\n",
      "Progress: 85 % done, subject:  R1498D\n",
      "subject R1499T session 0 has no electrodes in the hippocampus and was not included in the analysis\n",
      "Progress: 85 % done, subject:  R1499T\n",
      "subject R1499T session 1 has no electrodes in the hippocampus and was not included in the analysis\n",
      "Progress: 85 % done, subject:  R1499T\n",
      "subject R1499T session 2 has no electrodes in the hippocampus and was not included in the analysis\n",
      "Progress: 86 % done, subject:  R1499T\n",
      "subject R1499T session 4 has no electrodes in the hippocampus and was not included in the analysis\n",
      "Progress: 86 % done, subject:  R1499T\n",
      "subject R1500T session 0 has no electrodes in the hippocampus and was not included in the analysis\n",
      "Progress: 86 % done, subject:  R1500T\n",
      "subject R1500T session 1 has no electrodes in the hippocampus and was not included in the analysis\n",
      "Progress: 86 % done, subject:  R1500T\n",
      "subject R1500T session 2 has no electrodes in the hippocampus and was not included in the analysis\n",
      "Progress: 87 % done, subject:  R1500T\n",
      "subject R1500T session 3 has no electrodes in the hippocampus and was not included in the analysis\n",
      "Progress: 87 % done, subject:  R1500T\n",
      "subject R1501J session 0 has no electrodes in the hippocampus and was not included in the analysis\n",
      "Progress: 87 % done, subject:  R1501J\n",
      "subject R1501J session 1 has no electrodes in the hippocampus and was not included in the analysis\n",
      "Progress: 87 % done, subject:  R1501J\n",
      "subject R1501J session 2 has no electrodes in the hippocampus and was not included in the analysis\n",
      "Progress: 88 % done, subject:  R1501J\n",
      "subject R1501J session 3 has no electrodes in the hippocampus and was not included in the analysis\n",
      "Progress: 88 % done, subject:  R1501J\n",
      "subject R1501J session 4 has no electrodes in the hippocampus and was not included in the analysis\n",
      "Progress: 88 % done, subject:  R1501J\n",
      "subject R1501J session 5 has no electrodes in the hippocampus and was not included in the analysis\n",
      "Progress: 89 % done, subject:  R1501J\n",
      "subject R1501J session 6 has no electrodes in the hippocampus and was not included in the analysis\n",
      "Progress: 89 % done, subject:  R1501J\n",
      "subject R1501J session 8 has no electrodes in the hippocampus and was not included in the analysis\n",
      "Progress: 89 % done, subject:  R1501J\n",
      "subject R1505J session 0 has no electrodes in the hippocampus and was not included in the analysis\n",
      "Progress: 89 % done, subject:  R1505J\n",
      "subject R1505J session 1 has no electrodes in the hippocampus and was not included in the analysis\n",
      "Progress: 90 % done, subject:  R1505J\n",
      "subject R1515T session 0 has no electrodes in the hippocampus and was not included in the analysis\n",
      "Progress: 90 % done, subject:  R1515T\n",
      "subject R1515T session 1 has no electrodes in the hippocampus and was not included in the analysis\n",
      "Progress: 90 % done, subject:  R1515T\n",
      "subject R1515T session 2 has no electrodes in the hippocampus and was not included in the analysis\n",
      "Progress: 90 % done, subject:  R1515T\n",
      "subject R1515T session 3 has no electrodes in the hippocampus and was not included in the analysis\n",
      "Progress: 91 % done, subject:  R1515T\n",
      "subject R1518T session 0 has no electrodes in the hippocampus and was not included in the analysis\n",
      "Progress: 91 % done, subject:  R1518T\n",
      "subject R1518T session 1 has no electrodes in the hippocampus and was not included in the analysis\n",
      "Progress: 91 % done, subject:  R1518T\n",
      "subject R1518T session 2 has no electrodes in the hippocampus and was not included in the analysis\n",
      "Progress: 91 % done, subject:  R1518T\n",
      "subject R1525J session 0 has no electrodes in the hippocampus and was not included in the analysis\n",
      "Progress: 92 % done, subject:  R1525J\n",
      "subject R1525J session 2 has no electrodes in the hippocampus and was not included in the analysis\n",
      "Progress: 92 % done, subject:  R1525J\n",
      "subject R1525J session 3 has no electrodes in the hippocampus and was not included in the analysis\n",
      "Progress: 92 % done, subject:  R1525J\n",
      "subject R1525J session 4 has no electrodes in the hippocampus and was not included in the analysis\n",
      "Progress: 93 % done, subject:  R1525J\n",
      "subject R1525J session 5 has no electrodes in the hippocampus and was not included in the analysis\n",
      "Progress: 93 % done, subject:  R1525J\n",
      "subject R1525J session 6 has no electrodes in the hippocampus and was not included in the analysis\n",
      "Progress: 93 % done, subject:  R1525J\n",
      "subject R1527J session 0 has no electrodes in the hippocampus and was not included in the analysis\n",
      "Progress: 93 % done, subject:  R1527J\n",
      "subject R1527J session 1 has no electrodes in the hippocampus and was not included in the analysis\n",
      "Progress: 94 % done, subject:  R1527J\n",
      "subject R1527J session 2 has no electrodes in the hippocampus and was not included in the analysis\n",
      "Progress: 94 % done, subject:  R1527J\n",
      "subject R1527J session 3 has no electrodes in the hippocampus and was not included in the analysis\n",
      "Progress: 94 % done, subject:  R1527J\n",
      "subject R1527J session 4 has no electrodes in the hippocampus and was not included in the analysis\n",
      "Progress: 94 % done, subject:  R1527J\n",
      "subject R1527J session 5 has no electrodes in the hippocampus and was not included in the analysis\n",
      "Progress: 95 % done, subject:  R1527J\n",
      "subject R1530J session 0 has no electrodes in the hippocampus and was not included in the analysis\n",
      "Progress: 95 % done, subject:  R1530J\n",
      "subject R1530J session 1 has no electrodes in the hippocampus and was not included in the analysis\n",
      "Progress: 95 % done, subject:  R1530J\n",
      "subject R1530J session 2 has no electrodes in the hippocampus and was not included in the analysis\n",
      "Progress: 95 % done, subject:  R1530J\n",
      "subject R1530J session 3 has no electrodes in the hippocampus and was not included in the analysis\n",
      "Progress: 96 % done, subject:  R1530J\n",
      "subject R1530J session 4 has no electrodes in the hippocampus and was not included in the analysis\n",
      "Progress: 96 % done, subject:  R1530J\n",
      "subject R1530J session 6 has no electrodes in the hippocampus and was not included in the analysis\n",
      "Progress: 96 % done, subject:  R1530J\n",
      "subject R1536J session 0 has no electrodes in the hippocampus and was not included in the analysis\n",
      "Progress: 97 % done, subject:  R1536J\n",
      "subject R1536J session 1 has no electrodes in the hippocampus and was not included in the analysis\n",
      "Progress: 97 % done, subject:  R1536J\n",
      "subject R1536J session 2 has no electrodes in the hippocampus and was not included in the analysis\n",
      "Progress: 97 % done, subject:  R1536J\n",
      "subject R1536J session 3 has no electrodes in the hippocampus and was not included in the analysis\n",
      "Progress: 97 % done, subject:  R1536J\n",
      "subject R1541T session 0 has no electrodes in the hippocampus and was not included in the analysis\n",
      "Progress: 98 % done, subject:  R1541T\n",
      "subject R1541T session 1 has no electrodes in the hippocampus and was not included in the analysis\n",
      "Progress: 98 % done, subject:  R1541T\n",
      "subject R1541T session 2 has no electrodes in the hippocampus and was not included in the analysis\n",
      "Progress: 98 % done, subject:  R1541T\n",
      "subject R1541T session 3 has no electrodes in the hippocampus and was not included in the analysis\n",
      "Progress: 98 % done, subject:  R1541T\n",
      "subject R1541T session 4 has no electrodes in the hippocampus and was not included in the analysis\n",
      "Progress: 99 % done, subject:  R1541T\n",
      "subject R1541T session 6 has no electrodes in the hippocampus and was not included in the analysis\n",
      "Progress: 99 % done, subject:  R1541T\n",
      "subject R1542J session 0 has no electrodes in the hippocampus and was not included in the analysis\n",
      "Progress: 99 % done, subject:  R1542J\n",
      "subject R1542J session 1 has no electrodes in the hippocampus and was not included in the analysis\n",
      "Progress: 100 % done, subject:  R1542J\n"
     ]
    }
   ],
   "source": [
    "## iEEG data - trial level\n",
    "# from scipy.io import loadmat\n",
    "\n",
    "for i in range(0,len(subject_info)):  \n",
    "    \n",
    "    if i==240 and exp=='catFR1': #problematic eeg loading..\n",
    "        removed_subject=removed_subject.append({'subject':sub, 'sessions':sess,'montage':mont,'reason for exclusion':'No hippocampal electrodes'},ignore_index=True)\n",
    "        continue\n",
    "    sub = subject_info.iloc[i]['subject']\n",
    "    exp = subject_info.iloc[i]['experiment']\n",
    "    sess= int(subject_info.iloc[i]['session']) \n",
    "    mont= int(subject_info.iloc[i]['montage'])\n",
    "    loc=  int(subject_info.iloc[i]['localization']) # mostly 0  \n",
    "    assert len(set(subject_info.iloc[i]['trials for analysis']) & set(subject_info.iloc[i]['<>verbalization_trials'] ))==0 # make sure there's no overlapping trials\n",
    "    trials= subject_info.iloc[i]['trials for analysis'] +subject_info.iloc[i]['<>verbalization_trials']   \n",
    "    \n",
    "    reader = CMLReader(sub, exp, sess, montage=mont, localization=loc)\n",
    "    evs = reader.load('task_events')\n",
    "    evs=add_output_position(evs)\n",
    "      \n",
    "    if len(trials)==0:\n",
    "        continue\n",
    "    chosen_data = evs.loc[trials]\n",
    "    in_list=correctEEGsubjects(sub)\n",
    "    if in_list==True:\n",
    "        chosen_data=correctEEGoffset(sub,sess,exp,reader,chosen_data) # correcting eeg-behavior misalignment\n",
    "    \n",
    "    # load bad electrodes information  \n",
    "    remove_soz_ictal=False #True # decide if True (remove seizure onset zone and interictal) or False (exclude only bad channels)\n",
    "    elec_cats,bad_elec_status=getElecCats(reader)\n",
    "    try:\n",
    "        try:\n",
    "            if exp=='pyFR':\n",
    "                tal_path='/data/eeg/'+sub+'/tal/'+sub+'_talLocs_database_bipol.mat'\n",
    "                df = pd.DataFrame(loadmat(tal_path)['bpTalStruct'][0])\n",
    "                channel_info=[[df['channel'][i][0][0],df['channel'][i][0][1],df['tagName'][i][0],df['Loc5'][i][0]] for i in range(0,len(df))]\n",
    "                pairs=pd.DataFrame(channel_info, columns=['contact_1','contact_2','label','stein.region'])\n",
    "\n",
    "            elif exp=='FR1' or exp=='catFR1' :   \n",
    "                pairs = reader.load('pairs')\n",
    "        except:\n",
    "            from ptsa.data.readers import TalReader\n",
    "            tal_path='/data/eeg/'+sub+'/tal/'+sub+'_talLocs_database_bipol.mat'\n",
    "            tr=TalReader(tal_path)\n",
    "            bp=tr.get_bipolar_pairs().astype([('ch0','U8'),('ch1','U8')]) #list of bipolar pairs\n",
    "            pd.set_option('max_columns',None)\n",
    "            loc1=tr.read()\n",
    "            df=pd.DataFrame.from_records(loc1.tolist(),columns=np.array(loc1.dtype.names))\n",
    "            #loc_df.head()\n",
    "            channel_info=[[df['channel'][i][0],df['channel'][i][1],df['tagName'][i],df['Loc5'][i]] for i in range(0,len(df))]\n",
    "            pairs=pd.DataFrame(channel_info, columns=['contact_1','contact_2','label','stein.region'])\n",
    "\n",
    "        pairs,rows=missing_channels(pairs,exp) # handles missing channels in the data\n",
    "        \n",
    "        #Grab some EEG \n",
    "        buf = 1500  #to remove edge effects during wavelet convolution\n",
    "        eeg = reader.load_eeg(events=chosen_data, rel_start=-4500-buf, rel_stop=1000+buf, scheme=pairs)\n",
    "    except:\n",
    "        print('***sub:',sub,'exp:',exp,' eeg data is not loading')\n",
    "        removed_subject=removed_subject.append({'subject':sub, 'sessions':sess,'montage':mont,'reason for exclusion':'eeg loading problem'},ignore_index=True)\n",
    "        continue\n",
    "    \n",
    "    if sub not in removed_subject[removed_subject['reason for exclusion']== 'eeg loading problem']['subject'].unique():  \n",
    "        # find electrodes in the requested ROI\n",
    "        try:\n",
    "            localizations=reader.load('localizations')\n",
    "        except:\n",
    "            localizations=[]\n",
    "        from regionalizationModule import *\n",
    "        elect_regions=get_elec_regions(localizations,pairs) # John's script        \n",
    "\n",
    "        \n",
    "        mat=np.array(zeros(len(elect_regions[0])))\n",
    "        for word in region_list:\n",
    "            mat=mat+((elect_regions[0]==word)*1)\n",
    "        hipp_index=np.array(mat)>0 # bool mask\n",
    "\n",
    "        \n",
    "        # find bad electrodes\n",
    "        bad_bp_mask = getBadChannels(pairs,elec_cats,remove_soz_ictal)\n",
    "        #concat hippocampus electrodes with good electrodes:\n",
    "        good_bp_mask_bool=bad_bp_mask==0 # good electrodes boolean\n",
    "        good_bp_hipp_mask = good_bp_mask_bool & hipp_index\n",
    "        assert sum(good_bp_hipp_mask) <= sum(hipp_index)\n",
    "\n",
    "        hipp_electrodes=hipp_electrodes.append({'subject':sub,'session':sess,'montage':mont,'localization':loc,'number of hipp electrodes': sum(hipp_index),\n",
    "                                               'number of good hipp electrodes':sum(good_bp_hipp_mask)},ignore_index=True)\n",
    "\n",
    "        if sum(good_bp_hipp_mask)>0:  # if at least one electrode exists  \n",
    "            \n",
    "            # sample rate should be at least 250Hz\n",
    "            sr = round(eeg.samplerate)\n",
    "            if sr <250:\n",
    "                print('***sub:',sub,'exp:',exp,' sample rate is lower than 250 Hz: sr is: ',sr)\n",
    "                removed_subject=removed_subject.append({'subject':sub, 'sessions':sess,'montage':mont,'reason for exclusion':'sample rate is low','sample rate':sr},ignore_index=True)\n",
    "            elif sr >=250:\n",
    "                if sr %100 !=0:\n",
    "                    sr=sr-sr%100\n",
    "                    eeg=eeg.resample(sr)\n",
    "                eeg_ptsa = eeg.to_ptsa()\n",
    "\n",
    "                from ptsa.data.filters import ButterworthFilter\n",
    "                from ptsa.data.filters import MorletWaveletFilter\n",
    "\n",
    "                if sub.startswith('FR'): # Freiburg subjects' line noise is 50Hz\n",
    "                    freq_range = [48., 52.]\n",
    "                else:\n",
    "                    freq_range = [58., 62.]\n",
    "\n",
    "                b_filter = ButterworthFilter(timeseries=eeg_ptsa, freq_range=freq_range, filt_type='stop', order=4)\n",
    "                eeg_filtered = b_filter.filter()\n",
    "\n",
    "                # Zero values in the eeg data will become -inf under log transform. \n",
    "                bad_channels=[]\n",
    "                good_channels=[]\n",
    "                for channel in range(0,eeg_filtered.shape[1]):\n",
    "                    if all(np.array(eeg_filtered[:,channel,:])==0): # bad electrodes with zeros\n",
    "                        bad_channels.append(channel)\n",
    "                for chan in range(0,eeg_filtered.shape[1]):\n",
    "                    if chan not in bad_channels:\n",
    "                        good_channels.append(chan)\n",
    "                eeg_filtered = eeg_filtered[:,good_channels,:]\n",
    "\n",
    "                #Get spectral power\n",
    "                myfreqs = np.logspace(np.log10(2), np.log10(100), 46)  #2-100 Hz, 46 frequencies\n",
    "                wf = MorletWaveletFilter(timeseries=eeg_filtered, freqs=myfreqs, width=6, output='power') \n",
    "                pow_wavelet = wf.filter()   #output is freqs, events, elecs, and time\n",
    "                pows = pow_wavelet[:, :, :, int((buf/1000.)*sr):-1*int((buf/1000.)*sr)]  #remove buffer period\n",
    "                pows = np.log10(pows) # get log of powers. # powes time is 2750 samples, corresponding to 2750/500=5,500ms. # in some versions use:np.log10(pows.data) instead.\n",
    "\n",
    "                    # split to events:\n",
    "                correct_recall_serial_index=[]\n",
    "                ELIs_serial_index=[]\n",
    "                PLIs_serial_index=[]\n",
    "                All_intrusions_serial_index=[]\n",
    "                deliberation_serial_index=[]\n",
    "                related_intrusions_serial_index=[]\n",
    "                nonrelated_intrusions_serial_index=[]\n",
    "                if any(chosen_data.columns=='item_name'): # in the pyFR and FR/catFR this column has a different name \n",
    "                        item='item_name'\n",
    "                elif any(chosen_data.columns=='item'):\n",
    "                        item='item'\n",
    "                for ii in range(0,len(chosen_data)):\n",
    "                    intrusion_value=chosen_data['intrusion'].iloc[ii]\n",
    "                    semantic_boolean=chosen_data['semantic_relatedness'].iloc[ii]\n",
    "                    word=chosen_data[item].iloc[ii]\n",
    "                    if intrusion_value==0:\n",
    "                        correct_recall_serial_index.append(ii)\n",
    "                        deliberation_serial_index.append(ii)\n",
    "                    elif intrusion_value==-1 and word!='<>': \n",
    "                        ELIs_serial_index.append(ii)\n",
    "                        All_intrusions_serial_index.append(ii)\n",
    "                        deliberation_serial_index.append(ii)\n",
    "                        if semantic_boolean==1:\n",
    "                            related_intrusions_serial_index.append(ii)\n",
    "                        elif semantic_boolean==0:\n",
    "                            nonrelated_intrusions_serial_index.append(ii)\n",
    "                            \n",
    "                    elif intrusion_value==-1 and word=='<>': \n",
    "                        deliberation_serial_index.append(ii)\n",
    "                    elif intrusion_value>0:\n",
    "                        PLIs_serial_index.append(ii)\n",
    "                        All_intrusions_serial_index.append(ii)\n",
    "                        deliberation_serial_index.append(ii)\n",
    "                        if semantic_boolean==1:\n",
    "                            related_intrusions_serial_index.append(ii)\n",
    "                        elif semantic_boolean==0:\n",
    "                            nonrelated_intrusions_serial_index.append(ii)\n",
    "  \n",
    "                assert len(chosen_data)>=len(PLIs_serial_index+ELIs_serial_index+correct_recall_serial_index),'there is an error in the calculation of events serial index' \n",
    "                assert len(All_intrusions_serial_index)==len(ELIs_serial_index)+len(PLIs_serial_index),'error in All_intrusions_serial_index calculation'\n",
    "                assert len(chosen_data)==len(deliberation_serial_index),'error in deliberation_serial_index calculation'\n",
    "\n",
    "                excluded_channels=excluded_channels.append({'subject':sub,'session':sess,'montage':mont,'localization':loc,'number of hipp electrodes': sum(hipp_index),\n",
    "                                                            'number of good ROI electrodes':sum(good_bp_hipp_mask),\n",
    "                                                            'channels without data': bad_channels,\n",
    "                                                            'number of correct recalls': len(correct_recall_serial_index),\n",
    "                                                           'number of intrusions': len(All_intrusions_serial_index),\n",
    "                                                           'number of deliberations': len(deliberation_serial_index),\n",
    "                                                           'number of ELI':len(ELIs_serial_index),\n",
    "                                                           'number of PLI':len(PLIs_serial_index),\n",
    "                                                           'loading bad electrodes': bad_elec_status,\n",
    "                                                           'sample rate': sr},ignore_index=True)\n",
    "\n",
    "                #Reshape array into 100 ms bins with a 50ms sliding window\n",
    "                time_window=int(100/1000*sr) # convert 100ms to samples\n",
    "                sliding_time=int(50/1000*sr) # convert 50ms to samples\n",
    "                time_windows=[(k,k+time_window) for k in range(0,pows.shape[3]+1-time_window+1,sliding_time)] # 50ms sliding window is 25 samples\n",
    "                if len(time_windows)==108: # i=49 terminated before 2750 sample\n",
    "                    time_windows.append((time_windows[-1][0]+sliding_time,pows.shape[3]))\n",
    "                avg_pows=np.zeros([pows.shape[0],pows.shape[1],pows.shape[2],len(time_windows)])*np.nan # initialize to nans\n",
    "                index=0\n",
    "                for start,end in time_windows:\n",
    "                    avg_pows[:,:,:,index]=np.mean(pows[:,:,:,start:end],axis=3)\n",
    "                    index=index+1        \n",
    "\n",
    "                average_events_time=np.mean(avg_pows,axis=(1,3))\n",
    "                standard_deviation_event_time=np.std(avg_pows,axis=(1,3)) # here I compute std across events and time\n",
    "                z_pows=np.zeros([avg_pows.shape[0],avg_pows.shape[1],avg_pows.shape[2],avg_pows.shape[3]])*np.nan\n",
    "                for freq in range(0,average_events_time.shape[0]):\n",
    "                    for electrode in range(0,average_events_time.shape[1]):\n",
    "                        z_pows[freq,:,electrode,:]=(avg_pows[freq,:,electrode,:]-average_events_time[freq][electrode])/standard_deviation_event_time[freq][electrode]\n",
    "\n",
    "                if any(isnan(z_pows)):\n",
    "                    print('NaNs in subject: ',sub, 'session: ', sess, 'montage: ',mont, ' index loop: ',i)\n",
    "\n",
    "\n",
    "        #         #SPLIT THE DATA TO EVENTS and average them\n",
    "                pows_correct_recall=z_pows[:,correct_recall_serial_index,:,:] # avergae over all events\n",
    "                pows_PLI=z_pows[:,PLIs_serial_index,:,:]\n",
    "                pows_ELI=z_pows[:,ELIs_serial_index,:,:]\n",
    "                pows_all_intrusions= z_pows[:,All_intrusions_serial_index,:,:]\n",
    "                pows_deliberation = z_pows[:,deliberation_serial_index,:,:] \n",
    "                pows_related_intrusions = z_pows[:,related_intrusions_serial_index,:,:] \n",
    "                pows_nonrelated_intrusions = z_pows[:,nonrelated_intrusions_serial_index,:,:] \n",
    "\n",
    "                # Average over ROI electrodes\n",
    "                if len(bad_channels)>0:\n",
    "                    hipp_index=numpy.delete(hipp_index, bad_channels)\n",
    "                    good_bp_hipp_mask=numpy.delete(good_bp_hipp_mask, bad_channels)\n",
    "                if sum(good_bp_hipp_mask)>0:\n",
    "                    correct_recall_meanPower_hippo=np.mean(pows_correct_recall[:,:,good_bp_hipp_mask,:],axis=2)\n",
    "                    PLI_meanPower_hippo=np.mean(pows_PLI[:,:,good_bp_hipp_mask,:],axis=2)\n",
    "                    ELI_meanPower_hippo=np.mean(pows_ELI[:,:,good_bp_hipp_mask,:],axis=2)\n",
    "                    all_intrusions_meanPower_hippo=np.mean(pows_all_intrusions[:,:,good_bp_hipp_mask,:],axis=2)\n",
    "                    deliberation_meanPower_hippo=np.mean(pows_deliberation[:,:,good_bp_hipp_mask,:],axis=2)\n",
    "                    related_intrusions_meanPower_roi=np.mean(pows_related_intrusions[:,:,good_bp_hipp_mask,:],axis=2)\n",
    "                    nonrelated_intrusions_meanPower_roi=np.mean(pows_nonrelated_intrusions[:,:,good_bp_hipp_mask,:],axis=2)\n",
    "\n",
    "\n",
    "                    try:\n",
    "                        assert deliberation_meanPower_hippo.shape[2]== 109,'deliberation dimensions inaccurate for subject '+sub+' index: '+str(i)+' session: '+str(sess)\n",
    "                        assert all_intrusions_meanPower_hippo.shape[2] == 109,'all_intrusions dimensions inaccurate for subject '+sub+' index: '+str(i)+' session: '+str(sess)\n",
    "                        assert correct_recall_meanPower_hippo.shape[2] == 109,'correct_recall dimensions inaccurate for subject '+sub+' index: '+str(i)+' session: '+str(sess)\n",
    "                    except:\n",
    "                        print(sub, 'session:', sess, 'montage:', mont, 'time dimension is not 109. Check it out, index:', i)\n",
    "\n",
    "                    # the output has: 46 frequencies x trials x 109 time windows    \n",
    "                    correct_recall_hipp_pows.append(correct_recall_meanPower_hippo)\n",
    "                    PLI_num=sum(subject_info[subject_info['subject']==sub]['number of prior-list intrusions'])\n",
    "                    ELI_num=sum(subject_info[subject_info['subject']==sub]['number of extra-list intrusions'])\n",
    "                    if PLI_num>=5 and ELI_num>=5:\n",
    "                        PLI_hipp_pows.append(PLI_meanPower_hippo)\n",
    "                        ELI_hipp_pows.append(ELI_meanPower_hippo)\n",
    "                    all_intrusions_hipp_pows.append(all_intrusions_meanPower_hippo)\n",
    "                    deliberation_hipp_pows.append(deliberation_meanPower_hippo)\n",
    "                    related_intrusions_roi_pows.append(related_intrusions_meanPower_roi)\n",
    "                    nonrelated_intrusions_roi_pows.append(nonrelated_intrusions_meanPower_roi)\n",
    "                    \n",
    "                    # record output position of chosen events AND semantic similarity:\n",
    "                    evs_counter=evs_counter+1\n",
    "                    correct_recall_output_position.append(chosen_data.iloc[correct_recall_serial_index]['output position'])\n",
    "                    all_intrusions_output_position.append(chosen_data.iloc[All_intrusions_serial_index]['output position'])\n",
    "                    deliberation_output_position.append(chosen_data.iloc[deliberation_serial_index]['output position'])\n",
    "                    related_intrusions_position.append(chosen_data.iloc[related_intrusions_serial_index]['output position'])\n",
    "                    nonrelated_intrusions_position.append(chosen_data.iloc[nonrelated_intrusions_serial_index]['output position'])\n",
    "                    \n",
    "                    if exp == 'catFR1':\n",
    "                        correct_recall_semantic_similarity.append(chosen_data.iloc[correct_recall_serial_index]['semantic_similarity'])\n",
    "                        all_intrusions_semantic_similarity.append(chosen_data.iloc[All_intrusions_serial_index]['semantic_similarity'])\n",
    "                        deliberation_semantic_similarity.append(chosen_data.iloc[deliberation_serial_index]['semantic_similarity'])\n",
    "                        related_intrusions_semantic_similarity.append(chosen_data.iloc[related_intrusions_serial_index]['semantic_similarity'])\n",
    "                        nonrelated_intrusions_semantic_similarity.append(chosen_data.iloc[nonrelated_intrusions_serial_index]['semantic_similarity'])\n",
    "\n",
    "                        correct_recall_semantic_relatedness.append(chosen_data.iloc[correct_recall_serial_index]['semantic_relatedness'])\n",
    "                        all_intrusions_semantic_relatedness.append(chosen_data.iloc[All_intrusions_serial_index]['semantic_relatedness'])\n",
    "                        deliberation_semantic_relatedness.append(chosen_data.iloc[deliberation_serial_index]['semantic_relatedness'])\n",
    "                        related_intrusions_semantic_relatedness.append(chosen_data.iloc[related_intrusions_serial_index]['semantic_relatedness'])\n",
    "                        nonrelated_intrusions_semantic_relatedness.append(chosen_data.iloc[nonrelated_intrusions_serial_index]['semantic_relatedness'])\n",
    "\n",
    "                    if PLI_num>=5 and ELI_num>=5:\n",
    "                        intusion_counter=intusion_counter+1\n",
    "                        PLI_output_position.append(chosen_data.iloc[PLIs_serial_index]['output position'])\n",
    "                        ELI_output_position.append(chosen_data.iloc[ELIs_serial_index]['output position'])\n",
    "                        PLI_ELIsubs_inserted_to_analysis=PLI_ELIsubs_inserted_to_analysis.append({'subject':sub,'session':sess,'montage':mont,'localization':loc},ignore_index=True)\n",
    "                        if exp == 'catFR1':\n",
    "                            PLI_semantic_similarity.append(chosen_data.iloc[PLIs_serial_index]['semantic_similarity'])\n",
    "                            ELI_semantic_similarity.append(chosen_data.iloc[ELIs_serial_index]['semantic_similarity'])\n",
    "                            PLI_semantic_relatedness.append(chosen_data.iloc[PLIs_serial_index]['semantic_relatedness'])\n",
    "                            ELI_semantic_relatedness.append(chosen_data.iloc[ELIs_serial_index]['semantic_relatedness'])\n",
    "                            \n",
    "                    assert len(correct_recall_hipp_pows[evs_counter][0])==len(correct_recall_output_position[evs_counter]) # will work only if loop begins with 0 (i above)\n",
    "                    if PLI_num>=5 and ELI_num>=5:\n",
    "                        assert len(PLI_hipp_pows[intusion_counter][0])==len(PLI_output_position[intusion_counter])\n",
    "                        assert len(ELI_hipp_pows[intusion_counter][0])==len(ELI_output_position[intusion_counter])\n",
    "                    assert len(all_intrusions_hipp_pows[evs_counter][0])==len(all_intrusions_output_position[evs_counter])\n",
    "                    assert len(deliberation_hipp_pows[evs_counter][0])==len(deliberation_output_position[evs_counter])\n",
    "                    \n",
    "                    subs_inserted_to_analysis=subs_inserted_to_analysis.append({'subject':sub,'session':sess,'montage':mont,'localization':loc},ignore_index=True)\n",
    "        else:\n",
    "            print('subject',sub, 'session', sess, 'has no electrodes in the hippocampus and was not included in the analysis')\n",
    "            removed_subject=removed_subject.append({'subject':sub, 'sessions':sess,'montage':mont,'reason for exclusion':'No hippocampal electrodes'},ignore_index=True)\n",
    "    print('Progress:', int((i+1)/len(subject_info)*100),'% done, subject: ',sub)"
   ]
  }
 ],
 "metadata": {
  "kernelspec": {
   "display_name": "cml3",
   "language": "python",
   "name": "cml3"
  },
  "language_info": {
   "codemirror_mode": {
    "name": "ipython",
    "version": 3
   },
   "file_extension": ".py",
   "mimetype": "text/x-python",
   "name": "python",
   "nbconvert_exporter": "python",
   "pygments_lexer": "ipython3",
   "version": "3.7.7"
  }
 },
 "nbformat": 4,
 "nbformat_minor": 5
}
